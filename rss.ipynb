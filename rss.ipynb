{
  "nbformat": 4,
  "nbformat_minor": 0,
  "metadata": {
    "colab": {
      "provenance": [],
      "include_colab_link": true
    },
    "kernelspec": {
      "name": "python3",
      "display_name": "Python 3"
    },
    "language_info": {
      "name": "python"
    }
  },
  "cells": [
    {
      "cell_type": "markdown",
      "metadata": {
        "id": "view-in-github",
        "colab_type": "text"
      },
      "source": [
        "<a href=\"https://colab.research.google.com/github/aidyai/rss-ai/blob/main/rss.ipynb\" target=\"_parent\"><img src=\"https://colab.research.google.com/assets/colab-badge.svg\" alt=\"Open In Colab\"/></a>"
      ]
    },
    {
      "cell_type": "code",
      "source": [
        "%pip install --upgrade --quiet  apify-client langchain-openai langchain\n",
        "!pip install feedparser newspaper3k openai\n",
        "#!pip install openai==0.28\n",
        "!pip install replicate"
      ],
      "metadata": {
        "id": "y0OflDvi93wl",
        "colab": {
          "base_uri": "https://localhost:8080/"
        },
        "outputId": "39ffa252-444b-4a84-f8ab-08712f6480dd"
      },
      "execution_count": 1,
      "outputs": [
        {
          "output_type": "stream",
          "name": "stdout",
          "text": [
            "\u001b[2K     \u001b[90m━━━━━━━━━━━━━━━━━━━━━━━━━━━━━━━━━━━━━━━━\u001b[0m \u001b[32m71.1/71.1 kB\u001b[0m \u001b[31m1.9 MB/s\u001b[0m eta \u001b[36m0:00:00\u001b[0m\n",
            "\u001b[2K     \u001b[90m━━━━━━━━━━━━━━━━━━━━━━━━━━━━━━━━━━━━━━━━\u001b[0m \u001b[32m973.5/973.5 kB\u001b[0m \u001b[31m11.3 MB/s\u001b[0m eta \u001b[36m0:00:00\u001b[0m\n",
            "\u001b[2K     \u001b[90m━━━━━━━━━━━━━━━━━━━━━━━━━━━━━━━━━━━━━━━━\u001b[0m \u001b[32m75.6/75.6 kB\u001b[0m \u001b[31m6.0 MB/s\u001b[0m eta \u001b[36m0:00:00\u001b[0m\n",
            "\u001b[2K     \u001b[90m━━━━━━━━━━━━━━━━━━━━━━━━━━━━━━━━━━━━━━━━\u001b[0m \u001b[32m310.2/310.2 kB\u001b[0m \u001b[31m10.9 MB/s\u001b[0m eta \u001b[36m0:00:00\u001b[0m\n",
            "\u001b[2K     \u001b[90m━━━━━━━━━━━━━━━━━━━━━━━━━━━━━━━━━━━━━━━━\u001b[0m \u001b[32m320.7/320.7 kB\u001b[0m \u001b[31m13.2 MB/s\u001b[0m eta \u001b[36m0:00:00\u001b[0m\n",
            "\u001b[2K     \u001b[90m━━━━━━━━━━━━━━━━━━━━━━━━━━━━━━━━━━━━━━━━\u001b[0m \u001b[32m1.1/1.1 MB\u001b[0m \u001b[31m19.7 MB/s\u001b[0m eta \u001b[36m0:00:00\u001b[0m\n",
            "\u001b[2K     \u001b[90m━━━━━━━━━━━━━━━━━━━━━━━━━━━━━━━━━━━━━━━━\u001b[0m \u001b[32m124.4/124.4 kB\u001b[0m \u001b[31m7.5 MB/s\u001b[0m eta \u001b[36m0:00:00\u001b[0m\n",
            "\u001b[2K     \u001b[90m━━━━━━━━━━━━━━━━━━━━━━━━━━━━━━━━━━━━━━━━\u001b[0m \u001b[32m77.9/77.9 kB\u001b[0m \u001b[31m5.2 MB/s\u001b[0m eta \u001b[36m0:00:00\u001b[0m\n",
            "\u001b[2K     \u001b[90m━━━━━━━━━━━━━━━━━━━━━━━━━━━━━━━━━━━━━━━━\u001b[0m \u001b[32m58.3/58.3 kB\u001b[0m \u001b[31m3.7 MB/s\u001b[0m eta \u001b[36m0:00:00\u001b[0m\n",
            "\u001b[2K     \u001b[90m━━━━━━━━━━━━━━━━━━━━━━━━━━━━━━━━━━━━━━━━\u001b[0m \u001b[32m53.0/53.0 kB\u001b[0m \u001b[31m2.9 MB/s\u001b[0m eta \u001b[36m0:00:00\u001b[0m\n",
            "\u001b[2K     \u001b[90m━━━━━━━━━━━━━━━━━━━━━━━━━━━━━━━━━━━━━━━━\u001b[0m \u001b[32m142.5/142.5 kB\u001b[0m \u001b[31m2.4 MB/s\u001b[0m eta \u001b[36m0:00:00\u001b[0m\n",
            "\u001b[?25hCollecting feedparser\n",
            "  Downloading feedparser-6.0.11-py3-none-any.whl (81 kB)\n",
            "\u001b[2K     \u001b[90m━━━━━━━━━━━━━━━━━━━━━━━━━━━━━━━━━━━━━━━━\u001b[0m \u001b[32m81.3/81.3 kB\u001b[0m \u001b[31m3.3 MB/s\u001b[0m eta \u001b[36m0:00:00\u001b[0m\n",
            "\u001b[?25hCollecting newspaper3k\n",
            "  Downloading newspaper3k-0.2.8-py3-none-any.whl (211 kB)\n",
            "\u001b[2K     \u001b[90m━━━━━━━━━━━━━━━━━━━━━━━━━━━━━━━━━━━━━━━━\u001b[0m \u001b[32m211.1/211.1 kB\u001b[0m \u001b[31m8.4 MB/s\u001b[0m eta \u001b[36m0:00:00\u001b[0m\n",
            "\u001b[?25hRequirement already satisfied: openai in /usr/local/lib/python3.10/dist-packages (1.30.5)\n",
            "Collecting sgmllib3k (from feedparser)\n",
            "  Downloading sgmllib3k-1.0.0.tar.gz (5.8 kB)\n",
            "  Preparing metadata (setup.py) ... \u001b[?25l\u001b[?25hdone\n",
            "Requirement already satisfied: beautifulsoup4>=4.4.1 in /usr/local/lib/python3.10/dist-packages (from newspaper3k) (4.12.3)\n",
            "Requirement already satisfied: Pillow>=3.3.0 in /usr/local/lib/python3.10/dist-packages (from newspaper3k) (9.4.0)\n",
            "Requirement already satisfied: PyYAML>=3.11 in /usr/local/lib/python3.10/dist-packages (from newspaper3k) (6.0.1)\n",
            "Collecting cssselect>=0.9.2 (from newspaper3k)\n",
            "  Downloading cssselect-1.2.0-py2.py3-none-any.whl (18 kB)\n",
            "Requirement already satisfied: lxml>=3.6.0 in /usr/local/lib/python3.10/dist-packages (from newspaper3k) (4.9.4)\n",
            "Requirement already satisfied: nltk>=3.2.1 in /usr/local/lib/python3.10/dist-packages (from newspaper3k) (3.8.1)\n",
            "Requirement already satisfied: requests>=2.10.0 in /usr/local/lib/python3.10/dist-packages (from newspaper3k) (2.31.0)\n",
            "Collecting tldextract>=2.0.1 (from newspaper3k)\n",
            "  Downloading tldextract-5.1.2-py3-none-any.whl (97 kB)\n",
            "\u001b[2K     \u001b[90m━━━━━━━━━━━━━━━━━━━━━━━━━━━━━━━━━━━━━━━━\u001b[0m \u001b[32m97.6/97.6 kB\u001b[0m \u001b[31m9.0 MB/s\u001b[0m eta \u001b[36m0:00:00\u001b[0m\n",
            "\u001b[?25hCollecting feedfinder2>=0.0.4 (from newspaper3k)\n",
            "  Downloading feedfinder2-0.0.4.tar.gz (3.3 kB)\n",
            "  Preparing metadata (setup.py) ... \u001b[?25l\u001b[?25hdone\n",
            "Collecting jieba3k>=0.35.1 (from newspaper3k)\n",
            "  Downloading jieba3k-0.35.1.zip (7.4 MB)\n",
            "\u001b[2K     \u001b[90m━━━━━━━━━━━━━━━━━━━━━━━━━━━━━━━━━━━━━━━━\u001b[0m \u001b[32m7.4/7.4 MB\u001b[0m \u001b[31m27.7 MB/s\u001b[0m eta \u001b[36m0:00:00\u001b[0m\n",
            "\u001b[?25h  Preparing metadata (setup.py) ... \u001b[?25l\u001b[?25hdone\n",
            "Requirement already satisfied: python-dateutil>=2.5.3 in /usr/local/lib/python3.10/dist-packages (from newspaper3k) (2.8.2)\n",
            "Collecting tinysegmenter==0.3 (from newspaper3k)\n",
            "  Downloading tinysegmenter-0.3.tar.gz (16 kB)\n",
            "  Preparing metadata (setup.py) ... \u001b[?25l\u001b[?25hdone\n",
            "Requirement already satisfied: anyio<5,>=3.5.0 in /usr/local/lib/python3.10/dist-packages (from openai) (3.7.1)\n",
            "Requirement already satisfied: distro<2,>=1.7.0 in /usr/lib/python3/dist-packages (from openai) (1.7.0)\n",
            "Requirement already satisfied: httpx<1,>=0.23.0 in /usr/local/lib/python3.10/dist-packages (from openai) (0.27.0)\n",
            "Requirement already satisfied: pydantic<3,>=1.9.0 in /usr/local/lib/python3.10/dist-packages (from openai) (2.7.2)\n",
            "Requirement already satisfied: sniffio in /usr/local/lib/python3.10/dist-packages (from openai) (1.3.1)\n",
            "Requirement already satisfied: tqdm>4 in /usr/local/lib/python3.10/dist-packages (from openai) (4.66.4)\n",
            "Requirement already satisfied: typing-extensions<5,>=4.7 in /usr/local/lib/python3.10/dist-packages (from openai) (4.12.0)\n",
            "Requirement already satisfied: idna>=2.8 in /usr/local/lib/python3.10/dist-packages (from anyio<5,>=3.5.0->openai) (3.7)\n",
            "Requirement already satisfied: exceptiongroup in /usr/local/lib/python3.10/dist-packages (from anyio<5,>=3.5.0->openai) (1.2.1)\n",
            "Requirement already satisfied: soupsieve>1.2 in /usr/local/lib/python3.10/dist-packages (from beautifulsoup4>=4.4.1->newspaper3k) (2.5)\n",
            "Requirement already satisfied: six in /usr/local/lib/python3.10/dist-packages (from feedfinder2>=0.0.4->newspaper3k) (1.16.0)\n",
            "Requirement already satisfied: certifi in /usr/local/lib/python3.10/dist-packages (from httpx<1,>=0.23.0->openai) (2024.2.2)\n",
            "Requirement already satisfied: httpcore==1.* in /usr/local/lib/python3.10/dist-packages (from httpx<1,>=0.23.0->openai) (1.0.5)\n",
            "Requirement already satisfied: h11<0.15,>=0.13 in /usr/local/lib/python3.10/dist-packages (from httpcore==1.*->httpx<1,>=0.23.0->openai) (0.14.0)\n",
            "Requirement already satisfied: click in /usr/local/lib/python3.10/dist-packages (from nltk>=3.2.1->newspaper3k) (8.1.7)\n",
            "Requirement already satisfied: joblib in /usr/local/lib/python3.10/dist-packages (from nltk>=3.2.1->newspaper3k) (1.4.2)\n",
            "Requirement already satisfied: regex>=2021.8.3 in /usr/local/lib/python3.10/dist-packages (from nltk>=3.2.1->newspaper3k) (2024.5.15)\n",
            "Requirement already satisfied: annotated-types>=0.4.0 in /usr/local/lib/python3.10/dist-packages (from pydantic<3,>=1.9.0->openai) (0.7.0)\n",
            "Requirement already satisfied: pydantic-core==2.18.3 in /usr/local/lib/python3.10/dist-packages (from pydantic<3,>=1.9.0->openai) (2.18.3)\n",
            "Requirement already satisfied: charset-normalizer<4,>=2 in /usr/local/lib/python3.10/dist-packages (from requests>=2.10.0->newspaper3k) (3.3.2)\n",
            "Requirement already satisfied: urllib3<3,>=1.21.1 in /usr/local/lib/python3.10/dist-packages (from requests>=2.10.0->newspaper3k) (2.0.7)\n",
            "Collecting requests-file>=1.4 (from tldextract>=2.0.1->newspaper3k)\n",
            "  Downloading requests_file-2.1.0-py2.py3-none-any.whl (4.2 kB)\n",
            "Requirement already satisfied: filelock>=3.0.8 in /usr/local/lib/python3.10/dist-packages (from tldextract>=2.0.1->newspaper3k) (3.14.0)\n",
            "Building wheels for collected packages: tinysegmenter, feedfinder2, jieba3k, sgmllib3k\n",
            "  Building wheel for tinysegmenter (setup.py) ... \u001b[?25l\u001b[?25hdone\n",
            "  Created wheel for tinysegmenter: filename=tinysegmenter-0.3-py3-none-any.whl size=13538 sha256=8cd6c2d1d547e328e98f06605bf9f5eb3e50f5143eed2446191fcef8336ee67c\n",
            "  Stored in directory: /root/.cache/pip/wheels/c8/d6/6c/384f58df48c00b9a31d638005143b5b3ac62c3d25fb1447f23\n",
            "  Building wheel for feedfinder2 (setup.py) ... \u001b[?25l\u001b[?25hdone\n",
            "  Created wheel for feedfinder2: filename=feedfinder2-0.0.4-py3-none-any.whl size=3340 sha256=540b4bbf4e0cc25a2dd1d7494db567968102f19078add0c2526c12efbd21e3f2\n",
            "  Stored in directory: /root/.cache/pip/wheels/97/02/e7/a1ff1760e12bdbaab0ac824fae5c1bc933e41c4ccd6a8f8edb\n",
            "  Building wheel for jieba3k (setup.py) ... \u001b[?25l\u001b[?25hdone\n",
            "  Created wheel for jieba3k: filename=jieba3k-0.35.1-py3-none-any.whl size=7398382 sha256=7621eb78c4e10b45cc94de8a8da70c8011050599bc8174b74ecf9b24dcbac11a\n",
            "  Stored in directory: /root/.cache/pip/wheels/7a/c4/0c/12a9a314ecac499456c4c3b2fcc2f635a3b45a39dfbd240299\n",
            "  Building wheel for sgmllib3k (setup.py) ... \u001b[?25l\u001b[?25hdone\n",
            "  Created wheel for sgmllib3k: filename=sgmllib3k-1.0.0-py3-none-any.whl size=6049 sha256=f4adc81f3177f16b7bb915bee9b180ff7bc5a1f00ec086e786a07feae9d502c1\n",
            "  Stored in directory: /root/.cache/pip/wheels/f0/69/93/a47e9d621be168e9e33c7ce60524393c0b92ae83cf6c6e89c5\n",
            "Successfully built tinysegmenter feedfinder2 jieba3k sgmllib3k\n",
            "Installing collected packages: tinysegmenter, sgmllib3k, jieba3k, feedparser, cssselect, requests-file, feedfinder2, tldextract, newspaper3k\n",
            "Successfully installed cssselect-1.2.0 feedfinder2-0.0.4 feedparser-6.0.11 jieba3k-0.35.1 newspaper3k-0.2.8 requests-file-2.1.0 sgmllib3k-1.0.0 tinysegmenter-0.3 tldextract-5.1.2\n",
            "Collecting replicate\n",
            "  Downloading replicate-0.26.0-py3-none-any.whl (40 kB)\n",
            "\u001b[2K     \u001b[90m━━━━━━━━━━━━━━━━━━━━━━━━━━━━━━━━━━━━━━━━\u001b[0m \u001b[32m40.0/40.0 kB\u001b[0m \u001b[31m171.5 kB/s\u001b[0m eta \u001b[36m0:00:00\u001b[0m\n",
            "\u001b[?25hRequirement already satisfied: httpx<1,>=0.21.0 in /usr/local/lib/python3.10/dist-packages (from replicate) (0.27.0)\n",
            "Requirement already satisfied: packaging in /usr/local/lib/python3.10/dist-packages (from replicate) (23.2)\n",
            "Requirement already satisfied: pydantic>1.10.7 in /usr/local/lib/python3.10/dist-packages (from replicate) (2.7.2)\n",
            "Requirement already satisfied: typing-extensions>=4.5.0 in /usr/local/lib/python3.10/dist-packages (from replicate) (4.12.0)\n",
            "Requirement already satisfied: anyio in /usr/local/lib/python3.10/dist-packages (from httpx<1,>=0.21.0->replicate) (3.7.1)\n",
            "Requirement already satisfied: certifi in /usr/local/lib/python3.10/dist-packages (from httpx<1,>=0.21.0->replicate) (2024.2.2)\n",
            "Requirement already satisfied: httpcore==1.* in /usr/local/lib/python3.10/dist-packages (from httpx<1,>=0.21.0->replicate) (1.0.5)\n",
            "Requirement already satisfied: idna in /usr/local/lib/python3.10/dist-packages (from httpx<1,>=0.21.0->replicate) (3.7)\n",
            "Requirement already satisfied: sniffio in /usr/local/lib/python3.10/dist-packages (from httpx<1,>=0.21.0->replicate) (1.3.1)\n",
            "Requirement already satisfied: h11<0.15,>=0.13 in /usr/local/lib/python3.10/dist-packages (from httpcore==1.*->httpx<1,>=0.21.0->replicate) (0.14.0)\n",
            "Requirement already satisfied: annotated-types>=0.4.0 in /usr/local/lib/python3.10/dist-packages (from pydantic>1.10.7->replicate) (0.7.0)\n",
            "Requirement already satisfied: pydantic-core==2.18.3 in /usr/local/lib/python3.10/dist-packages (from pydantic>1.10.7->replicate) (2.18.3)\n",
            "Requirement already satisfied: exceptiongroup in /usr/local/lib/python3.10/dist-packages (from anyio->httpx<1,>=0.21.0->replicate) (1.2.1)\n",
            "Installing collected packages: replicate\n",
            "Successfully installed replicate-0.26.0\n"
          ]
        }
      ]
    },
    {
      "cell_type": "code",
      "source": [
        "from langchain.indexes import VectorstoreIndexCreator\n",
        "from langchain_community.utilities import ApifyWrapper\n",
        "from langchain_core.documents import Document\n",
        "\n",
        "import feedparser\n",
        "import requests\n",
        "from bs4 import BeautifulSoup\n",
        "import openai\n",
        "from newspaper import Article"
      ],
      "metadata": {
        "id": "4Z5ch9luxTih"
      },
      "execution_count": null,
      "outputs": []
    },
    {
      "cell_type": "code",
      "source": [
        "import os\n",
        "os.environ[\"APIFY_API_TOKEN\"] = \"\"\n",
        "os.environ[\"OPENAI_API_KEY\"] = \"\"\n"
      ],
      "metadata": {
        "id": "eb4VGy4JyC5h"
      },
      "execution_count": null,
      "outputs": []
    },
    {
      "cell_type": "markdown",
      "source": [
        "## ARTICLE EXTRACTION: This code only extracts onearticle but can be modified to work for the latest 10, 50 or 20 articles"
      ],
      "metadata": {
        "id": "NQ8cXLmVKMCw"
      }
    },
    {
      "cell_type": "code",
      "source": [
        "# RSS feed URL\n",
        "rss_feed_url = 'https://news.google.com/rss/search?q=akwa%20ibom&hl=en-US&gl=US&ceid=US%3Aen'\n",
        "\n",
        "# Parse the RSS feed\n",
        "feed = feedparser.parse(rss_feed_url)\n",
        "\n",
        "# Get the latest just one articles\n",
        "latest_articles = feed.entries[8:9]   # we just yse one for speed"
      ],
      "metadata": {
        "id": "rXW2h3SD3cBf"
      },
      "execution_count": null,
      "outputs": []
    },
    {
      "cell_type": "code",
      "source": [
        "print(latest_articles)"
      ],
      "metadata": {
        "colab": {
          "base_uri": "https://localhost:8080/"
        },
        "id": "PL8pWJmsMJrL",
        "outputId": "27135e01-f737-492e-f1e4-5dd402fc7bd8"
      },
      "execution_count": null,
      "outputs": [
        {
          "output_type": "stream",
          "name": "stdout",
          "text": [
            "[{'title': 'Akpabio To Eno: You have a divine duty to unite Akwa Ibom People - Champion Newspapers', 'title_detail': {'type': 'text/plain', 'language': None, 'base': 'https://news.google.com/rss/search?q=akwa%20ibom&hl=en-US&gl=US&ceid=US%3Aen', 'value': 'Akpabio To Eno: You have a divine duty to unite Akwa Ibom People - Champion Newspapers'}, 'links': [{'rel': 'alternate', 'type': 'text/html', 'href': 'https://news.google.com/rss/articles/CBMiXGh0dHBzOi8vY2hhbXBpb25uZXdzLmNvbS5uZy9ha3BhYmlvLXRvLWVuby15b3UtaGF2ZS1hLWRpdmluZS1kdXR5LXRvLXVuaXRlLWFrd2EtaWJvbS1wZW9wbGUv0gEA?oc=5'}], 'link': 'https://news.google.com/rss/articles/CBMiXGh0dHBzOi8vY2hhbXBpb25uZXdzLmNvbS5uZy9ha3BhYmlvLXRvLWVuby15b3UtaGF2ZS1hLWRpdmluZS1kdXR5LXRvLXVuaXRlLWFrd2EtaWJvbS1wZW9wbGUv0gEA?oc=5', 'id': 'CBMiXGh0dHBzOi8vY2hhbXBpb25uZXdzLmNvbS5uZy9ha3BhYmlvLXRvLWVuby15b3UtaGF2ZS1hLWRpdmluZS1kdXR5LXRvLXVuaXRlLWFrd2EtaWJvbS1wZW9wbGUv0gEA', 'guidislink': False, 'published': 'Sat, 04 May 2024 16:27:45 GMT', 'published_parsed': time.struct_time(tm_year=2024, tm_mon=5, tm_mday=4, tm_hour=16, tm_min=27, tm_sec=45, tm_wday=5, tm_yday=125, tm_isdst=0), 'summary': '<a href=\"https://news.google.com/rss/articles/CBMiXGh0dHBzOi8vY2hhbXBpb25uZXdzLmNvbS5uZy9ha3BhYmlvLXRvLWVuby15b3UtaGF2ZS1hLWRpdmluZS1kdXR5LXRvLXVuaXRlLWFrd2EtaWJvbS1wZW9wbGUv0gEA?oc=5\" target=\"_blank\">Akpabio To Eno: You have a divine duty to unite Akwa Ibom People</a>&nbsp;&nbsp;<font color=\"#6f6f6f\">Champion Newspapers</font>', 'summary_detail': {'type': 'text/html', 'language': None, 'base': 'https://news.google.com/rss/search?q=akwa%20ibom&hl=en-US&gl=US&ceid=US%3Aen', 'value': '<a href=\"https://news.google.com/rss/articles/CBMiXGh0dHBzOi8vY2hhbXBpb25uZXdzLmNvbS5uZy9ha3BhYmlvLXRvLWVuby15b3UtaGF2ZS1hLWRpdmluZS1kdXR5LXRvLXVuaXRlLWFrd2EtaWJvbS1wZW9wbGUv0gEA?oc=5\" target=\"_blank\">Akpabio To Eno: You have a divine duty to unite Akwa Ibom People</a>&nbsp;&nbsp;<font color=\"#6f6f6f\">Champion Newspapers</font>'}, 'source': {'href': 'https://championnews.com.ng', 'title': 'Champion Newspapers'}}]\n"
          ]
        }
      ]
    },
    {
      "cell_type": "code",
      "source": [
        "apify = ApifyWrapper()"
      ],
      "metadata": {
        "id": "ERFb7-OOxcHz"
      },
      "execution_count": null,
      "outputs": []
    },
    {
      "cell_type": "code",
      "source": [
        "title = []\n",
        "urls_to_crawl = []\n",
        "\n",
        "for article in latest_articles:\n",
        "\n",
        "    # extracting the title and article URL\n",
        "    title = article.title\n",
        "    article_url = article.link\n",
        "\n",
        "\n",
        "\n",
        "    # Appending the article title and URL\n",
        "    #title.append({\"title\": title})\n",
        "    urls_to_crawl.append({\"url\": article_url})"
      ],
      "metadata": {
        "id": "eiRa4Kz34drb"
      },
      "execution_count": null,
      "outputs": []
    },
    {
      "cell_type": "code",
      "source": [
        "print(urls_to_crawl)"
      ],
      "metadata": {
        "colab": {
          "base_uri": "https://localhost:8080/"
        },
        "id": "4mdeP7pTMUaZ",
        "outputId": "3825c6c3-142f-44b9-8316-7d56094fb94a"
      },
      "execution_count": null,
      "outputs": [
        {
          "output_type": "stream",
          "name": "stdout",
          "text": [
            "[{'url': 'https://news.google.com/rss/articles/CBMiXGh0dHBzOi8vY2hhbXBpb25uZXdzLmNvbS5uZy9ha3BhYmlvLXRvLWVuby15b3UtaGF2ZS1hLWRpdmluZS1kdXR5LXRvLXVuaXRlLWFrd2EtaWJvbS1wZW9wbGUv0gEA?oc=5'}]\n"
          ]
        }
      ]
    },
    {
      "cell_type": "code",
      "source": [
        "#this functions looks into the urls_to_crawl and extracts its text\n",
        "loader = apify.call_actor(\n",
        "    actor_id=\"apify/website-content-crawler\",\n",
        "    run_input={\"startUrls\": urls_to_crawl},\n",
        "    dataset_mapping_function=lambda item: Document(\n",
        "        page_content=item[\"text\"] or \"\", metadata={\"source\": item[\"url\"]}\n",
        "    ),\n",
        ")"
      ],
      "metadata": {
        "id": "5HUb_oiQMBAP"
      },
      "execution_count": null,
      "outputs": []
    },
    {
      "cell_type": "markdown",
      "source": [
        "# Extracting the title, article_url and article_text for the latest 10 articles"
      ],
      "metadata": {
        "id": "50cIC3aBIHpu"
      }
    },
    {
      "cell_type": "code",
      "source": [
        "print(title)                      #EXTRACTED TITLE\n",
        "print(urls_to_crawl)              #EXTRACTED URL\n",
        "\n",
        "article_text = loader.load()\n",
        "article_text                      #EXTRACTED ARTICLE TEXY"
      ],
      "metadata": {
        "colab": {
          "base_uri": "https://localhost:8080/"
        },
        "id": "W5gfC4ajI7wB",
        "outputId": "4fa5aaf6-fb85-4d96-f441-f4ed9e1e11e0"
      },
      "execution_count": null,
      "outputs": [
        {
          "output_type": "stream",
          "name": "stdout",
          "text": [
            "Akpabio To Eno: You have a divine duty to unite Akwa Ibom People - Champion Newspapers\n",
            "[{'url': 'https://news.google.com/rss/articles/CBMiXGh0dHBzOi8vY2hhbXBpb25uZXdzLmNvbS5uZy9ha3BhYmlvLXRvLWVuby15b3UtaGF2ZS1hLWRpdmluZS1kdXR5LXRvLXVuaXRlLWFrd2EtaWJvbS1wZW9wbGUv0gEA?oc=5'}]\n"
          ]
        },
        {
          "output_type": "execute_result",
          "data": {
            "text/plain": [
              "[Document(page_content='President of the Senate, Godswill Akpabio has charged the Akwa Ibom State Governor, Pastor Umo Eno, on the need to unite the state across party lines for the continued development and progress of the state and not make his father’s enemies his enemies.\\nHe described the Governor as a man of peace and an Apostle and disciple of peace, noting, “Akwa Ibom is a very easy state to rule and govern but also a very difficult place to unite.”\\nAkpabio gave the charge while on a courtesy visit to the Governor in his office, in Uyo on Friday.\\nA statement by his Special Assistant on Media, Jackson Udom, quoted the Senate President as saying, “it is a major duty bestowed on you by God to unite the whole state. Let your actions speak unity to the the state. As a governor, I united the state by appointing people into key positions without considering where they came from.\\n“I want you to unite your people without any political considerations. Even if you inherited a policy that was not in the best interest of the state, have the courage to change it.”\\nThe former Governor advised Governor Eno to see himself as a surgeon in governance with three attributes of being brave as a Lion, soft in heart as a maiden and having the eye of an eagle, to see what others can’t see.\\n“Do not inherit the enemies of your father, make your friends and enemies by yourself and remember always that it is one thing for you to get to the top and you must learn the balancing act in order to remain at the top.”\\nSpeaking further, Akpabio noted, “we are very happy to be here in your Council Chambers. Akwa Ibom is a state of class. I will like all states in Nigeria to be like us. With what I have seen here today, the act, speaks for itself. Thank you for the warm reception and private audience you had with me, which I will communicate to President Bola Tinubu.\\n“I want to extend the felicitations of the Federal Government to the Government and people of Akwa Ibom State and I want to assure you that if there is anything the Federal Government would do for other state governments, Akwa Ibom State will also be highly considered for same.”\\nAccording to the Senate President, “because of the love and honour you have shown us today, and the respect my colleagues have for me, all your requests for the National Assembly’s interventions shall be duly considered.\\n“My prayer for you is that since you have decided to maintain the projects executed by others, God will also give you the strength to put in place legacies that will outlive you. From the airport to the Government House, we saw no pot hole. It shows that you have keyed into the maintenance culture of the Bola Tinubu- led government”\\nHe admonished Governor Eno to beware of confusionists around him, saying, “I have seen some faces of those who will add value to your government and those who will add confusion, but all must come together for the betterment of the state. Elections are over, we are now into governance. We must work together in the overall interest of Akwa Ibom people.”\\n“I am here today as the Senate President of Nigeria, through God and the support of my colleagues here. I owe them a lot and I go no where without them.”\\nIn his welcome address, Governor Eno, thanked the Senate President and his colleagues for visiting the state and more importantly, the seat of power. He thanked President Tinubu and the Senators “for rallying round our son and beckone of light to make him the President of the 10th Senate. That is our joy and our pride”\\nAccording to him, “I welcome our distinguished Senators led by our son, the Senate President to Akwa Ibom State. Since the creation of this state, we have been blessed with very patriotic and dedicated leaders from the days of Obong Attah, to the uncommon era of my grandfather father; the Senate President to-date.\\n“Past governors before me, did a lot for the state during their times, all we have to do now, is to maintain those facilities and also put in place some infrastructures where necessary.\\n“As a government, we will continue to partner with you and President Tinubu. Your love and commitment to the unity of our dear state is enough to put the state on a high pedestal of development. God brought me at this time, by His grace to bring about the reconciliation of his people. As they say, united we stand, divided we fall. If we must get anything for our state at the federal level and want our state to remain the envy of others, we have no alternative than work together as a team.”\\nFor a better society\\n—————————————————————–\\nKindly follow us across all our social media platforms to stay up-to-date with the latest news and happenings in Nigeria and across the globe.\\nFacebook – https://facebook.com/championnewsonline\\nInstagram – https://instagram.com/championnewsonline\\nTwitter– @championnewsng', metadata={'source': 'https://news.google.com/rss/articles/CBMiXGh0dHBzOi8vY2hhbXBpb25uZXdzLmNvbS5uZy9ha3BhYmlvLXRvLWVuby15b3UtaGF2ZS1hLWRpdmluZS1kdXR5LXRvLXVuaXRlLWFrd2EtaWJvbS1wZW9wbGUv0gEA?oc=5'})]"
            ]
          },
          "metadata": {},
          "execution_count": 59
        }
      ]
    },
    {
      "cell_type": "code",
      "source": [
        "import json\n",
        "# Extracting content from the list\n",
        "extracted_content = [document.page_content for document in article_text]"
      ],
      "metadata": {
        "id": "oC-PHsTlDbT2"
      },
      "execution_count": null,
      "outputs": []
    },
    {
      "cell_type": "code",
      "source": [
        "extracted_content"
      ],
      "metadata": {
        "colab": {
          "base_uri": "https://localhost:8080/"
        },
        "id": "PIYFLATzLR5D",
        "outputId": "2ae06661-a87b-40c3-aeea-d2f8584256ab"
      },
      "execution_count": null,
      "outputs": [
        {
          "output_type": "execute_result",
          "data": {
            "text/plain": [
              "['President of the Senate, Godswill Akpabio has charged the Akwa Ibom State Governor, Pastor Umo Eno, on the need to unite the state across party lines for the continued development and progress of the state and not make his father’s enemies his enemies.\\nHe described the Governor as a man of peace and an Apostle and disciple of peace, noting, “Akwa Ibom is a very easy state to rule and govern but also a very difficult place to unite.”\\nAkpabio gave the charge while on a courtesy visit to the Governor in his office, in Uyo on Friday.\\nA statement by his Special Assistant on Media, Jackson Udom, quoted the Senate President as saying, “it is a major duty bestowed on you by God to unite the whole state. Let your actions speak unity to the the state. As a governor, I united the state by appointing people into key positions without considering where they came from.\\n“I want you to unite your people without any political considerations. Even if you inherited a policy that was not in the best interest of the state, have the courage to change it.”\\nThe former Governor advised Governor Eno to see himself as a surgeon in governance with three attributes of being brave as a Lion, soft in heart as a maiden and having the eye of an eagle, to see what others can’t see.\\n“Do not inherit the enemies of your father, make your friends and enemies by yourself and remember always that it is one thing for you to get to the top and you must learn the balancing act in order to remain at the top.”\\nSpeaking further, Akpabio noted, “we are very happy to be here in your Council Chambers. Akwa Ibom is a state of class. I will like all states in Nigeria to be like us. With what I have seen here today, the act, speaks for itself. Thank you for the warm reception and private audience you had with me, which I will communicate to President Bola Tinubu.\\n“I want to extend the felicitations of the Federal Government to the Government and people of Akwa Ibom State and I want to assure you that if there is anything the Federal Government would do for other state governments, Akwa Ibom State will also be highly considered for same.”\\nAccording to the Senate President, “because of the love and honour you have shown us today, and the respect my colleagues have for me, all your requests for the National Assembly’s interventions shall be duly considered.\\n“My prayer for you is that since you have decided to maintain the projects executed by others, God will also give you the strength to put in place legacies that will outlive you. From the airport to the Government House, we saw no pot hole. It shows that you have keyed into the maintenance culture of the Bola Tinubu- led government”\\nHe admonished Governor Eno to beware of confusionists around him, saying, “I have seen some faces of those who will add value to your government and those who will add confusion, but all must come together for the betterment of the state. Elections are over, we are now into governance. We must work together in the overall interest of Akwa Ibom people.”\\n“I am here today as the Senate President of Nigeria, through God and the support of my colleagues here. I owe them a lot and I go no where without them.”\\nIn his welcome address, Governor Eno, thanked the Senate President and his colleagues for visiting the state and more importantly, the seat of power. He thanked President Tinubu and the Senators “for rallying round our son and beckone of light to make him the President of the 10th Senate. That is our joy and our pride”\\nAccording to him, “I welcome our distinguished Senators led by our son, the Senate President to Akwa Ibom State. Since the creation of this state, we have been blessed with very patriotic and dedicated leaders from the days of Obong Attah, to the uncommon era of my grandfather father; the Senate President to-date.\\n“Past governors before me, did a lot for the state during their times, all we have to do now, is to maintain those facilities and also put in place some infrastructures where necessary.\\n“As a government, we will continue to partner with you and President Tinubu. Your love and commitment to the unity of our dear state is enough to put the state on a high pedestal of development. God brought me at this time, by His grace to bring about the reconciliation of his people. As they say, united we stand, divided we fall. If we must get anything for our state at the federal level and want our state to remain the envy of others, we have no alternative than work together as a team.”\\nFor a better society\\n—————————————————————–\\nKindly follow us across all our social media platforms to stay up-to-date with the latest news and happenings in Nigeria and across the globe.\\nFacebook – https://facebook.com/championnewsonline\\nInstagram – https://instagram.com/championnewsonline\\nTwitter– @championnewsng']"
            ]
          },
          "metadata": {},
          "execution_count": 61
        }
      ]
    },
    {
      "cell_type": "code",
      "source": [
        "import openai\n",
        "# Send the content to OpenAI to get topic and category tags\n",
        "response = openai.Completion.create(\n",
        "    model=\"gpt-3.5-turbo-instruct\",\n",
        "    prompt=extracted_content,\n",
        "    max_tokens=50,  # Adjust as needed\n",
        "    n=1,  # Number of completions to generate\n",
        "    stop=[\"\\n\"],  # Stop completion at the end of the text\n",
        "    temperature=0.5,  # Adjust as needed\n",
        "    top_p=1.0,\n",
        "    frequency_penalty=0.0,\n",
        "    presence_penalty=0.0,\n",
        "    logit_bias={},\n",
        "    logprobs=0,\n",
        "    echo=True  # Print the input prompt along with the completion\n",
        ")\n"
      ],
      "metadata": {
        "id": "tOpY9oDeAKOU"
      },
      "execution_count": null,
      "outputs": []
    },
    {
      "cell_type": "markdown",
      "source": [
        "# USING REPLICATE API TO CALL POWERFUL LARGE LANGUAGE MODELS"
      ],
      "metadata": {
        "id": "UKfMIX5F_xc-"
      }
    },
    {
      "cell_type": "code",
      "source": [
        "import replicate"
      ],
      "metadata": {
        "id": "u-D_wSK1_-vp"
      },
      "execution_count": null,
      "outputs": []
    },
    {
      "cell_type": "code",
      "source": [
        "import os\n",
        "import replicate\n",
        "from replicate.client import Client\n",
        "\n",
        "replicate = Client(api_token=\"\")"
      ],
      "metadata": {
        "id": "2yPWvXVw_XHp"
      },
      "execution_count": null,
      "outputs": []
    },
    {
      "cell_type": "markdown",
      "source": [
        "## USING MISTRAL 8x7B via Replicate Api"
      ],
      "metadata": {
        "id": "LaCLrs3rFpUx"
      }
    },
    {
      "cell_type": "code",
      "source": [
        "for event in replicate.stream(\n",
        "    \"mistralai/mixtral-8x7b-instruct-v0.1\",\n",
        "    input={\n",
        "        \"top_k\": 50,\n",
        "        \"top_p\": 0.9,\n",
        "        \"prompt\": f\"Generate 5 'TOPIC TAGS' AND 'CATEGPRY TAGS' for the given article\\ {extracted_content}\",\n",
        "        \"temperature\": 0.6,\n",
        "        \"system_prompt\": \"YOU ARE AN AI ASSIATAT THAT CAN GENERATE topic tags AND  article category tags\",\n",
        "        \"length_penalty\": 1,\n",
        "        \"max_new_tokens\": 1024,\n",
        "        \"prompt_template\": \"<s>[INST] {prompt} [/INST] \",\n",
        "        \"presence_penalty\": 0\n",
        "    },\n",
        "):\n",
        "    print(str(event), end=\"\")"
      ],
      "metadata": {
        "colab": {
          "base_uri": "https://localhost:8080/",
          "height": 393
        },
        "id": "xEPAbW0mBrTg",
        "outputId": "0da7b0d1-bce1-4fdc-bae0-f094d012c7c6"
      },
      "execution_count": null,
      "outputs": [
        {
          "output_type": "error",
          "ename": "ReplicateError",
          "evalue": "ReplicateError Details:\ntitle: Free time limit reached\nstatus: 402\ndetail: You have reached the free time limit. To continue using Replicate, set up billing at https://replicate.com/account/billing#billing.",
          "traceback": [
            "\u001b[0;31m---------------------------------------------------------------------------\u001b[0m",
            "\u001b[0;31mReplicateError\u001b[0m                            Traceback (most recent call last)",
            "\u001b[0;32m<ipython-input-64-0db96da4040e>\u001b[0m in \u001b[0;36m<cell line: 1>\u001b[0;34m()\u001b[0m\n\u001b[0;32m----> 1\u001b[0;31m for event in replicate.stream(\n\u001b[0m\u001b[1;32m      2\u001b[0m     \u001b[0;34m\"mistralai/mixtral-8x7b-instruct-v0.1\"\u001b[0m\u001b[0;34m,\u001b[0m\u001b[0;34m\u001b[0m\u001b[0;34m\u001b[0m\u001b[0m\n\u001b[1;32m      3\u001b[0m     input={\n\u001b[1;32m      4\u001b[0m         \u001b[0;34m\"top_k\"\u001b[0m\u001b[0;34m:\u001b[0m \u001b[0;36m50\u001b[0m\u001b[0;34m,\u001b[0m\u001b[0;34m\u001b[0m\u001b[0;34m\u001b[0m\u001b[0m\n\u001b[1;32m      5\u001b[0m         \u001b[0;34m\"top_p\"\u001b[0m\u001b[0;34m:\u001b[0m \u001b[0;36m0.9\u001b[0m\u001b[0;34m,\u001b[0m\u001b[0;34m\u001b[0m\u001b[0;34m\u001b[0m\u001b[0m\n",
            "\u001b[0;32m/usr/local/lib/python3.10/dist-packages/replicate/stream.py\u001b[0m in \u001b[0;36mstream\u001b[0;34m(client, ref, input, **params)\u001b[0m\n\u001b[1;32m    189\u001b[0m         )\n\u001b[1;32m    190\u001b[0m     \u001b[0;32melif\u001b[0m \u001b[0mowner\u001b[0m \u001b[0;32mand\u001b[0m \u001b[0mname\u001b[0m\u001b[0;34m:\u001b[0m\u001b[0;34m\u001b[0m\u001b[0;34m\u001b[0m\u001b[0m\n\u001b[0;32m--> 191\u001b[0;31m         prediction = client.models.predictions.create(\n\u001b[0m\u001b[1;32m    192\u001b[0m             \u001b[0mmodel\u001b[0m\u001b[0;34m=\u001b[0m\u001b[0;34m(\u001b[0m\u001b[0mowner\u001b[0m\u001b[0;34m,\u001b[0m \u001b[0mname\u001b[0m\u001b[0;34m)\u001b[0m\u001b[0;34m,\u001b[0m \u001b[0minput\u001b[0m\u001b[0;34m=\u001b[0m\u001b[0minput\u001b[0m \u001b[0;32mor\u001b[0m \u001b[0;34m{\u001b[0m\u001b[0;34m}\u001b[0m\u001b[0;34m,\u001b[0m \u001b[0;34m**\u001b[0m\u001b[0mparams\u001b[0m\u001b[0;34m\u001b[0m\u001b[0;34m\u001b[0m\u001b[0m\n\u001b[1;32m    193\u001b[0m         )\n",
            "\u001b[0;32m/usr/local/lib/python3.10/dist-packages/replicate/model.py\u001b[0m in \u001b[0;36mcreate\u001b[0;34m(self, model, input, **params)\u001b[0m\n\u001b[1;32m    308\u001b[0m         \u001b[0mbody\u001b[0m \u001b[0;34m=\u001b[0m \u001b[0m_create_prediction_body\u001b[0m\u001b[0;34m(\u001b[0m\u001b[0mversion\u001b[0m\u001b[0;34m=\u001b[0m\u001b[0;32mNone\u001b[0m\u001b[0;34m,\u001b[0m \u001b[0minput\u001b[0m\u001b[0;34m=\u001b[0m\u001b[0minput\u001b[0m\u001b[0;34m,\u001b[0m \u001b[0;34m**\u001b[0m\u001b[0mparams\u001b[0m\u001b[0;34m)\u001b[0m\u001b[0;34m\u001b[0m\u001b[0;34m\u001b[0m\u001b[0m\n\u001b[1;32m    309\u001b[0m \u001b[0;34m\u001b[0m\u001b[0m\n\u001b[0;32m--> 310\u001b[0;31m         resp = self._client._request(\n\u001b[0m\u001b[1;32m    311\u001b[0m             \u001b[0;34m\"POST\"\u001b[0m\u001b[0;34m,\u001b[0m\u001b[0;34m\u001b[0m\u001b[0;34m\u001b[0m\u001b[0m\n\u001b[1;32m    312\u001b[0m             \u001b[0murl\u001b[0m\u001b[0;34m,\u001b[0m\u001b[0;34m\u001b[0m\u001b[0;34m\u001b[0m\u001b[0m\n",
            "\u001b[0;32m/usr/local/lib/python3.10/dist-packages/replicate/client.py\u001b[0m in \u001b[0;36m_request\u001b[0;34m(self, method, path, **kwargs)\u001b[0m\n\u001b[1;32m     85\u001b[0m     \u001b[0;32mdef\u001b[0m \u001b[0m_request\u001b[0m\u001b[0;34m(\u001b[0m\u001b[0mself\u001b[0m\u001b[0;34m,\u001b[0m \u001b[0mmethod\u001b[0m\u001b[0;34m:\u001b[0m \u001b[0mstr\u001b[0m\u001b[0;34m,\u001b[0m \u001b[0mpath\u001b[0m\u001b[0;34m:\u001b[0m \u001b[0mstr\u001b[0m\u001b[0;34m,\u001b[0m \u001b[0;34m**\u001b[0m\u001b[0mkwargs\u001b[0m\u001b[0;34m)\u001b[0m \u001b[0;34m->\u001b[0m \u001b[0mhttpx\u001b[0m\u001b[0;34m.\u001b[0m\u001b[0mResponse\u001b[0m\u001b[0;34m:\u001b[0m\u001b[0;34m\u001b[0m\u001b[0;34m\u001b[0m\u001b[0m\n\u001b[1;32m     86\u001b[0m         \u001b[0mresp\u001b[0m \u001b[0;34m=\u001b[0m \u001b[0mself\u001b[0m\u001b[0;34m.\u001b[0m\u001b[0m_client\u001b[0m\u001b[0;34m.\u001b[0m\u001b[0mrequest\u001b[0m\u001b[0;34m(\u001b[0m\u001b[0mmethod\u001b[0m\u001b[0;34m,\u001b[0m \u001b[0mpath\u001b[0m\u001b[0;34m,\u001b[0m \u001b[0;34m**\u001b[0m\u001b[0mkwargs\u001b[0m\u001b[0;34m)\u001b[0m\u001b[0;34m\u001b[0m\u001b[0;34m\u001b[0m\u001b[0m\n\u001b[0;32m---> 87\u001b[0;31m         \u001b[0m_raise_for_status\u001b[0m\u001b[0;34m(\u001b[0m\u001b[0mresp\u001b[0m\u001b[0;34m)\u001b[0m\u001b[0;34m\u001b[0m\u001b[0;34m\u001b[0m\u001b[0m\n\u001b[0m\u001b[1;32m     88\u001b[0m \u001b[0;34m\u001b[0m\u001b[0m\n\u001b[1;32m     89\u001b[0m         \u001b[0;32mreturn\u001b[0m \u001b[0mresp\u001b[0m\u001b[0;34m\u001b[0m\u001b[0;34m\u001b[0m\u001b[0m\n",
            "\u001b[0;32m/usr/local/lib/python3.10/dist-packages/replicate/client.py\u001b[0m in \u001b[0;36m_raise_for_status\u001b[0;34m(resp)\u001b[0m\n\u001b[1;32m    365\u001b[0m \u001b[0;32mdef\u001b[0m \u001b[0m_raise_for_status\u001b[0m\u001b[0;34m(\u001b[0m\u001b[0mresp\u001b[0m\u001b[0;34m:\u001b[0m \u001b[0mhttpx\u001b[0m\u001b[0;34m.\u001b[0m\u001b[0mResponse\u001b[0m\u001b[0;34m)\u001b[0m \u001b[0;34m->\u001b[0m \u001b[0;32mNone\u001b[0m\u001b[0;34m:\u001b[0m\u001b[0;34m\u001b[0m\u001b[0;34m\u001b[0m\u001b[0m\n\u001b[1;32m    366\u001b[0m     \u001b[0;32mif\u001b[0m \u001b[0;36m400\u001b[0m \u001b[0;34m<=\u001b[0m \u001b[0mresp\u001b[0m\u001b[0;34m.\u001b[0m\u001b[0mstatus_code\u001b[0m \u001b[0;34m<\u001b[0m \u001b[0;36m600\u001b[0m\u001b[0;34m:\u001b[0m\u001b[0;34m\u001b[0m\u001b[0;34m\u001b[0m\u001b[0m\n\u001b[0;32m--> 367\u001b[0;31m         \u001b[0;32mraise\u001b[0m \u001b[0mReplicateError\u001b[0m\u001b[0;34m.\u001b[0m\u001b[0mfrom_response\u001b[0m\u001b[0;34m(\u001b[0m\u001b[0mresp\u001b[0m\u001b[0;34m)\u001b[0m\u001b[0;34m\u001b[0m\u001b[0;34m\u001b[0m\u001b[0m\n\u001b[0m",
            "\u001b[0;31mReplicateError\u001b[0m: ReplicateError Details:\ntitle: Free time limit reached\nstatus: 402\ndetail: You have reached the free time limit. To continue using Replicate, set up billing at https://replicate.com/account/billing#billing."
          ]
        }
      ]
    },
    {
      "cell_type": "markdown",
      "source": [
        "## USING METAS LLAMA 3 Via Replicate Api"
      ],
      "metadata": {
        "id": "hLiOwxjvF1Ok"
      }
    },
    {
      "cell_type": "code",
      "source": [
        "for event in replicate.stream(\n",
        "    \"meta/meta-llama-3-70b-instruct\",\n",
        "    input={\n",
        "        \"top_k\": 0,\n",
        "        \"top_p\": 0.9,\n",
        "        \"prompt\": f\"Generate 5 'TOPIC TAGS' AND 'CATEGPRY TAGS' for the given article\\ {extracted_content}\",\n",
        "        \"max_tokens\": 650,\n",
        "        \"min_tokens\": 0,\n",
        "        \"temperature\": 0.6,\n",
        "        \"system_prompt\": \"YOU ARE AN AI ASSITANT THAT CAN GENERATE topic tags AND article category tags\",\n",
        "        \"length_penalty\": 1,\n",
        "        \"stop_sequences\": \"<|end_of_text|>,<|eot_id|>\",\n",
        "        \"prompt_template\": \"<|begin_of_text|><|start_header_id|>system<|end_header_id|>\\n\\nYou are a helpful assistant<|eot_id|><|start_header_id|>user<|end_header_id|>\\n\\n{prompt}<|eot_id|><|start_header_id|>assistant<|end_header_id|>\\n\\n\",\n",
        "        \"presence_penalty\": 1.15,\n",
        "        \"log_performance_metrics\": False\n",
        "    },\n",
        "):\n",
        "    print(str(event), end=\"\")"
      ],
      "metadata": {
        "colab": {
          "base_uri": "https://localhost:8080/"
        },
        "id": "TLK6pWJVF54H",
        "outputId": "00fa6a5b-22e4-43c1-8000-be460b6d00f0"
      },
      "execution_count": null,
      "outputs": [
        {
          "output_type": "stream",
          "name": "stdout",
          "text": [
            "Here are five topic tags and five category tags for the given article:\n",
            "\n",
            "**Topic Tags:**\n",
            "\n",
            "1. Oil Production\n",
            "2. Nigeria Energy Sector\n",
            "3. NNPC E&P Ltd\n",
            "4. Natural Oilfield Services Ltd\n",
            "5. Oil Mining Lease (OML) 13\n",
            "\n",
            "**Category Tags:**\n",
            "\n",
            "1. Business\n",
            "2. Energy\n",
            "3. Nigeria News\n",
            "4. Oil and Gas\n",
            "5. Economy"
          ]
        }
      ]
    },
    {
      "cell_type": "markdown",
      "source": [],
      "metadata": {
        "id": "cvQpwx0ZFwnv"
      }
    },
    {
      "cell_type": "markdown",
      "source": [
        "## RECIEVES NOTIFICATION"
      ],
      "metadata": {
        "id": "c7tDCcUvsU50"
      }
    },
    {
      "cell_type": "code",
      "source": [
        "def ask_user():\n",
        "    user_input = input(\"Please enter something: \")\n",
        "    print(f\"You entered: {user_input}\")\n"
      ],
      "metadata": {
        "id": "v6awqT31sTih"
      },
      "execution_count": 2,
      "outputs": []
    },
    {
      "cell_type": "code",
      "source": [
        "# Call the function\n",
        "ask_user()\n"
      ],
      "metadata": {
        "id": "nrU1M_WUsefy"
      },
      "execution_count": null,
      "outputs": []
    },
    {
      "cell_type": "code",
      "source": [],
      "metadata": {
        "id": "2MeQL5ijsfN5"
      },
      "execution_count": null,
      "outputs": []
    }
  ]
}