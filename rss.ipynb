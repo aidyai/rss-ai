{
  "nbformat": 4,
  "nbformat_minor": 0,
  "metadata": {
    "colab": {
      "provenance": [],
      "authorship_tag": "ABX9TyOD2lZQzUmuRxDKINvGiKqg",
      "include_colab_link": true
    },
    "kernelspec": {
      "name": "python3",
      "display_name": "Python 3"
    },
    "language_info": {
      "name": "python"
    }
  },
  "cells": [
    {
      "cell_type": "markdown",
      "metadata": {
        "id": "view-in-github",
        "colab_type": "text"
      },
      "source": [
        "<a href=\"https://colab.research.google.com/github/aidyai/rss-ai/blob/main/rss.ipynb\" target=\"_parent\"><img src=\"https://colab.research.google.com/assets/colab-badge.svg\" alt=\"Open In Colab\"/></a>"
      ]
    },
    {
      "cell_type": "code",
      "source": [
        "%pip install --upgrade --quiet  apify-client langchain-openai langchain\n",
        "!pip install feedparser newspaper3k openai\n",
        "!pip install openai==0.28\n",
        "!pip install replicate"
      ],
      "metadata": {
        "id": "y0OflDvi93wl",
        "colab": {
          "base_uri": "https://localhost:8080/"
        },
        "outputId": "c36481db-e6d8-40c0-f534-515264e15011"
      },
      "execution_count": 16,
      "outputs": [
        {
          "output_type": "stream",
          "name": "stdout",
          "text": [
            "Installing collected packages: replicate\n",
            "Successfully installed replicate-0.25.2\n"
          ]
        }
      ]
    },
    {
      "cell_type": "code",
      "source": [
        "from langchain.indexes import VectorstoreIndexCreator\n",
        "from langchain_community.utilities import ApifyWrapper\n",
        "from langchain_core.documents import Document\n",
        "\n",
        "import feedparser\n",
        "import requests\n",
        "from bs4 import BeautifulSoup\n",
        "import openai\n",
        "from newspaper import Article"
      ],
      "metadata": {
        "id": "4Z5ch9luxTih"
      },
      "execution_count": 2,
      "outputs": []
    },
    {
      "cell_type": "code",
      "source": [
        "import os\n",
        "os.environ[\"APIFY_API_TOKEN\"] = \"\"\n",
        "os.environ[\"OPENAI_API_KEY\"] = \"\"\n"
      ],
      "metadata": {
        "id": "eb4VGy4JyC5h"
      },
      "execution_count": 3,
      "outputs": []
    },
    {
      "cell_type": "code",
      "source": [
        "# RSS feed URL\n",
        "rss_feed_url = 'https://news.google.com/rss/search?q=akwa%20ibom&hl=en-US&gl=US&ceid=US%3Aen'\n",
        "\n",
        "# Parse the RSS feed\n",
        "feed = feedparser.parse(rss_feed_url)\n",
        "\n",
        "# Get the latest just one articles\n",
        "latest_articles = feed.entries[4:5]"
      ],
      "metadata": {
        "id": "rXW2h3SD3cBf"
      },
      "execution_count": 8,
      "outputs": []
    },
    {
      "cell_type": "code",
      "source": [
        "apify = ApifyWrapper()"
      ],
      "metadata": {
        "id": "ERFb7-OOxcHz"
      },
      "execution_count": 9,
      "outputs": []
    },
    {
      "cell_type": "code",
      "source": [
        "urls_to_crawl = []\n",
        "# Loop through the latest articles\n",
        "for article in latest_articles:\n",
        "    # Get the title and article URL\n",
        "    title = article.title\n",
        "    article_url = article.link\n",
        "    # Print the article URL\n",
        "    #print(article_url)\n",
        "    # Append the article URL to the list of URLs to crawl\n",
        "    urls_to_crawl.append({\"url\": article_url})\n",
        "\n",
        "# Use the list of URLs to call the Apify actor\n",
        "loader = apify.call_actor(\n",
        "    actor_id=\"apify/website-content-crawler\",\n",
        "    run_input={\"startUrls\": urls_to_crawl},\n",
        "    dataset_mapping_function=lambda item: Document(\n",
        "        page_content=item[\"text\"] or \"\", metadata={\"source\": item[\"url\"]}\n",
        "    ),\n",
        ")"
      ],
      "metadata": {
        "id": "eiRa4Kz34drb"
      },
      "execution_count": 10,
      "outputs": []
    },
    {
      "cell_type": "code",
      "source": [
        "t = loader.load()\n",
        "t"
      ],
      "metadata": {
        "colab": {
          "base_uri": "https://localhost:8080/"
        },
        "id": "HaQ3ZSAk9eEZ",
        "outputId": "37b642bf-7ecf-405f-8e2b-b0d02ad6aeb1"
      },
      "execution_count": 11,
      "outputs": [
        {
          "output_type": "execute_result",
          "data": {
            "text/plain": [
              "[Document(page_content='NNPC Exploration and Production Limited (NNPC E&P Ltd.), NNPC Ltd.’s flagship upstream subsidiary, and Natural Oilfield Services Ltd. (NOSL), a subsidiary of Sterling Oil Exploration & Energy Production Company Ltd. (SEEPCO), have announced the successful commencement of oil production at Oil Mining Lease (OML) 13 in Akwa Ibom State, Nigeria.\\nThis was revealed by the Chief Corporate Communications Officer, NNPC Ltd, Olufemi Soneye.\\nIt reads,” The production, which commenced on the 6th of May 2024, with 6,000 barrels of oil, is expected to be ramped up to 40,000 barrels per day by May 27th, 2024.\\n“The first oil flow from OML 13 is a historic milestone in the partnership between NNPC E&P Ltd and NOSL, highlighting their dedication to driving growth and development in Nigeria’s oil and gas sector, which remains a vital component of the nation’s economy.\\n“The achievement does not only signify the culmination of rigorous planning and execution by the teams involved but also represents a new era of economic empowerment and development opportunities for the host communities.\\n“Furthermore, for Nigeria, the first oil from OML 13 holds some significance as it contributes to the country’s efforts to increase its oil production capacity, which is crucial for meeting domestic energy needs and driving economic growth.\\nALSO READ: Bayelsa: JTF uncovers 50 illegal refining sites at Biseni forest\\n“The NNPC E&P Ltd. and NOSL partnership is also committed to operating in a manner that is safe, environmentally responsible, and beneficial to the local communities.”', metadata={'source': 'https://news.google.com/rss/articles/CBMiQWh0dHBzOi8vdHJpYnVuZW9ubGluZW5nLmNvbS9ubnBjLW5vc2wtaGl0LWZpcnN0LW9pbC1pbi1ha3dhLWlib20v0gEA?oc=5'})]"
            ]
          },
          "metadata": {},
          "execution_count": 11
        }
      ]
    },
    {
      "cell_type": "code",
      "source": [
        "t = loader.load()\n",
        "t"
      ],
      "metadata": {
        "colab": {
          "base_uri": "https://localhost:8080/"
        },
        "id": "SUIBok2Y470p",
        "outputId": "a26de7dc-962f-44ed-df4a-2d0ef6be107b"
      },
      "execution_count": null,
      "outputs": [
        {
          "output_type": "execute_result",
          "data": {
            "text/plain": [
              "[Document(page_content='By Chioma Onuegbu Uyo\\nGOVERNOR Umo Eno has continued to demonstrate his readiness, determination, and commitment to fulfilling his contract with the people of Akwa Ibom State including creating job opportunities and enlarging the path for economic prosperity.\\nAnd the governor at different fora emphasized that for his administration to achieve this contract there was need to revive the entrepreneurial spirit of the people through comprehensive training and support.\\nAccordingly, as an ardent advocate of entrepreneurship development, as soon as he came on board, he hit the ground running, by putting in place variety of initiatives, popular among them is a Business School under the auspices of Ibom-Leadership Entrepreneurial Development (Ibom-LED).\\nThe initiative which has its Headquarters at the E-Library Complex along IBB Avenue Uyo has Pastor ImaAbasi Jacob as the team lead and Mrs Ekaette Umoh as the Director General.\\nAnd according to Ibom-LED team , the initiative was designed to provide skills to make Akwa Ibom economy private sector driven, to move Agriculture from subsistence to commercial, via comprehensive training programmes that covers all aspects of starting managing and scaling a business.\\nAlso the programme was put in place to digitalize the state’s economy and to raise value-based leaders the development of the state.\\nAnd so far the initiative which graduated its first- batch trainees of 400 in December 2023 could be said to be making progress given the number of Akwa Ibo young men and women who have been equipped with the requisite skills and knowledge and also supported with cash grants of N500,000 each to establish themselves and sustain their businesses.\\nIt could be recalled that governor Umo Eno had started off the N500,000 cash grant support to Ibom-LED trainees when he announced the total sum of N250million for the business school in September 2023 at the Made in Akwa Ibom Trade Fair held at the Ibom-Leadership Entrepreneurial Development center.\\nThe governor had explained that N50million was for the registration fee and training of the 400 participants, while five hundred thousand Naira (N500,000) should be disbursed to each trainee as a take-off grants after the completion of the three months Programme.\\nJust last week, governor Umo Eno in his commitment to the success of the programme launched a N400million grant for disbursement to 800 beneficiaries of the Ibom-LED, Entrepreneurship Accelerator Programme (EAP).\\nAdvising the 800 beneficiaries, Eno noted, “I would like to say clearly here, whether this Programme will continue or not depends on you because you are the Ambassadors of this Programme. You are not all totally new in business or entrepreneurship.\\n“I am not concerned about the little SEED that will be put in your hands , but the training you have received. Everything you need to succeed is in your hands. For now don’t be politicians, just be entrepreneurs.\\n” This is an opportunity for you to have a primary address. If you have a primary address politics is secondary, people will respect you for what you do. This little money is a SEED and if you plant it well, it will bring a mighty harvest.\\n” I remember that in this state I opened my Hotel with just 5-rooms and few years later it had grown exponentially. The first thing is that you must make up your mind to succeed”\\nIbom-LED has partnered other organizations within and outside the state such as the Partnership Initiative In the Niger Delta (PIND foundation) and Enterprise Development Center (EDC) based in Lagos state to promote and actualize its training programmes.\\nAnd Ibom-LED is partnering the EDC on capacity building for 10,000 young Akwa Ibom who are 18 to 35years old.\\nAccording to reports in December 2023 PIND foundation, a non-profit organization working with partners to build peace and equitable economic development in the Niger Delta partnered with Ibom-LED to implement the Youths Employment Pathway(YEP) project to expand its reach in Akwa Ibom state.\\nThe skills programme on Technical Training and Leatherwork and Behavioural Skills and Entrepreneurship, aimed at transforming the mindset of the young trainees as well as enhance their enterprise acumen.\\nSpeaking in the state during the signing of Memorandum of Understanding (MoU) recently between the the Entreprise Development Center and Ibom-LED, governor had expressed government readiness for more partnership to realize his vision in entrepreneurship development.\\n“This partnership for me is critical. I thank the EDC for this partnership. And I ask for more of this support so as to realize the vision that we have set out and at the end of it Ibom-LED can truly say we have developed our Small and Medium Entreprises (SMEs)”, Eno had said.\\nThe visible progress of Ibom-LED has started attracting commendations from individuals and groups such as the “Connect Initiative”\\nA statement by Connect Initiative sighted online during the events marking governor Eno’s 60th birthday reads in part, ” Governor Eno has been in the forefront of efforts engendering business and economic growth with the creation of different initiative including the establishment of Ibom Leadership and Entrepreneurial Center aimed at cutting down poverty figures and providing opportunities for youths interested in making a career of their talents.\\n“This this idea of not feeding them fish but teaching them how to fish is commendable”', metadata={'source': 'https://www.vanguardngr.com/2024/05/how-eno-stimulating-akwa-ibom-economy-through-entrepreneurship-development/'})]"
            ]
          },
          "metadata": {},
          "execution_count": 36
        }
      ]
    },
    {
      "cell_type": "code",
      "source": [
        "import json\n",
        "# Extracting content from the list\n",
        "extracted_content = [document.page_content for document in t]"
      ],
      "metadata": {
        "colab": {
          "base_uri": "https://localhost:8080/"
        },
        "id": "oC-PHsTlDbT2",
        "outputId": "5a4be24c-cf03-4137-9fc7-e166b3515e6f"
      },
      "execution_count": 12,
      "outputs": [
        {
          "output_type": "stream",
          "name": "stdout",
          "text": [
            "['NNPC Exploration and Production Limited (NNPC E&P Ltd.), NNPC Ltd.’s flagship upstream subsidiary, and Natural Oilfield Services Ltd. (NOSL), a subsidiary of Sterling Oil Exploration & Energy Production Company Ltd. (SEEPCO), have announced the successful commencement of oil production at Oil Mining Lease (OML) 13 in Akwa Ibom State, Nigeria.\\nThis was revealed by the Chief Corporate Communications Officer, NNPC Ltd, Olufemi Soneye.\\nIt reads,” The production, which commenced on the 6th of May 2024, with 6,000 barrels of oil, is expected to be ramped up to 40,000 barrels per day by May 27th, 2024.\\n“The first oil flow from OML 13 is a historic milestone in the partnership between NNPC E&P Ltd and NOSL, highlighting their dedication to driving growth and development in Nigeria’s oil and gas sector, which remains a vital component of the nation’s economy.\\n“The achievement does not only signify the culmination of rigorous planning and execution by the teams involved but also represents a new era of economic empowerment and development opportunities for the host communities.\\n“Furthermore, for Nigeria, the first oil from OML 13 holds some significance as it contributes to the country’s efforts to increase its oil production capacity, which is crucial for meeting domestic energy needs and driving economic growth.\\nALSO READ: Bayelsa: JTF uncovers 50 illegal refining sites at Biseni forest\\n“The NNPC E&P Ltd. and NOSL partnership is also committed to operating in a manner that is safe, environmentally responsible, and beneficial to the local communities.”']\n"
          ]
        }
      ]
    },
    {
      "cell_type": "code",
      "source": [
        "import openai\n",
        "# Send the content to OpenAI to get topic and category tags\n",
        "response = openai.Completion.create(\n",
        "    model=\"gpt-3.5-turbo-instruct\",\n",
        "    prompt=extracted_content,\n",
        "    max_tokens=50,  # Adjust as needed\n",
        "    n=1,  # Number of completions to generate\n",
        "    stop=[\"\\n\"],  # Stop completion at the end of the text\n",
        "    temperature=0.5,  # Adjust as needed\n",
        "    top_p=1.0,\n",
        "    frequency_penalty=0.0,\n",
        "    presence_penalty=0.0,\n",
        "    logit_bias={},\n",
        "    logprobs=0,\n",
        "    echo=True  # Print the input prompt along with the completion\n",
        ")\n"
      ],
      "metadata": {
        "id": "tOpY9oDeAKOU"
      },
      "execution_count": 13,
      "outputs": []
    },
    {
      "cell_type": "markdown",
      "source": [
        "# USING REPLICATE API TO CALL POWERFUL LARGE LANGUAGE MODELS"
      ],
      "metadata": {
        "id": "UKfMIX5F_xc-"
      }
    },
    {
      "cell_type": "code",
      "source": [
        "import replicate"
      ],
      "metadata": {
        "id": "u-D_wSK1_-vp"
      },
      "execution_count": 17,
      "outputs": []
    },
    {
      "cell_type": "code",
      "source": [
        "import os\n",
        "import replicate\n",
        "from replicate.client import Client\n",
        "\n",
        "replicate = Client(api_token=\"\")\n",
        "\n",
        "#Set the REPLICATE_API_TOKEN environment variable\n",
        "#os.environ[\"REPLICATE_API_TOKEN\"] = \"r8_A8YqxkWaPljHoVOSzEH7zhpjHyACd9i1EJFoM\"\n",
        "#api = replicate.Client(api_token=os.environ[\"REPLICATE_API_TOKEN\"])"
      ],
      "metadata": {
        "id": "2yPWvXVw_XHp"
      },
      "execution_count": 26,
      "outputs": []
    },
    {
      "cell_type": "markdown",
      "source": [
        "## USING MISTRAL 8x7B via Replicate Api"
      ],
      "metadata": {
        "id": "LaCLrs3rFpUx"
      }
    },
    {
      "cell_type": "code",
      "source": [
        "for event in replicate.stream(\n",
        "    \"mistralai/mixtral-8x7b-instruct-v0.1\",\n",
        "    input={\n",
        "        \"top_k\": 50,\n",
        "        \"top_p\": 0.9,\n",
        "        \"prompt\": f\"Generate 5 'TOPIC TAGS' AND 'CATEGPRY TAGS' for the given article\\ {extracted_content}\",\n",
        "        \"temperature\": 0.6,\n",
        "        \"system_prompt\": \"YOU ARE AN AI ASSIATAT THAT CAN GENERATE topic tags AND  article category tags\",\n",
        "        \"length_penalty\": 1,\n",
        "        \"max_new_tokens\": 1024,\n",
        "        \"prompt_template\": \"<s>[INST] {prompt} [/INST] \",\n",
        "        \"presence_penalty\": 0\n",
        "    },\n",
        "):\n",
        "    print(str(event), end=\"\")"
      ],
      "metadata": {
        "id": "xEPAbW0mBrTg",
        "outputId": "40840300-8841-4046-d950-ae7cc7093e09",
        "colab": {
          "base_uri": "https://localhost:8080/"
        }
      },
      "execution_count": 31,
      "outputs": [
        {
          "output_type": "stream",
          "name": "stdout",
          "text": [
            "1. Topic Tags: Oil Production, NNPC, Natural Oilfield Services Ltd, OML 1"
          ]
        }
      ]
    },
    {
      "cell_type": "markdown",
      "source": [
        "## USING METAS LLAMA 3 Via Replicate Api"
      ],
      "metadata": {
        "id": "hLiOwxjvF1Ok"
      }
    },
    {
      "cell_type": "code",
      "source": [
        "for event in replicate.stream(\n",
        "    \"meta/meta-llama-3-70b-instruct\",\n",
        "    input={\n",
        "        \"top_k\": 0,\n",
        "        \"top_p\": 0.9,\n",
        "        \"prompt\": f\"Generate 5 'TOPIC TAGS' AND 'CATEGPRY TAGS' for the given article\\ {extracted_content}\",\n",
        "        \"max_tokens\": 650,\n",
        "        \"min_tokens\": 0,\n",
        "        \"temperature\": 0.6,\n",
        "        \"system_prompt\": \"YOU ARE AN AI ASSITANT THAT CAN GENERATE topic tags AND article category tags\",\n",
        "        \"length_penalty\": 1,\n",
        "        \"stop_sequences\": \"<|end_of_text|>,<|eot_id|>\",\n",
        "        \"prompt_template\": \"<|begin_of_text|><|start_header_id|>system<|end_header_id|>\\n\\nYou are a helpful assistant<|eot_id|><|start_header_id|>user<|end_header_id|>\\n\\n{prompt}<|eot_id|><|start_header_id|>assistant<|end_header_id|>\\n\\n\",\n",
        "        \"presence_penalty\": 1.15,\n",
        "        \"log_performance_metrics\": False\n",
        "    },\n",
        "):\n",
        "    print(str(event), end=\"\")"
      ],
      "metadata": {
        "id": "TLK6pWJVF54H",
        "outputId": "00fa6a5b-22e4-43c1-8000-be460b6d00f0",
        "colab": {
          "base_uri": "https://localhost:8080/"
        }
      },
      "execution_count": 33,
      "outputs": [
        {
          "output_type": "stream",
          "name": "stdout",
          "text": [
            "Here are five topic tags and five category tags for the given article:\n",
            "\n",
            "**Topic Tags:**\n",
            "\n",
            "1. Oil Production\n",
            "2. Nigeria Energy Sector\n",
            "3. NNPC E&P Ltd\n",
            "4. Natural Oilfield Services Ltd\n",
            "5. Oil Mining Lease (OML) 13\n",
            "\n",
            "**Category Tags:**\n",
            "\n",
            "1. Business\n",
            "2. Energy\n",
            "3. Nigeria News\n",
            "4. Oil and Gas\n",
            "5. Economy"
          ]
        }
      ]
    },
    {
      "cell_type": "markdown",
      "source": [],
      "metadata": {
        "id": "cvQpwx0ZFwnv"
      }
    }
  ]
}