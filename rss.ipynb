{
  "nbformat": 4,
  "nbformat_minor": 0,
  "metadata": {
    "colab": {
      "provenance": [],
      "authorship_tag": "ABX9TyNiaCwbGDLCTSg8lCXo60PA",
      "include_colab_link": true
    },
    "kernelspec": {
      "name": "python3",
      "display_name": "Python 3"
    },
    "language_info": {
      "name": "python"
    }
  },
  "cells": [
    {
      "cell_type": "markdown",
      "metadata": {
        "id": "view-in-github",
        "colab_type": "text"
      },
      "source": [
        "<a href=\"https://colab.research.google.com/github/aidyai/rss-ai/blob/main/rss.ipynb\" target=\"_parent\"><img src=\"https://colab.research.google.com/assets/colab-badge.svg\" alt=\"Open In Colab\"/></a>"
      ]
    },
    {
      "cell_type": "code",
      "source": [
        "%pip install --upgrade --quiet  apify-client langchain-openai langchain\n",
        "!pip install feedparser newspaper3k openai\n",
        "!pip install openai==0.28\n",
        "!pip install replicate"
      ],
      "metadata": {
        "id": "y0OflDvi93wl",
        "colab": {
          "base_uri": "https://localhost:8080/"
        },
        "outputId": "c36481db-e6d8-40c0-f534-515264e15011"
      },
      "execution_count": 16,
      "outputs": [
        {
          "output_type": "stream",
          "name": "stdout",
          "text": [
            "Installing collected packages: replicate\n",
            "Successfully installed replicate-0.25.2\n"
          ]
        }
      ]
    },
    {
      "cell_type": "code",
      "source": [
        "from langchain.indexes import VectorstoreIndexCreator\n",
        "from langchain_community.utilities import ApifyWrapper\n",
        "from langchain_core.documents import Document\n",
        "\n",
        "import feedparser\n",
        "import requests\n",
        "from bs4 import BeautifulSoup\n",
        "import openai\n",
        "from newspaper import Article"
      ],
      "metadata": {
        "id": "4Z5ch9luxTih"
      },
      "execution_count": 2,
      "outputs": []
    },
    {
      "cell_type": "code",
      "source": [
        "import os\n",
        "os.environ[\"APIFY_API_TOKEN\"] = \"apify_api_r2J5EYAZ2qOeCTSBDqN3RJ2IraTke911bWjC\"\n",
        "os.environ[\"OPENAI_API_KEY\"] = \"\"\n"
      ],
      "metadata": {
        "id": "eb4VGy4JyC5h"
      },
      "execution_count": 34,
      "outputs": []
    },
    {
      "cell_type": "markdown",
      "source": [
        "## ARTICLE EXTRACTION: This code only extracts onearticle but can be modified to work for the latest 10, 50 or 20 articles"
      ],
      "metadata": {
        "id": "NQ8cXLmVKMCw"
      }
    },
    {
      "cell_type": "code",
      "source": [
        "# RSS feed URL\n",
        "rss_feed_url = 'https://news.google.com/rss/search?q=akwa%20ibom&hl=en-US&gl=US&ceid=US%3Aen'\n",
        "\n",
        "# Parse the RSS feed\n",
        "feed = feedparser.parse(rss_feed_url)\n",
        "\n",
        "# Get the latest just one articles\n",
        "latest_articles = feed.entries[19:20]   # we just yse one for speed"
      ],
      "metadata": {
        "id": "rXW2h3SD3cBf"
      },
      "execution_count": 37,
      "outputs": []
    },
    {
      "cell_type": "code",
      "source": [
        "apify = ApifyWrapper()"
      ],
      "metadata": {
        "id": "ERFb7-OOxcHz"
      },
      "execution_count": 38,
      "outputs": []
    },
    {
      "cell_type": "code",
      "source": [
        "title = []\n",
        "urls_to_crawl = []\n",
        "\n",
        "for article in latest_articles:\n",
        "\n",
        "    # extracting the title and article URL\n",
        "    title = article.title\n",
        "    article_url = article.link\n",
        "\n",
        "\n",
        "\n",
        "    # Appending the article title and URL\n",
        "    #title.append({\"title\": title})\n",
        "    urls_to_crawl.append({\"url\": article_url})\n",
        "\n",
        "\n",
        "#this functions looks into the urls_to_crawl and extracts its text\n",
        "loader = apify.call_actor(\n",
        "    actor_id=\"apify/website-content-crawler\",\n",
        "    run_input={\"startUrls\": urls_to_crawl},\n",
        "    dataset_mapping_function=lambda item: Document(\n",
        "        page_content=item[\"text\"] or \"\", metadata={\"source\": item[\"url\"]}\n",
        "    ),\n",
        ")"
      ],
      "metadata": {
        "id": "eiRa4Kz34drb"
      },
      "execution_count": null,
      "outputs": []
    },
    {
      "cell_type": "markdown",
      "source": [
        "# Extracting the title, article_url and article_text for the latest 10 articles"
      ],
      "metadata": {
        "id": "50cIC3aBIHpu"
      }
    },
    {
      "cell_type": "code",
      "source": [
        "print(title)                      #EXTRACTED TITLE\n",
        "print(urls_to_crawl)              #EXTRACTED URL\n",
        "\n",
        "article_text = loader.load()\n",
        "print(article_text)               #EXTRACTED ARTICLE TEXY"
      ],
      "metadata": {
        "id": "W5gfC4ajI7wB"
      },
      "execution_count": null,
      "outputs": []
    },
    {
      "cell_type": "code",
      "source": [
        "import json\n",
        "# Extracting content from the list\n",
        "extracted_content = [document.page_content for document in article_text]"
      ],
      "metadata": {
        "colab": {
          "base_uri": "https://localhost:8080/"
        },
        "id": "oC-PHsTlDbT2",
        "outputId": "5a4be24c-cf03-4137-9fc7-e166b3515e6f"
      },
      "execution_count": 12,
      "outputs": [
        {
          "output_type": "stream",
          "name": "stdout",
          "text": [
            "['NNPC Exploration and Production Limited (NNPC E&P Ltd.), NNPC Ltd.’s flagship upstream subsidiary, and Natural Oilfield Services Ltd. (NOSL), a subsidiary of Sterling Oil Exploration & Energy Production Company Ltd. (SEEPCO), have announced the successful commencement of oil production at Oil Mining Lease (OML) 13 in Akwa Ibom State, Nigeria.\\nThis was revealed by the Chief Corporate Communications Officer, NNPC Ltd, Olufemi Soneye.\\nIt reads,” The production, which commenced on the 6th of May 2024, with 6,000 barrels of oil, is expected to be ramped up to 40,000 barrels per day by May 27th, 2024.\\n“The first oil flow from OML 13 is a historic milestone in the partnership between NNPC E&P Ltd and NOSL, highlighting their dedication to driving growth and development in Nigeria’s oil and gas sector, which remains a vital component of the nation’s economy.\\n“The achievement does not only signify the culmination of rigorous planning and execution by the teams involved but also represents a new era of economic empowerment and development opportunities for the host communities.\\n“Furthermore, for Nigeria, the first oil from OML 13 holds some significance as it contributes to the country’s efforts to increase its oil production capacity, which is crucial for meeting domestic energy needs and driving economic growth.\\nALSO READ: Bayelsa: JTF uncovers 50 illegal refining sites at Biseni forest\\n“The NNPC E&P Ltd. and NOSL partnership is also committed to operating in a manner that is safe, environmentally responsible, and beneficial to the local communities.”']\n"
          ]
        }
      ]
    },
    {
      "cell_type": "code",
      "source": [
        "import openai\n",
        "# Send the content to OpenAI to get topic and category tags\n",
        "response = openai.Completion.create(\n",
        "    model=\"gpt-3.5-turbo-instruct\",\n",
        "    prompt=extracted_content,\n",
        "    max_tokens=50,  # Adjust as needed\n",
        "    n=1,  # Number of completions to generate\n",
        "    stop=[\"\\n\"],  # Stop completion at the end of the text\n",
        "    temperature=0.5,  # Adjust as needed\n",
        "    top_p=1.0,\n",
        "    frequency_penalty=0.0,\n",
        "    presence_penalty=0.0,\n",
        "    logit_bias={},\n",
        "    logprobs=0,\n",
        "    echo=True  # Print the input prompt along with the completion\n",
        ")\n"
      ],
      "metadata": {
        "id": "tOpY9oDeAKOU"
      },
      "execution_count": 13,
      "outputs": []
    },
    {
      "cell_type": "markdown",
      "source": [
        "# USING REPLICATE API TO CALL POWERFUL LARGE LANGUAGE MODELS"
      ],
      "metadata": {
        "id": "UKfMIX5F_xc-"
      }
    },
    {
      "cell_type": "code",
      "source": [
        "import replicate"
      ],
      "metadata": {
        "id": "u-D_wSK1_-vp"
      },
      "execution_count": 17,
      "outputs": []
    },
    {
      "cell_type": "code",
      "source": [
        "import os\n",
        "import replicate\n",
        "from replicate.client import Client\n",
        "\n",
        "replicate = Client(api_token=\"\")"
      ],
      "metadata": {
        "id": "2yPWvXVw_XHp"
      },
      "execution_count": 26,
      "outputs": []
    },
    {
      "cell_type": "markdown",
      "source": [
        "## USING MISTRAL 8x7B via Replicate Api"
      ],
      "metadata": {
        "id": "LaCLrs3rFpUx"
      }
    },
    {
      "cell_type": "code",
      "source": [
        "for event in replicate.stream(\n",
        "    \"mistralai/mixtral-8x7b-instruct-v0.1\",\n",
        "    input={\n",
        "        \"top_k\": 50,\n",
        "        \"top_p\": 0.9,\n",
        "        \"prompt\": f\"Generate 5 'TOPIC TAGS' AND 'CATEGPRY TAGS' for the given article\\ {extracted_content}\",\n",
        "        \"temperature\": 0.6,\n",
        "        \"system_prompt\": \"YOU ARE AN AI ASSIATAT THAT CAN GENERATE topic tags AND  article category tags\",\n",
        "        \"length_penalty\": 1,\n",
        "        \"max_new_tokens\": 1024,\n",
        "        \"prompt_template\": \"<s>[INST] {prompt} [/INST] \",\n",
        "        \"presence_penalty\": 0\n",
        "    },\n",
        "):\n",
        "    print(str(event), end=\"\")"
      ],
      "metadata": {
        "colab": {
          "base_uri": "https://localhost:8080/"
        },
        "id": "xEPAbW0mBrTg",
        "outputId": "40840300-8841-4046-d950-ae7cc7093e09"
      },
      "execution_count": 31,
      "outputs": [
        {
          "output_type": "stream",
          "name": "stdout",
          "text": [
            "1. Topic Tags: Oil Production, NNPC, Natural Oilfield Services Ltd, OML 1"
          ]
        }
      ]
    },
    {
      "cell_type": "markdown",
      "source": [
        "## USING METAS LLAMA 3 Via Replicate Api"
      ],
      "metadata": {
        "id": "hLiOwxjvF1Ok"
      }
    },
    {
      "cell_type": "code",
      "source": [
        "for event in replicate.stream(\n",
        "    \"meta/meta-llama-3-70b-instruct\",\n",
        "    input={\n",
        "        \"top_k\": 0,\n",
        "        \"top_p\": 0.9,\n",
        "        \"prompt\": f\"Generate 5 'TOPIC TAGS' AND 'CATEGPRY TAGS' for the given article\\ {extracted_content}\",\n",
        "        \"max_tokens\": 650,\n",
        "        \"min_tokens\": 0,\n",
        "        \"temperature\": 0.6,\n",
        "        \"system_prompt\": \"YOU ARE AN AI ASSITANT THAT CAN GENERATE topic tags AND article category tags\",\n",
        "        \"length_penalty\": 1,\n",
        "        \"stop_sequences\": \"<|end_of_text|>,<|eot_id|>\",\n",
        "        \"prompt_template\": \"<|begin_of_text|><|start_header_id|>system<|end_header_id|>\\n\\nYou are a helpful assistant<|eot_id|><|start_header_id|>user<|end_header_id|>\\n\\n{prompt}<|eot_id|><|start_header_id|>assistant<|end_header_id|>\\n\\n\",\n",
        "        \"presence_penalty\": 1.15,\n",
        "        \"log_performance_metrics\": False\n",
        "    },\n",
        "):\n",
        "    print(str(event), end=\"\")"
      ],
      "metadata": {
        "colab": {
          "base_uri": "https://localhost:8080/"
        },
        "id": "TLK6pWJVF54H",
        "outputId": "00fa6a5b-22e4-43c1-8000-be460b6d00f0"
      },
      "execution_count": 33,
      "outputs": [
        {
          "output_type": "stream",
          "name": "stdout",
          "text": [
            "Here are five topic tags and five category tags for the given article:\n",
            "\n",
            "**Topic Tags:**\n",
            "\n",
            "1. Oil Production\n",
            "2. Nigeria Energy Sector\n",
            "3. NNPC E&P Ltd\n",
            "4. Natural Oilfield Services Ltd\n",
            "5. Oil Mining Lease (OML) 13\n",
            "\n",
            "**Category Tags:**\n",
            "\n",
            "1. Business\n",
            "2. Energy\n",
            "3. Nigeria News\n",
            "4. Oil and Gas\n",
            "5. Economy"
          ]
        }
      ]
    },
    {
      "cell_type": "markdown",
      "source": [],
      "metadata": {
        "id": "cvQpwx0ZFwnv"
      }
    }
  ]
}