{
  "nbformat": 4,
  "nbformat_minor": 0,
  "metadata": {
    "colab": {
      "provenance": [],
      "authorship_tag": "ABX9TyPyhCIZdcxv856jDZUkXhsl",
      "include_colab_link": true
    },
    "kernelspec": {
      "name": "python3",
      "display_name": "Python 3"
    },
    "language_info": {
      "name": "python"
    },
    "widgets": {
      "application/vnd.jupyter.widget-state+json": {
        "b6737234547144e9a1d8c1bc44a87853": {
          "model_module": "@jupyter-widgets/controls",
          "model_name": "VBoxModel",
          "model_module_version": "1.5.0",
          "state": {
            "_dom_classes": [],
            "_model_module": "@jupyter-widgets/controls",
            "_model_module_version": "1.5.0",
            "_model_name": "VBoxModel",
            "_view_count": null,
            "_view_module": "@jupyter-widgets/controls",
            "_view_module_version": "1.5.0",
            "_view_name": "VBoxView",
            "box_style": "",
            "children": [
              "IPY_MODEL_66758de3fed34078b45340506fa17d7f",
              "IPY_MODEL_cd7b9a81c38c4cad807002ded8812ef9",
              "IPY_MODEL_478073e793804a51a971ced58de9c429",
              "IPY_MODEL_8f920c6f92a845509e9303b5a36ffe5f"
            ],
            "layout": "IPY_MODEL_3fd668a4b5c54d10becd85c0054e2619"
          }
        },
        "02ebfccc854845718d739ff8fe3b495b": {
          "model_module": "@jupyter-widgets/controls",
          "model_name": "HTMLModel",
          "model_module_version": "1.5.0",
          "state": {
            "_dom_classes": [],
            "_model_module": "@jupyter-widgets/controls",
            "_model_module_version": "1.5.0",
            "_model_name": "HTMLModel",
            "_view_count": null,
            "_view_module": "@jupyter-widgets/controls",
            "_view_module_version": "1.5.0",
            "_view_name": "HTMLView",
            "description": "",
            "description_tooltip": null,
            "layout": "IPY_MODEL_d8e270c26b234f3a80b86b6d4d5a1b9a",
            "placeholder": "​",
            "style": "IPY_MODEL_ffd38a29e31640efaed85f6bcc110b57",
            "value": "<center> <img\nsrc=https://huggingface.co/front/assets/huggingface_logo-noborder.svg\nalt='Hugging Face'> <br> Copy a token from <a\nhref=\"https://huggingface.co/settings/tokens\" target=\"_blank\">your Hugging Face\ntokens page</a> and paste it below. <br> Immediately click login after copying\nyour token or it might be stored in plain text in this notebook file. </center>"
          }
        },
        "0600fe04859b4ef6a66cfbcb31583086": {
          "model_module": "@jupyter-widgets/controls",
          "model_name": "PasswordModel",
          "model_module_version": "1.5.0",
          "state": {
            "_dom_classes": [],
            "_model_module": "@jupyter-widgets/controls",
            "_model_module_version": "1.5.0",
            "_model_name": "PasswordModel",
            "_view_count": null,
            "_view_module": "@jupyter-widgets/controls",
            "_view_module_version": "1.5.0",
            "_view_name": "PasswordView",
            "continuous_update": true,
            "description": "Token:",
            "description_tooltip": null,
            "disabled": false,
            "layout": "IPY_MODEL_2d76f08ce9fc4e8a955f494038ff647e",
            "placeholder": "​",
            "style": "IPY_MODEL_c9f37d82d8684cf69f388f14849a3b36",
            "value": ""
          }
        },
        "3e8eed3d5319486a93a6a94697d20bca": {
          "model_module": "@jupyter-widgets/controls",
          "model_name": "CheckboxModel",
          "model_module_version": "1.5.0",
          "state": {
            "_dom_classes": [],
            "_model_module": "@jupyter-widgets/controls",
            "_model_module_version": "1.5.0",
            "_model_name": "CheckboxModel",
            "_view_count": null,
            "_view_module": "@jupyter-widgets/controls",
            "_view_module_version": "1.5.0",
            "_view_name": "CheckboxView",
            "description": "Add token as git credential?",
            "description_tooltip": null,
            "disabled": false,
            "indent": true,
            "layout": "IPY_MODEL_d03227fb86f242a1b1cff44a2a75fc01",
            "style": "IPY_MODEL_5a2714495941452b9d49ac235796905b",
            "value": true
          }
        },
        "4334b930c0d14309897e964f12f564e7": {
          "model_module": "@jupyter-widgets/controls",
          "model_name": "ButtonModel",
          "model_module_version": "1.5.0",
          "state": {
            "_dom_classes": [],
            "_model_module": "@jupyter-widgets/controls",
            "_model_module_version": "1.5.0",
            "_model_name": "ButtonModel",
            "_view_count": null,
            "_view_module": "@jupyter-widgets/controls",
            "_view_module_version": "1.5.0",
            "_view_name": "ButtonView",
            "button_style": "",
            "description": "Login",
            "disabled": false,
            "icon": "",
            "layout": "IPY_MODEL_c67ac31c3780436192714441dfec6ba0",
            "style": "IPY_MODEL_c202be5243b84db7a98e1910c831af58",
            "tooltip": ""
          }
        },
        "6a8ca06364104022a344b28fe6009f92": {
          "model_module": "@jupyter-widgets/controls",
          "model_name": "HTMLModel",
          "model_module_version": "1.5.0",
          "state": {
            "_dom_classes": [],
            "_model_module": "@jupyter-widgets/controls",
            "_model_module_version": "1.5.0",
            "_model_name": "HTMLModel",
            "_view_count": null,
            "_view_module": "@jupyter-widgets/controls",
            "_view_module_version": "1.5.0",
            "_view_name": "HTMLView",
            "description": "",
            "description_tooltip": null,
            "layout": "IPY_MODEL_c526edba0f9c431cb8f9fca814c6d606",
            "placeholder": "​",
            "style": "IPY_MODEL_37bc580736a94cfc9156a9165c9c5e63",
            "value": "\n<b>Pro Tip:</b> If you don't already have one, you can create a dedicated\n'notebooks' token with 'write' access, that you can then easily reuse for all\nnotebooks. </center>"
          }
        },
        "3fd668a4b5c54d10becd85c0054e2619": {
          "model_module": "@jupyter-widgets/base",
          "model_name": "LayoutModel",
          "model_module_version": "1.2.0",
          "state": {
            "_model_module": "@jupyter-widgets/base",
            "_model_module_version": "1.2.0",
            "_model_name": "LayoutModel",
            "_view_count": null,
            "_view_module": "@jupyter-widgets/base",
            "_view_module_version": "1.2.0",
            "_view_name": "LayoutView",
            "align_content": null,
            "align_items": "center",
            "align_self": null,
            "border": null,
            "bottom": null,
            "display": "flex",
            "flex": null,
            "flex_flow": "column",
            "grid_area": null,
            "grid_auto_columns": null,
            "grid_auto_flow": null,
            "grid_auto_rows": null,
            "grid_column": null,
            "grid_gap": null,
            "grid_row": null,
            "grid_template_areas": null,
            "grid_template_columns": null,
            "grid_template_rows": null,
            "height": null,
            "justify_content": null,
            "justify_items": null,
            "left": null,
            "margin": null,
            "max_height": null,
            "max_width": null,
            "min_height": null,
            "min_width": null,
            "object_fit": null,
            "object_position": null,
            "order": null,
            "overflow": null,
            "overflow_x": null,
            "overflow_y": null,
            "padding": null,
            "right": null,
            "top": null,
            "visibility": null,
            "width": "50%"
          }
        },
        "d8e270c26b234f3a80b86b6d4d5a1b9a": {
          "model_module": "@jupyter-widgets/base",
          "model_name": "LayoutModel",
          "model_module_version": "1.2.0",
          "state": {
            "_model_module": "@jupyter-widgets/base",
            "_model_module_version": "1.2.0",
            "_model_name": "LayoutModel",
            "_view_count": null,
            "_view_module": "@jupyter-widgets/base",
            "_view_module_version": "1.2.0",
            "_view_name": "LayoutView",
            "align_content": null,
            "align_items": null,
            "align_self": null,
            "border": null,
            "bottom": null,
            "display": null,
            "flex": null,
            "flex_flow": null,
            "grid_area": null,
            "grid_auto_columns": null,
            "grid_auto_flow": null,
            "grid_auto_rows": null,
            "grid_column": null,
            "grid_gap": null,
            "grid_row": null,
            "grid_template_areas": null,
            "grid_template_columns": null,
            "grid_template_rows": null,
            "height": null,
            "justify_content": null,
            "justify_items": null,
            "left": null,
            "margin": null,
            "max_height": null,
            "max_width": null,
            "min_height": null,
            "min_width": null,
            "object_fit": null,
            "object_position": null,
            "order": null,
            "overflow": null,
            "overflow_x": null,
            "overflow_y": null,
            "padding": null,
            "right": null,
            "top": null,
            "visibility": null,
            "width": null
          }
        },
        "ffd38a29e31640efaed85f6bcc110b57": {
          "model_module": "@jupyter-widgets/controls",
          "model_name": "DescriptionStyleModel",
          "model_module_version": "1.5.0",
          "state": {
            "_model_module": "@jupyter-widgets/controls",
            "_model_module_version": "1.5.0",
            "_model_name": "DescriptionStyleModel",
            "_view_count": null,
            "_view_module": "@jupyter-widgets/base",
            "_view_module_version": "1.2.0",
            "_view_name": "StyleView",
            "description_width": ""
          }
        },
        "2d76f08ce9fc4e8a955f494038ff647e": {
          "model_module": "@jupyter-widgets/base",
          "model_name": "LayoutModel",
          "model_module_version": "1.2.0",
          "state": {
            "_model_module": "@jupyter-widgets/base",
            "_model_module_version": "1.2.0",
            "_model_name": "LayoutModel",
            "_view_count": null,
            "_view_module": "@jupyter-widgets/base",
            "_view_module_version": "1.2.0",
            "_view_name": "LayoutView",
            "align_content": null,
            "align_items": null,
            "align_self": null,
            "border": null,
            "bottom": null,
            "display": null,
            "flex": null,
            "flex_flow": null,
            "grid_area": null,
            "grid_auto_columns": null,
            "grid_auto_flow": null,
            "grid_auto_rows": null,
            "grid_column": null,
            "grid_gap": null,
            "grid_row": null,
            "grid_template_areas": null,
            "grid_template_columns": null,
            "grid_template_rows": null,
            "height": null,
            "justify_content": null,
            "justify_items": null,
            "left": null,
            "margin": null,
            "max_height": null,
            "max_width": null,
            "min_height": null,
            "min_width": null,
            "object_fit": null,
            "object_position": null,
            "order": null,
            "overflow": null,
            "overflow_x": null,
            "overflow_y": null,
            "padding": null,
            "right": null,
            "top": null,
            "visibility": null,
            "width": null
          }
        },
        "c9f37d82d8684cf69f388f14849a3b36": {
          "model_module": "@jupyter-widgets/controls",
          "model_name": "DescriptionStyleModel",
          "model_module_version": "1.5.0",
          "state": {
            "_model_module": "@jupyter-widgets/controls",
            "_model_module_version": "1.5.0",
            "_model_name": "DescriptionStyleModel",
            "_view_count": null,
            "_view_module": "@jupyter-widgets/base",
            "_view_module_version": "1.2.0",
            "_view_name": "StyleView",
            "description_width": ""
          }
        },
        "d03227fb86f242a1b1cff44a2a75fc01": {
          "model_module": "@jupyter-widgets/base",
          "model_name": "LayoutModel",
          "model_module_version": "1.2.0",
          "state": {
            "_model_module": "@jupyter-widgets/base",
            "_model_module_version": "1.2.0",
            "_model_name": "LayoutModel",
            "_view_count": null,
            "_view_module": "@jupyter-widgets/base",
            "_view_module_version": "1.2.0",
            "_view_name": "LayoutView",
            "align_content": null,
            "align_items": null,
            "align_self": null,
            "border": null,
            "bottom": null,
            "display": null,
            "flex": null,
            "flex_flow": null,
            "grid_area": null,
            "grid_auto_columns": null,
            "grid_auto_flow": null,
            "grid_auto_rows": null,
            "grid_column": null,
            "grid_gap": null,
            "grid_row": null,
            "grid_template_areas": null,
            "grid_template_columns": null,
            "grid_template_rows": null,
            "height": null,
            "justify_content": null,
            "justify_items": null,
            "left": null,
            "margin": null,
            "max_height": null,
            "max_width": null,
            "min_height": null,
            "min_width": null,
            "object_fit": null,
            "object_position": null,
            "order": null,
            "overflow": null,
            "overflow_x": null,
            "overflow_y": null,
            "padding": null,
            "right": null,
            "top": null,
            "visibility": null,
            "width": null
          }
        },
        "5a2714495941452b9d49ac235796905b": {
          "model_module": "@jupyter-widgets/controls",
          "model_name": "DescriptionStyleModel",
          "model_module_version": "1.5.0",
          "state": {
            "_model_module": "@jupyter-widgets/controls",
            "_model_module_version": "1.5.0",
            "_model_name": "DescriptionStyleModel",
            "_view_count": null,
            "_view_module": "@jupyter-widgets/base",
            "_view_module_version": "1.2.0",
            "_view_name": "StyleView",
            "description_width": ""
          }
        },
        "c67ac31c3780436192714441dfec6ba0": {
          "model_module": "@jupyter-widgets/base",
          "model_name": "LayoutModel",
          "model_module_version": "1.2.0",
          "state": {
            "_model_module": "@jupyter-widgets/base",
            "_model_module_version": "1.2.0",
            "_model_name": "LayoutModel",
            "_view_count": null,
            "_view_module": "@jupyter-widgets/base",
            "_view_module_version": "1.2.0",
            "_view_name": "LayoutView",
            "align_content": null,
            "align_items": null,
            "align_self": null,
            "border": null,
            "bottom": null,
            "display": null,
            "flex": null,
            "flex_flow": null,
            "grid_area": null,
            "grid_auto_columns": null,
            "grid_auto_flow": null,
            "grid_auto_rows": null,
            "grid_column": null,
            "grid_gap": null,
            "grid_row": null,
            "grid_template_areas": null,
            "grid_template_columns": null,
            "grid_template_rows": null,
            "height": null,
            "justify_content": null,
            "justify_items": null,
            "left": null,
            "margin": null,
            "max_height": null,
            "max_width": null,
            "min_height": null,
            "min_width": null,
            "object_fit": null,
            "object_position": null,
            "order": null,
            "overflow": null,
            "overflow_x": null,
            "overflow_y": null,
            "padding": null,
            "right": null,
            "top": null,
            "visibility": null,
            "width": null
          }
        },
        "c202be5243b84db7a98e1910c831af58": {
          "model_module": "@jupyter-widgets/controls",
          "model_name": "ButtonStyleModel",
          "model_module_version": "1.5.0",
          "state": {
            "_model_module": "@jupyter-widgets/controls",
            "_model_module_version": "1.5.0",
            "_model_name": "ButtonStyleModel",
            "_view_count": null,
            "_view_module": "@jupyter-widgets/base",
            "_view_module_version": "1.2.0",
            "_view_name": "StyleView",
            "button_color": null,
            "font_weight": ""
          }
        },
        "c526edba0f9c431cb8f9fca814c6d606": {
          "model_module": "@jupyter-widgets/base",
          "model_name": "LayoutModel",
          "model_module_version": "1.2.0",
          "state": {
            "_model_module": "@jupyter-widgets/base",
            "_model_module_version": "1.2.0",
            "_model_name": "LayoutModel",
            "_view_count": null,
            "_view_module": "@jupyter-widgets/base",
            "_view_module_version": "1.2.0",
            "_view_name": "LayoutView",
            "align_content": null,
            "align_items": null,
            "align_self": null,
            "border": null,
            "bottom": null,
            "display": null,
            "flex": null,
            "flex_flow": null,
            "grid_area": null,
            "grid_auto_columns": null,
            "grid_auto_flow": null,
            "grid_auto_rows": null,
            "grid_column": null,
            "grid_gap": null,
            "grid_row": null,
            "grid_template_areas": null,
            "grid_template_columns": null,
            "grid_template_rows": null,
            "height": null,
            "justify_content": null,
            "justify_items": null,
            "left": null,
            "margin": null,
            "max_height": null,
            "max_width": null,
            "min_height": null,
            "min_width": null,
            "object_fit": null,
            "object_position": null,
            "order": null,
            "overflow": null,
            "overflow_x": null,
            "overflow_y": null,
            "padding": null,
            "right": null,
            "top": null,
            "visibility": null,
            "width": null
          }
        },
        "37bc580736a94cfc9156a9165c9c5e63": {
          "model_module": "@jupyter-widgets/controls",
          "model_name": "DescriptionStyleModel",
          "model_module_version": "1.5.0",
          "state": {
            "_model_module": "@jupyter-widgets/controls",
            "_model_module_version": "1.5.0",
            "_model_name": "DescriptionStyleModel",
            "_view_count": null,
            "_view_module": "@jupyter-widgets/base",
            "_view_module_version": "1.2.0",
            "_view_name": "StyleView",
            "description_width": ""
          }
        },
        "5dd693e797074777a44a8622393fd830": {
          "model_module": "@jupyter-widgets/controls",
          "model_name": "LabelModel",
          "model_module_version": "1.5.0",
          "state": {
            "_dom_classes": [],
            "_model_module": "@jupyter-widgets/controls",
            "_model_module_version": "1.5.0",
            "_model_name": "LabelModel",
            "_view_count": null,
            "_view_module": "@jupyter-widgets/controls",
            "_view_module_version": "1.5.0",
            "_view_name": "LabelView",
            "description": "",
            "description_tooltip": null,
            "layout": "IPY_MODEL_6b9dfbeef2f24d32918c222b968b4434",
            "placeholder": "​",
            "style": "IPY_MODEL_ec52aef786294aa79931a3ed11d6d603",
            "value": "Connecting..."
          }
        },
        "6b9dfbeef2f24d32918c222b968b4434": {
          "model_module": "@jupyter-widgets/base",
          "model_name": "LayoutModel",
          "model_module_version": "1.2.0",
          "state": {
            "_model_module": "@jupyter-widgets/base",
            "_model_module_version": "1.2.0",
            "_model_name": "LayoutModel",
            "_view_count": null,
            "_view_module": "@jupyter-widgets/base",
            "_view_module_version": "1.2.0",
            "_view_name": "LayoutView",
            "align_content": null,
            "align_items": null,
            "align_self": null,
            "border": null,
            "bottom": null,
            "display": null,
            "flex": null,
            "flex_flow": null,
            "grid_area": null,
            "grid_auto_columns": null,
            "grid_auto_flow": null,
            "grid_auto_rows": null,
            "grid_column": null,
            "grid_gap": null,
            "grid_row": null,
            "grid_template_areas": null,
            "grid_template_columns": null,
            "grid_template_rows": null,
            "height": null,
            "justify_content": null,
            "justify_items": null,
            "left": null,
            "margin": null,
            "max_height": null,
            "max_width": null,
            "min_height": null,
            "min_width": null,
            "object_fit": null,
            "object_position": null,
            "order": null,
            "overflow": null,
            "overflow_x": null,
            "overflow_y": null,
            "padding": null,
            "right": null,
            "top": null,
            "visibility": null,
            "width": null
          }
        },
        "ec52aef786294aa79931a3ed11d6d603": {
          "model_module": "@jupyter-widgets/controls",
          "model_name": "DescriptionStyleModel",
          "model_module_version": "1.5.0",
          "state": {
            "_model_module": "@jupyter-widgets/controls",
            "_model_module_version": "1.5.0",
            "_model_name": "DescriptionStyleModel",
            "_view_count": null,
            "_view_module": "@jupyter-widgets/base",
            "_view_module_version": "1.2.0",
            "_view_name": "StyleView",
            "description_width": ""
          }
        },
        "66758de3fed34078b45340506fa17d7f": {
          "model_module": "@jupyter-widgets/controls",
          "model_name": "LabelModel",
          "model_module_version": "1.5.0",
          "state": {
            "_dom_classes": [],
            "_model_module": "@jupyter-widgets/controls",
            "_model_module_version": "1.5.0",
            "_model_name": "LabelModel",
            "_view_count": null,
            "_view_module": "@jupyter-widgets/controls",
            "_view_module_version": "1.5.0",
            "_view_name": "LabelView",
            "description": "",
            "description_tooltip": null,
            "layout": "IPY_MODEL_f2982e06658c421288d61a0ef3e61c44",
            "placeholder": "​",
            "style": "IPY_MODEL_0f55867d27d84aaeb799e9114326afe2",
            "value": "Token is valid (permission: write)."
          }
        },
        "cd7b9a81c38c4cad807002ded8812ef9": {
          "model_module": "@jupyter-widgets/controls",
          "model_name": "LabelModel",
          "model_module_version": "1.5.0",
          "state": {
            "_dom_classes": [],
            "_model_module": "@jupyter-widgets/controls",
            "_model_module_version": "1.5.0",
            "_model_name": "LabelModel",
            "_view_count": null,
            "_view_module": "@jupyter-widgets/controls",
            "_view_module_version": "1.5.0",
            "_view_name": "LabelView",
            "description": "",
            "description_tooltip": null,
            "layout": "IPY_MODEL_e75767c9524d439385682ed8df315ece",
            "placeholder": "​",
            "style": "IPY_MODEL_45feb87cf70748789f7ec614d86b23cb",
            "value": "Your token has been saved in your configured git credential helpers (store)."
          }
        },
        "478073e793804a51a971ced58de9c429": {
          "model_module": "@jupyter-widgets/controls",
          "model_name": "LabelModel",
          "model_module_version": "1.5.0",
          "state": {
            "_dom_classes": [],
            "_model_module": "@jupyter-widgets/controls",
            "_model_module_version": "1.5.0",
            "_model_name": "LabelModel",
            "_view_count": null,
            "_view_module": "@jupyter-widgets/controls",
            "_view_module_version": "1.5.0",
            "_view_name": "LabelView",
            "description": "",
            "description_tooltip": null,
            "layout": "IPY_MODEL_8b02f88bb2334bbc924a9ee114b9ed2a",
            "placeholder": "​",
            "style": "IPY_MODEL_fb53ce2c2d644f0b8b74721cd96622d2",
            "value": "Your token has been saved to /root/.cache/huggingface/token"
          }
        },
        "8f920c6f92a845509e9303b5a36ffe5f": {
          "model_module": "@jupyter-widgets/controls",
          "model_name": "LabelModel",
          "model_module_version": "1.5.0",
          "state": {
            "_dom_classes": [],
            "_model_module": "@jupyter-widgets/controls",
            "_model_module_version": "1.5.0",
            "_model_name": "LabelModel",
            "_view_count": null,
            "_view_module": "@jupyter-widgets/controls",
            "_view_module_version": "1.5.0",
            "_view_name": "LabelView",
            "description": "",
            "description_tooltip": null,
            "layout": "IPY_MODEL_39e79cc612e64928bbef7ea89a69fbed",
            "placeholder": "​",
            "style": "IPY_MODEL_acad640e802146a0969ec48149af3a6c",
            "value": "Login successful"
          }
        },
        "f2982e06658c421288d61a0ef3e61c44": {
          "model_module": "@jupyter-widgets/base",
          "model_name": "LayoutModel",
          "model_module_version": "1.2.0",
          "state": {
            "_model_module": "@jupyter-widgets/base",
            "_model_module_version": "1.2.0",
            "_model_name": "LayoutModel",
            "_view_count": null,
            "_view_module": "@jupyter-widgets/base",
            "_view_module_version": "1.2.0",
            "_view_name": "LayoutView",
            "align_content": null,
            "align_items": null,
            "align_self": null,
            "border": null,
            "bottom": null,
            "display": null,
            "flex": null,
            "flex_flow": null,
            "grid_area": null,
            "grid_auto_columns": null,
            "grid_auto_flow": null,
            "grid_auto_rows": null,
            "grid_column": null,
            "grid_gap": null,
            "grid_row": null,
            "grid_template_areas": null,
            "grid_template_columns": null,
            "grid_template_rows": null,
            "height": null,
            "justify_content": null,
            "justify_items": null,
            "left": null,
            "margin": null,
            "max_height": null,
            "max_width": null,
            "min_height": null,
            "min_width": null,
            "object_fit": null,
            "object_position": null,
            "order": null,
            "overflow": null,
            "overflow_x": null,
            "overflow_y": null,
            "padding": null,
            "right": null,
            "top": null,
            "visibility": null,
            "width": null
          }
        },
        "0f55867d27d84aaeb799e9114326afe2": {
          "model_module": "@jupyter-widgets/controls",
          "model_name": "DescriptionStyleModel",
          "model_module_version": "1.5.0",
          "state": {
            "_model_module": "@jupyter-widgets/controls",
            "_model_module_version": "1.5.0",
            "_model_name": "DescriptionStyleModel",
            "_view_count": null,
            "_view_module": "@jupyter-widgets/base",
            "_view_module_version": "1.2.0",
            "_view_name": "StyleView",
            "description_width": ""
          }
        },
        "e75767c9524d439385682ed8df315ece": {
          "model_module": "@jupyter-widgets/base",
          "model_name": "LayoutModel",
          "model_module_version": "1.2.0",
          "state": {
            "_model_module": "@jupyter-widgets/base",
            "_model_module_version": "1.2.0",
            "_model_name": "LayoutModel",
            "_view_count": null,
            "_view_module": "@jupyter-widgets/base",
            "_view_module_version": "1.2.0",
            "_view_name": "LayoutView",
            "align_content": null,
            "align_items": null,
            "align_self": null,
            "border": null,
            "bottom": null,
            "display": null,
            "flex": null,
            "flex_flow": null,
            "grid_area": null,
            "grid_auto_columns": null,
            "grid_auto_flow": null,
            "grid_auto_rows": null,
            "grid_column": null,
            "grid_gap": null,
            "grid_row": null,
            "grid_template_areas": null,
            "grid_template_columns": null,
            "grid_template_rows": null,
            "height": null,
            "justify_content": null,
            "justify_items": null,
            "left": null,
            "margin": null,
            "max_height": null,
            "max_width": null,
            "min_height": null,
            "min_width": null,
            "object_fit": null,
            "object_position": null,
            "order": null,
            "overflow": null,
            "overflow_x": null,
            "overflow_y": null,
            "padding": null,
            "right": null,
            "top": null,
            "visibility": null,
            "width": null
          }
        },
        "45feb87cf70748789f7ec614d86b23cb": {
          "model_module": "@jupyter-widgets/controls",
          "model_name": "DescriptionStyleModel",
          "model_module_version": "1.5.0",
          "state": {
            "_model_module": "@jupyter-widgets/controls",
            "_model_module_version": "1.5.0",
            "_model_name": "DescriptionStyleModel",
            "_view_count": null,
            "_view_module": "@jupyter-widgets/base",
            "_view_module_version": "1.2.0",
            "_view_name": "StyleView",
            "description_width": ""
          }
        },
        "8b02f88bb2334bbc924a9ee114b9ed2a": {
          "model_module": "@jupyter-widgets/base",
          "model_name": "LayoutModel",
          "model_module_version": "1.2.0",
          "state": {
            "_model_module": "@jupyter-widgets/base",
            "_model_module_version": "1.2.0",
            "_model_name": "LayoutModel",
            "_view_count": null,
            "_view_module": "@jupyter-widgets/base",
            "_view_module_version": "1.2.0",
            "_view_name": "LayoutView",
            "align_content": null,
            "align_items": null,
            "align_self": null,
            "border": null,
            "bottom": null,
            "display": null,
            "flex": null,
            "flex_flow": null,
            "grid_area": null,
            "grid_auto_columns": null,
            "grid_auto_flow": null,
            "grid_auto_rows": null,
            "grid_column": null,
            "grid_gap": null,
            "grid_row": null,
            "grid_template_areas": null,
            "grid_template_columns": null,
            "grid_template_rows": null,
            "height": null,
            "justify_content": null,
            "justify_items": null,
            "left": null,
            "margin": null,
            "max_height": null,
            "max_width": null,
            "min_height": null,
            "min_width": null,
            "object_fit": null,
            "object_position": null,
            "order": null,
            "overflow": null,
            "overflow_x": null,
            "overflow_y": null,
            "padding": null,
            "right": null,
            "top": null,
            "visibility": null,
            "width": null
          }
        },
        "fb53ce2c2d644f0b8b74721cd96622d2": {
          "model_module": "@jupyter-widgets/controls",
          "model_name": "DescriptionStyleModel",
          "model_module_version": "1.5.0",
          "state": {
            "_model_module": "@jupyter-widgets/controls",
            "_model_module_version": "1.5.0",
            "_model_name": "DescriptionStyleModel",
            "_view_count": null,
            "_view_module": "@jupyter-widgets/base",
            "_view_module_version": "1.2.0",
            "_view_name": "StyleView",
            "description_width": ""
          }
        },
        "39e79cc612e64928bbef7ea89a69fbed": {
          "model_module": "@jupyter-widgets/base",
          "model_name": "LayoutModel",
          "model_module_version": "1.2.0",
          "state": {
            "_model_module": "@jupyter-widgets/base",
            "_model_module_version": "1.2.0",
            "_model_name": "LayoutModel",
            "_view_count": null,
            "_view_module": "@jupyter-widgets/base",
            "_view_module_version": "1.2.0",
            "_view_name": "LayoutView",
            "align_content": null,
            "align_items": null,
            "align_self": null,
            "border": null,
            "bottom": null,
            "display": null,
            "flex": null,
            "flex_flow": null,
            "grid_area": null,
            "grid_auto_columns": null,
            "grid_auto_flow": null,
            "grid_auto_rows": null,
            "grid_column": null,
            "grid_gap": null,
            "grid_row": null,
            "grid_template_areas": null,
            "grid_template_columns": null,
            "grid_template_rows": null,
            "height": null,
            "justify_content": null,
            "justify_items": null,
            "left": null,
            "margin": null,
            "max_height": null,
            "max_width": null,
            "min_height": null,
            "min_width": null,
            "object_fit": null,
            "object_position": null,
            "order": null,
            "overflow": null,
            "overflow_x": null,
            "overflow_y": null,
            "padding": null,
            "right": null,
            "top": null,
            "visibility": null,
            "width": null
          }
        },
        "acad640e802146a0969ec48149af3a6c": {
          "model_module": "@jupyter-widgets/controls",
          "model_name": "DescriptionStyleModel",
          "model_module_version": "1.5.0",
          "state": {
            "_model_module": "@jupyter-widgets/controls",
            "_model_module_version": "1.5.0",
            "_model_name": "DescriptionStyleModel",
            "_view_count": null,
            "_view_module": "@jupyter-widgets/base",
            "_view_module_version": "1.2.0",
            "_view_name": "StyleView",
            "description_width": ""
          }
        }
      }
    }
  },
  "cells": [
    {
      "cell_type": "markdown",
      "metadata": {
        "id": "view-in-github",
        "colab_type": "text"
      },
      "source": [
        "<a href=\"https://colab.research.google.com/github/aidyai/rss-ai/blob/main/rss.ipynb\" target=\"_parent\"><img src=\"https://colab.research.google.com/assets/colab-badge.svg\" alt=\"Open In Colab\"/></a>"
      ]
    },
    {
      "cell_type": "code",
      "source": [
        "#takes 50mins to load\n",
        "!TORCH_CUDA_ARCH_LIST=\"7.5+PTX\" pip install git+https://github.com/casper-hansen/AutoAWQ_kernels.git@main"
      ],
      "metadata": {
        "id": "pk_1eVGk4ynR"
      },
      "execution_count": null,
      "outputs": []
    },
    {
      "cell_type": "code",
      "source": [
        "!pip install git+https://github.com/casper-hansen/AutoAWQ.git@main"
      ],
      "metadata": {
        "id": "82HX9WMA43WO"
      },
      "execution_count": null,
      "outputs": []
    },
    {
      "cell_type": "code",
      "source": [
        "%pip install --upgrade --quiet  apify-client langchain-openai langchain\n",
        "!pip install feedparser newspaper3k openai\n",
        "!pip install openai==0.28\n"
      ],
      "metadata": {
        "id": "y0OflDvi93wl"
      },
      "execution_count": null,
      "outputs": []
    },
    {
      "cell_type": "code",
      "source": [
        "from langchain.indexes import VectorstoreIndexCreator\n",
        "from langchain_community.utilities import ApifyWrapper\n",
        "from langchain_core.documents import Document\n",
        "\n",
        "import feedparser\n",
        "import requests\n",
        "from bs4 import BeautifulSoup\n",
        "import openai\n",
        "from newspaper import Article"
      ],
      "metadata": {
        "id": "4Z5ch9luxTih"
      },
      "execution_count": 2,
      "outputs": []
    },
    {
      "cell_type": "code",
      "source": [
        "import os\n",
        "os.environ[\"APIFY_API_TOKEN\"] = \"apify_api_r2J5EYAZ2qOeCTSBDqN3RJ2IraTke911bWjC\"\n",
        "os.environ[\"OPENAI_API_KEY\"] = \"\"\n"
      ],
      "metadata": {
        "id": "eb4VGy4JyC5h"
      },
      "execution_count": 3,
      "outputs": []
    },
    {
      "cell_type": "code",
      "source": [
        "# RSS feed URL\n",
        "rss_feed_url = 'https://news.google.com/rss/search?q=akwa%20ibom&hl=en-US&gl=US&ceid=US%3Aen'\n",
        "\n",
        "# Parse the RSS feed\n",
        "feed = feedparser.parse(rss_feed_url)\n",
        "\n",
        "# Get the latest just one articles\n",
        "latest_articles = feed.entries[4:5]"
      ],
      "metadata": {
        "id": "rXW2h3SD3cBf"
      },
      "execution_count": 8,
      "outputs": []
    },
    {
      "cell_type": "code",
      "source": [
        "apify = ApifyWrapper()"
      ],
      "metadata": {
        "id": "ERFb7-OOxcHz"
      },
      "execution_count": 9,
      "outputs": []
    },
    {
      "cell_type": "code",
      "source": [
        "urls_to_crawl = []\n",
        "# Loop through the latest articles\n",
        "for article in latest_articles:\n",
        "    # Get the title and article URL\n",
        "    title = article.title\n",
        "    article_url = article.link\n",
        "    # Print the article URL\n",
        "    #print(article_url)\n",
        "    # Append the article URL to the list of URLs to crawl\n",
        "    urls_to_crawl.append({\"url\": article_url})\n",
        "\n",
        "# Use the list of URLs to call the Apify actor\n",
        "loader = apify.call_actor(\n",
        "    actor_id=\"apify/website-content-crawler\",\n",
        "    run_input={\"startUrls\": urls_to_crawl},\n",
        "    dataset_mapping_function=lambda item: Document(\n",
        "        page_content=item[\"text\"] or \"\", metadata={\"source\": item[\"url\"]}\n",
        "    ),\n",
        ")"
      ],
      "metadata": {
        "id": "eiRa4Kz34drb"
      },
      "execution_count": 10,
      "outputs": []
    },
    {
      "cell_type": "code",
      "source": [
        "t = loader.load()\n",
        "t"
      ],
      "metadata": {
        "colab": {
          "base_uri": "https://localhost:8080/"
        },
        "id": "HaQ3ZSAk9eEZ",
        "outputId": "37b642bf-7ecf-405f-8e2b-b0d02ad6aeb1"
      },
      "execution_count": 11,
      "outputs": [
        {
          "output_type": "execute_result",
          "data": {
            "text/plain": [
              "[Document(page_content='NNPC Exploration and Production Limited (NNPC E&P Ltd.), NNPC Ltd.’s flagship upstream subsidiary, and Natural Oilfield Services Ltd. (NOSL), a subsidiary of Sterling Oil Exploration & Energy Production Company Ltd. (SEEPCO), have announced the successful commencement of oil production at Oil Mining Lease (OML) 13 in Akwa Ibom State, Nigeria.\\nThis was revealed by the Chief Corporate Communications Officer, NNPC Ltd, Olufemi Soneye.\\nIt reads,” The production, which commenced on the 6th of May 2024, with 6,000 barrels of oil, is expected to be ramped up to 40,000 barrels per day by May 27th, 2024.\\n“The first oil flow from OML 13 is a historic milestone in the partnership between NNPC E&P Ltd and NOSL, highlighting their dedication to driving growth and development in Nigeria’s oil and gas sector, which remains a vital component of the nation’s economy.\\n“The achievement does not only signify the culmination of rigorous planning and execution by the teams involved but also represents a new era of economic empowerment and development opportunities for the host communities.\\n“Furthermore, for Nigeria, the first oil from OML 13 holds some significance as it contributes to the country’s efforts to increase its oil production capacity, which is crucial for meeting domestic energy needs and driving economic growth.\\nALSO READ: Bayelsa: JTF uncovers 50 illegal refining sites at Biseni forest\\n“The NNPC E&P Ltd. and NOSL partnership is also committed to operating in a manner that is safe, environmentally responsible, and beneficial to the local communities.”', metadata={'source': 'https://news.google.com/rss/articles/CBMiQWh0dHBzOi8vdHJpYnVuZW9ubGluZW5nLmNvbS9ubnBjLW5vc2wtaGl0LWZpcnN0LW9pbC1pbi1ha3dhLWlib20v0gEA?oc=5'})]"
            ]
          },
          "metadata": {},
          "execution_count": 11
        }
      ]
    },
    {
      "cell_type": "code",
      "source": [],
      "metadata": {
        "id": "W4mxzdYG1BQW"
      },
      "execution_count": null,
      "outputs": []
    },
    {
      "cell_type": "code",
      "source": [
        "import json\n",
        "# Extracting content from the list\n",
        "extracted_content = [document.page_content for document in t]\n",
        "\n",
        "# Printing the extracted content\n",
        "print(extracted_content)"
      ],
      "metadata": {
        "colab": {
          "base_uri": "https://localhost:8080/"
        },
        "id": "oC-PHsTlDbT2",
        "outputId": "5a4be24c-cf03-4137-9fc7-e166b3515e6f"
      },
      "execution_count": 12,
      "outputs": [
        {
          "output_type": "stream",
          "name": "stdout",
          "text": [
            "['NNPC Exploration and Production Limited (NNPC E&P Ltd.), NNPC Ltd.’s flagship upstream subsidiary, and Natural Oilfield Services Ltd. (NOSL), a subsidiary of Sterling Oil Exploration & Energy Production Company Ltd. (SEEPCO), have announced the successful commencement of oil production at Oil Mining Lease (OML) 13 in Akwa Ibom State, Nigeria.\\nThis was revealed by the Chief Corporate Communications Officer, NNPC Ltd, Olufemi Soneye.\\nIt reads,” The production, which commenced on the 6th of May 2024, with 6,000 barrels of oil, is expected to be ramped up to 40,000 barrels per day by May 27th, 2024.\\n“The first oil flow from OML 13 is a historic milestone in the partnership between NNPC E&P Ltd and NOSL, highlighting their dedication to driving growth and development in Nigeria’s oil and gas sector, which remains a vital component of the nation’s economy.\\n“The achievement does not only signify the culmination of rigorous planning and execution by the teams involved but also represents a new era of economic empowerment and development opportunities for the host communities.\\n“Furthermore, for Nigeria, the first oil from OML 13 holds some significance as it contributes to the country’s efforts to increase its oil production capacity, which is crucial for meeting domestic energy needs and driving economic growth.\\nALSO READ: Bayelsa: JTF uncovers 50 illegal refining sites at Biseni forest\\n“The NNPC E&P Ltd. and NOSL partnership is also committed to operating in a manner that is safe, environmentally responsible, and beneficial to the local communities.”']\n"
          ]
        }
      ]
    },
    {
      "cell_type": "code",
      "source": [
        "import openai"
      ],
      "metadata": {
        "id": "tOpY9oDeAKOU"
      },
      "execution_count": 13,
      "outputs": []
    },
    {
      "cell_type": "code",
      "source": [
        "# Send the content to OpenAI to get topic and category tags\n",
        "response = openai.Completion.create(\n",
        "    model=\"gpt-3.5-turbo-instruct\",\n",
        "    prompt=extracted_content,\n",
        "    max_tokens=50,  # Adjust as needed\n",
        "    n=1,  # Number of completions to generate\n",
        "    stop=[\"\\n\"],  # Stop completion at the end of the text\n",
        "    temperature=0.5,  # Adjust as needed\n",
        "    top_p=1.0,\n",
        "    frequency_penalty=0.0,\n",
        "    presence_penalty=0.0,\n",
        "    logit_bias={},\n",
        "    logprobs=0,\n",
        "    echo=True  # Print the input prompt along with the completion\n",
        ")\n",
        "\n"
      ],
      "metadata": {
        "id": "rpDDkWQuADd0"
      },
      "execution_count": null,
      "outputs": []
    },
    {
      "cell_type": "code",
      "source": [
        "# Prompt for generating topic tags\n",
        "topic_prompt = f\"Generate 5 topic tags for the given article:\\n{article_text}\\n---\\n\"\n",
        "# Prompt for generating article category tags\n",
        "category_prompt = f\"Generate 5 article category tags for the given article:\\n{article_text}\\n---\\n\""
      ],
      "metadata": {
        "id": "TufSKHz-3sWD"
      },
      "execution_count": null,
      "outputs": []
    },
    {
      "cell_type": "code",
      "source": [
        "t = loader.load()\n",
        "t"
      ],
      "metadata": {
        "colab": {
          "base_uri": "https://localhost:8080/"
        },
        "id": "SUIBok2Y470p",
        "outputId": "a26de7dc-962f-44ed-df4a-2d0ef6be107b"
      },
      "execution_count": null,
      "outputs": [
        {
          "output_type": "execute_result",
          "data": {
            "text/plain": [
              "[Document(page_content='By Chioma Onuegbu Uyo\\nGOVERNOR Umo Eno has continued to demonstrate his readiness, determination, and commitment to fulfilling his contract with the people of Akwa Ibom State including creating job opportunities and enlarging the path for economic prosperity.\\nAnd the governor at different fora emphasized that for his administration to achieve this contract there was need to revive the entrepreneurial spirit of the people through comprehensive training and support.\\nAccordingly, as an ardent advocate of entrepreneurship development, as soon as he came on board, he hit the ground running, by putting in place variety of initiatives, popular among them is a Business School under the auspices of Ibom-Leadership Entrepreneurial Development (Ibom-LED).\\nThe initiative which has its Headquarters at the E-Library Complex along IBB Avenue Uyo has Pastor ImaAbasi Jacob as the team lead and Mrs Ekaette Umoh as the Director General.\\nAnd according to Ibom-LED team , the initiative was designed to provide skills to make Akwa Ibom economy private sector driven, to move Agriculture from subsistence to commercial, via comprehensive training programmes that covers all aspects of starting managing and scaling a business.\\nAlso the programme was put in place to digitalize the state’s economy and to raise value-based leaders the development of the state.\\nAnd so far the initiative which graduated its first- batch trainees of 400 in December 2023 could be said to be making progress given the number of Akwa Ibo young men and women who have been equipped with the requisite skills and knowledge and also supported with cash grants of N500,000 each to establish themselves and sustain their businesses.\\nIt could be recalled that governor Umo Eno had started off the N500,000 cash grant support to Ibom-LED trainees when he announced the total sum of N250million for the business school in September 2023 at the Made in Akwa Ibom Trade Fair held at the Ibom-Leadership Entrepreneurial Development center.\\nThe governor had explained that N50million was for the registration fee and training of the 400 participants, while five hundred thousand Naira (N500,000) should be disbursed to each trainee as a take-off grants after the completion of the three months Programme.\\nJust last week, governor Umo Eno in his commitment to the success of the programme launched a N400million grant for disbursement to 800 beneficiaries of the Ibom-LED, Entrepreneurship Accelerator Programme (EAP).\\nAdvising the 800 beneficiaries, Eno noted, “I would like to say clearly here, whether this Programme will continue or not depends on you because you are the Ambassadors of this Programme. You are not all totally new in business or entrepreneurship.\\n“I am not concerned about the little SEED that will be put in your hands , but the training you have received. Everything you need to succeed is in your hands. For now don’t be politicians, just be entrepreneurs.\\n” This is an opportunity for you to have a primary address. If you have a primary address politics is secondary, people will respect you for what you do. This little money is a SEED and if you plant it well, it will bring a mighty harvest.\\n” I remember that in this state I opened my Hotel with just 5-rooms and few years later it had grown exponentially. The first thing is that you must make up your mind to succeed”\\nIbom-LED has partnered other organizations within and outside the state such as the Partnership Initiative In the Niger Delta (PIND foundation) and Enterprise Development Center (EDC) based in Lagos state to promote and actualize its training programmes.\\nAnd Ibom-LED is partnering the EDC on capacity building for 10,000 young Akwa Ibom who are 18 to 35years old.\\nAccording to reports in December 2023 PIND foundation, a non-profit organization working with partners to build peace and equitable economic development in the Niger Delta partnered with Ibom-LED to implement the Youths Employment Pathway(YEP) project to expand its reach in Akwa Ibom state.\\nThe skills programme on Technical Training and Leatherwork and Behavioural Skills and Entrepreneurship, aimed at transforming the mindset of the young trainees as well as enhance their enterprise acumen.\\nSpeaking in the state during the signing of Memorandum of Understanding (MoU) recently between the the Entreprise Development Center and Ibom-LED, governor had expressed government readiness for more partnership to realize his vision in entrepreneurship development.\\n“This partnership for me is critical. I thank the EDC for this partnership. And I ask for more of this support so as to realize the vision that we have set out and at the end of it Ibom-LED can truly say we have developed our Small and Medium Entreprises (SMEs)”, Eno had said.\\nThe visible progress of Ibom-LED has started attracting commendations from individuals and groups such as the “Connect Initiative”\\nA statement by Connect Initiative sighted online during the events marking governor Eno’s 60th birthday reads in part, ” Governor Eno has been in the forefront of efforts engendering business and economic growth with the creation of different initiative including the establishment of Ibom Leadership and Entrepreneurial Center aimed at cutting down poverty figures and providing opportunities for youths interested in making a career of their talents.\\n“This this idea of not feeding them fish but teaching them how to fish is commendable”', metadata={'source': 'https://www.vanguardngr.com/2024/05/how-eno-stimulating-akwa-ibom-economy-through-entrepreneurship-development/'})]"
            ]
          },
          "metadata": {},
          "execution_count": 36
        }
      ]
    },
    {
      "cell_type": "code",
      "source": [
        "from huggingface_hub import notebook_login\n",
        "notebook_login()"
      ],
      "metadata": {
        "colab": {
          "base_uri": "https://localhost:8080/",
          "height": 164,
          "referenced_widgets": [
            "b6737234547144e9a1d8c1bc44a87853",
            "02ebfccc854845718d739ff8fe3b495b",
            "0600fe04859b4ef6a66cfbcb31583086",
            "3e8eed3d5319486a93a6a94697d20bca",
            "4334b930c0d14309897e964f12f564e7",
            "6a8ca06364104022a344b28fe6009f92",
            "3fd668a4b5c54d10becd85c0054e2619",
            "d8e270c26b234f3a80b86b6d4d5a1b9a",
            "ffd38a29e31640efaed85f6bcc110b57",
            "2d76f08ce9fc4e8a955f494038ff647e",
            "c9f37d82d8684cf69f388f14849a3b36",
            "d03227fb86f242a1b1cff44a2a75fc01",
            "5a2714495941452b9d49ac235796905b",
            "c67ac31c3780436192714441dfec6ba0",
            "c202be5243b84db7a98e1910c831af58",
            "c526edba0f9c431cb8f9fca814c6d606",
            "37bc580736a94cfc9156a9165c9c5e63",
            "5dd693e797074777a44a8622393fd830",
            "6b9dfbeef2f24d32918c222b968b4434",
            "ec52aef786294aa79931a3ed11d6d603",
            "66758de3fed34078b45340506fa17d7f",
            "cd7b9a81c38c4cad807002ded8812ef9",
            "478073e793804a51a971ced58de9c429",
            "8f920c6f92a845509e9303b5a36ffe5f",
            "f2982e06658c421288d61a0ef3e61c44",
            "0f55867d27d84aaeb799e9114326afe2",
            "e75767c9524d439385682ed8df315ece",
            "45feb87cf70748789f7ec614d86b23cb",
            "8b02f88bb2334bbc924a9ee114b9ed2a",
            "fb53ce2c2d644f0b8b74721cd96622d2",
            "39e79cc612e64928bbef7ea89a69fbed",
            "acad640e802146a0969ec48149af3a6c"
          ]
        },
        "id": "3jtBQL89JQrS",
        "outputId": "d2c65e99-7269-4bf3-bd6f-546f72901140"
      },
      "execution_count": null,
      "outputs": [
        {
          "output_type": "display_data",
          "data": {
            "text/plain": [
              "VBox(children=(HTML(value='<center> <img\\nsrc=https://huggingface.co/front/assets/huggingface_logo-noborder.sv…"
            ],
            "application/vnd.jupyter.widget-view+json": {
              "version_major": 2,
              "version_minor": 0,
              "model_id": "b6737234547144e9a1d8c1bc44a87853"
            }
          },
          "metadata": {}
        }
      ]
    },
    {
      "cell_type": "code",
      "source": [
        "!pip install vllm"
      ],
      "metadata": {
        "id": "55po3FbHLFej"
      },
      "execution_count": null,
      "outputs": []
    },
    {
      "cell_type": "code",
      "source": [],
      "metadata": {
        "id": "ijcb2nCyLH2X",
        "colab": {
          "base_uri": "https://localhost:8080/"
        },
        "outputId": "3c1a379a-5b12-449f-b85f-9beb0b11b44b"
      },
      "execution_count": 14,
      "outputs": [
        {
          "output_type": "stream",
          "name": "stdout",
          "text": [
            "Collecting git+https://github.com/casper-hansen/AutoAWQ_kernels.git@main\n",
            "  Cloning https://github.com/casper-hansen/AutoAWQ_kernels.git (to revision main) to /tmp/pip-req-build-l2o1wjmp\n",
            "  Running command git clone --filter=blob:none --quiet https://github.com/casper-hansen/AutoAWQ_kernels.git /tmp/pip-req-build-l2o1wjmp\n",
            "  Resolved https://github.com/casper-hansen/AutoAWQ_kernels.git to commit 83d1f4b326a9067d0f94f089ef1bb47cf5377134\n",
            "  Preparing metadata (setup.py) ... \u001b[?25l\u001b[?25hdone\n",
            "Requirement already satisfied: torch>=2.0.1 in /usr/local/lib/python3.10/dist-packages (from autoawq-kernels==0.0.6+cu122) (2.2.1+cu121)\n",
            "Requirement already satisfied: filelock in /usr/local/lib/python3.10/dist-packages (from torch>=2.0.1->autoawq-kernels==0.0.6+cu122) (3.14.0)\n",
            "Requirement already satisfied: typing-extensions>=4.8.0 in /usr/local/lib/python3.10/dist-packages (from torch>=2.0.1->autoawq-kernels==0.0.6+cu122) (4.11.0)\n",
            "Requirement already satisfied: sympy in /usr/local/lib/python3.10/dist-packages (from torch>=2.0.1->autoawq-kernels==0.0.6+cu122) (1.12)\n",
            "Requirement already satisfied: networkx in /usr/local/lib/python3.10/dist-packages (from torch>=2.0.1->autoawq-kernels==0.0.6+cu122) (3.3)\n",
            "Requirement already satisfied: jinja2 in /usr/local/lib/python3.10/dist-packages (from torch>=2.0.1->autoawq-kernels==0.0.6+cu122) (3.1.4)\n",
            "Requirement already satisfied: fsspec in /usr/local/lib/python3.10/dist-packages (from torch>=2.0.1->autoawq-kernels==0.0.6+cu122) (2023.6.0)\n",
            "Collecting nvidia-cuda-nvrtc-cu12==12.1.105 (from torch>=2.0.1->autoawq-kernels==0.0.6+cu122)\n",
            "  Using cached nvidia_cuda_nvrtc_cu12-12.1.105-py3-none-manylinux1_x86_64.whl (23.7 MB)\n",
            "Collecting nvidia-cuda-runtime-cu12==12.1.105 (from torch>=2.0.1->autoawq-kernels==0.0.6+cu122)\n",
            "  Using cached nvidia_cuda_runtime_cu12-12.1.105-py3-none-manylinux1_x86_64.whl (823 kB)\n",
            "Collecting nvidia-cuda-cupti-cu12==12.1.105 (from torch>=2.0.1->autoawq-kernels==0.0.6+cu122)\n",
            "  Using cached nvidia_cuda_cupti_cu12-12.1.105-py3-none-manylinux1_x86_64.whl (14.1 MB)\n",
            "Collecting nvidia-cudnn-cu12==8.9.2.26 (from torch>=2.0.1->autoawq-kernels==0.0.6+cu122)\n",
            "  Using cached nvidia_cudnn_cu12-8.9.2.26-py3-none-manylinux1_x86_64.whl (731.7 MB)\n",
            "Collecting nvidia-cublas-cu12==12.1.3.1 (from torch>=2.0.1->autoawq-kernels==0.0.6+cu122)\n",
            "  Using cached nvidia_cublas_cu12-12.1.3.1-py3-none-manylinux1_x86_64.whl (410.6 MB)\n",
            "Collecting nvidia-cufft-cu12==11.0.2.54 (from torch>=2.0.1->autoawq-kernels==0.0.6+cu122)\n",
            "  Using cached nvidia_cufft_cu12-11.0.2.54-py3-none-manylinux1_x86_64.whl (121.6 MB)\n",
            "Collecting nvidia-curand-cu12==10.3.2.106 (from torch>=2.0.1->autoawq-kernels==0.0.6+cu122)\n",
            "  Using cached nvidia_curand_cu12-10.3.2.106-py3-none-manylinux1_x86_64.whl (56.5 MB)\n",
            "Collecting nvidia-cusolver-cu12==11.4.5.107 (from torch>=2.0.1->autoawq-kernels==0.0.6+cu122)\n",
            "  Using cached nvidia_cusolver_cu12-11.4.5.107-py3-none-manylinux1_x86_64.whl (124.2 MB)\n",
            "Collecting nvidia-cusparse-cu12==12.1.0.106 (from torch>=2.0.1->autoawq-kernels==0.0.6+cu122)\n",
            "  Using cached nvidia_cusparse_cu12-12.1.0.106-py3-none-manylinux1_x86_64.whl (196.0 MB)\n",
            "Collecting nvidia-nccl-cu12==2.19.3 (from torch>=2.0.1->autoawq-kernels==0.0.6+cu122)\n",
            "  Using cached nvidia_nccl_cu12-2.19.3-py3-none-manylinux1_x86_64.whl (166.0 MB)\n",
            "Collecting nvidia-nvtx-cu12==12.1.105 (from torch>=2.0.1->autoawq-kernels==0.0.6+cu122)\n",
            "  Using cached nvidia_nvtx_cu12-12.1.105-py3-none-manylinux1_x86_64.whl (99 kB)\n",
            "Requirement already satisfied: triton==2.2.0 in /usr/local/lib/python3.10/dist-packages (from torch>=2.0.1->autoawq-kernels==0.0.6+cu122) (2.2.0)\n",
            "Collecting nvidia-nvjitlink-cu12 (from nvidia-cusolver-cu12==11.4.5.107->torch>=2.0.1->autoawq-kernels==0.0.6+cu122)\n",
            "  Using cached nvidia_nvjitlink_cu12-12.4.127-py3-none-manylinux2014_x86_64.whl (21.1 MB)\n",
            "Requirement already satisfied: MarkupSafe>=2.0 in /usr/local/lib/python3.10/dist-packages (from jinja2->torch>=2.0.1->autoawq-kernels==0.0.6+cu122) (2.1.5)\n",
            "Requirement already satisfied: mpmath>=0.19 in /usr/local/lib/python3.10/dist-packages (from sympy->torch>=2.0.1->autoawq-kernels==0.0.6+cu122) (1.3.0)\n",
            "Building wheels for collected packages: autoawq-kernels\n",
            "  Building wheel for autoawq-kernels (setup.py) ... \u001b[?25l\u001b[?25hcanceled\n",
            "\u001b[31mERROR: Operation cancelled by user\u001b[0m\u001b[31m\n",
            "\u001b[0m"
          ]
        }
      ]
    },
    {
      "cell_type": "code",
      "source": [
        "import torch\n",
        "from tqdm import tqdm\n",
        "from transformers import AutoModelForCausalLM, AutoTokenizer, AwqConfig\n",
        "import awq_ext"
      ],
      "metadata": {
        "id": "B0f-NKgkLW7t"
      },
      "execution_count": null,
      "outputs": []
    },
    {
      "cell_type": "code",
      "source": [
        "device = \"cuda\" # the device to load the model onto\n",
        "\n",
        "model = AutoModelForCausalLM.from_pretrained(\"mistralai/Mistral-7B-Instruct-v0.1\")\n",
        "tokenizer = AutoTokenizer.from_pretrained(\"mistralai/Mistral-7B-Instruct-v0.1\")\n",
        "\n",
        "text = \"\"\"<s>[INST] What is your favourite condiment? [/INST]\n",
        "Well, I'm quite partial to a good squeeze of fresh lemon juice. It adds just the right amount of zesty flavour to whatever I'm cooking up in the kitchen!</s>\n",
        "[INST] Do you have mayonnaise recipes? [/INST]\"\"\"\n",
        "\n",
        "encodeds = tokenizer(text, return_tensors=\"pt\", add_special_tokens=False)\n",
        "\n",
        "model_inputs = encodeds.to(device)\n",
        "model.to(device)\n",
        "\n",
        "generated_ids = model.generate(**model_inputs, max_new_tokens=1000, do_sample=True)\n",
        "decoded = tokenizer.batch_decode(generated_ids)\n",
        "print(decoded[0])\n"
      ],
      "metadata": {
        "id": "A1CmXe2EKKt1"
      },
      "execution_count": null,
      "outputs": []
    },
    {
      "cell_type": "code",
      "source": [
        "\"Based on the provided news text content, extract 5 'topic tags' and extract 5 'article category tags' from the news text content\""
      ],
      "metadata": {
        "id": "XQkrQJG05IJS"
      },
      "execution_count": null,
      "outputs": []
    },
    {
      "cell_type": "code",
      "source": [
        "\"\"\"<s>[INST] Based on the provided news text content, extract 5 'topic tags' and extract 5 'article category tags' from the news text content\"[/INST]\n",
        "Topic Tags:Entrepreneurship Development,Economic Prosperity,Job Creation,Skills Training,Partnership Initiatives\n",
        "Article Category Tags:Business & Economy,Government Initiatives,Youth Empowerment,Partnership Programs,Regional Development"
      ],
      "metadata": {
        "id": "xHoEkR0m5gE7"
      },
      "execution_count": null,
      "outputs": []
    },
    {
      "cell_type": "code",
      "source": [
        "text = \"By Chioma Onuegbu Uyo\\nGOVERNOR Umo Eno has continued to demonstrate his readiness, determination, and commitment to fulfilling his contract with the people of Akwa Ibom State including creating job opportunities and enlarging the path for economic prosperity.\\nAnd the governor at different fora emphasized that for his administration to achieve this contract there was need to revive the entrepreneurial spirit of the people through comprehensive training and support.\\nAccordingly, as an ardent advocate of entrepreneurship development, as soon as he came on board, he hit the ground running, by putting in place variety of initiatives, popular among them is a Business School under the auspices of Ibom-Leadership Entrepreneurial Development (Ibom-LED).\\nThe initiative which has its Headquarters at the E-Library Complex along IBB Avenue Uyo has Pastor ImaAbasi Jacob as the team lead and Mrs Ekaette Umoh as the Director General.\\nAnd according to Ibom-LED team , the initiative was designed to provide skills to make Akwa Ibom economy private sector driven, to move Agriculture from subsistence to commercial, via comprehensive training programmes that covers all aspects of starting managing and scaling a business.\\nAlso the programme was put in place to digitalize the state’s economy and to raise value-based leaders the development of the state.\\nAnd so far the initiative which graduated its first- batch trainees of 400 in December 2023 could be said to be making progress given the number of Akwa Ibo young men and women who have been equipped with the requisite skills and knowledge and also supported with cash grants of N500,000 each to establish themselves and sustain their businesses.\\nIt could be recalled that governor Umo Eno had started off the N500,000 cash grant support to Ibom-LED trainees when he announced the total sum of N250million for the business school in September 2023 at the Made in Akwa Ibom Trade Fair held at the Ibom-Leadership Entrepreneurial Development center.\\nThe governor had explained that N50million was for the registration fee and training of the 400 participants, while five hundred thousand Naira (N500,000) should be disbursed to each trainee as a take-off grants after the completion of the three months Programme.\\nJust last week, governor Umo Eno in his commitment to the success of the programme launched a N400million grant for disbursement to 800 beneficiaries of the Ibom-LED, Entrepreneurship Accelerator Programme (EAP).\\nAdvising the 800 beneficiaries, Eno noted, “I would like to say clearly here, whether this Programme will continue or not depends on you because you are the Ambassadors of this Programme. You are not all totally new in business or entrepreneurship.\\n“I am not concerned about the little SEED that will be put in your hands , but the training you have received. Everything you need to succeed is in your hands. For now don’t be politicians, just be entrepreneurs.\\n” This is an opportunity for you to have a primary address. If you have a primary address politics is secondary, people will respect you for what you do. This little money is a SEED and if you plant it well, it will bring a mighty harvest.\\n” I remember that in this state I opened my Hotel with just 5-rooms and few years later it had grown exponentially. The first thing is that you must make up your mind to succeed”\\nIbom-LED has partnered other organizations within and outside the state such as the Partnership Initiative In the Niger Delta (PIND foundation) and Enterprise Development Center (EDC) based in Lagos state to promote and actualize its training programmes.\\nAnd Ibom-LED is partnering the EDC on capacity building for 10,000 young Akwa Ibom who are 18 to 35years old.\\nAccording to reports in December 2023 PIND foundation, a non-profit organization working with partners to build peace and equitable economic development in the Niger Delta partnered with Ibom-LED to implement the Youths Employment Pathway(YEP) project to expand its reach in Akwa Ibom state.\\nThe skills programme on Technical Training and Leatherwork and Behavioural Skills and Entrepreneurship, aimed at transforming the mindset of the young trainees as well as enhance their enterprise acumen.\\nSpeaking in the state during the signing of Memorandum of Understanding (MoU) recently between the the Entreprise Development Center and Ibom-LED, governor had expressed government readiness for more partnership to realize his vision in entrepreneurship development.\\n“This partnership for me is critical. I thank the EDC for this partnership. And I ask for more of this support so as to realize the vision that we have set out and at the end of it Ibom-LED can truly say we have developed our Small and Medium Entreprises (SMEs)”, Eno had said.\\nThe visible progress of Ibom-LED has started attracting commendations from individuals and groups such as the “Connect Initiative”\\nA statement by Connect Initiative sighted online during the events marking governor Eno’s 60th birthday reads in part, ” Governor Eno has been in the forefront of efforts engendering business and economic growth with the creation of different initiative including the establishment of Ibom Leadership and Entrepreneurial Center aimed at cutting down poverty figures and providing opportunities for youths interested in making a career of their talents.\\n“This this idea of not feeding them fish but teaching them how to fish is commendable”'\n",
        "\n",
        "\"Based on the provided news text content, extract 5 'topic tags' and extract 5 'article category tags' from the news text content\""
      ],
      "metadata": {
        "id": "ISesZq6p7AMj"
      },
      "execution_count": null,
      "outputs": []
    },
    {
      "cell_type": "code",
      "source": [
        "prompt = f\"Generate 5 topic tags for the given article and 5 article category tags for the given article\"\n",
        "article = \"By Chioma Onuegbu Uyo\\nGOVERNOR Umo Eno has continued to demonstrate his readiness, determination, and commitment to fulfilling his contract with the people of Akwa Ibom State including creating job opportunities and enlarging the path for economic prosperity.\\nAnd the governor at different fora emphasized that for his administration to achieve this contract there was need to revive the entrepreneurial spirit of the people through comprehensive training and support.\\nAccordingly, as an ardent advocate of entrepreneurship development, as soon as he came on board, he hit the ground running, by putting in place variety of initiatives, popular among them is a Business School under the auspices of Ibom-Leadership Entrepreneurial Development (Ibom-LED).\\nThe initiative which has its Headquarters at the E-Library Complex along IBB Avenue Uyo has Pastor ImaAbasi Jacob as the team lead and Mrs Ekaette Umoh as the Director General.\\nAnd according to Ibom-LED team , the initiative was designed to provide skills to make Akwa Ibom economy private sector driven, to move Agriculture from subsistence to commercial, via comprehensive training programmes that covers all aspects of starting managing and scaling a business.\\nAlso the programme was put in place to digitalize the state’s economy and to raise value-based leaders the development of the state.\\nAnd so far the initiative which graduated its first- batch trainees of 400 in December 2023 could be said to be making progress given the number of Akwa Ibo young men and women who have been equipped with the requisite skills and knowledge and also supported with cash grants of N500,000 each to establish themselves and sustain their businesses.\\nIt could be recalled that governor Umo Eno had started off the N500,000 cash grant support to Ibom-LED trainees when he announced the total sum of N250million for the business school in September 2023 at the Made in Akwa Ibom Trade Fair held at the Ibom-Leadership Entrepreneurial Development center.\\nThe governor had explained that N50million was for the registration fee and training of the 400 participants, while five hundred thousand Naira (N500,000) should be disbursed to each trainee as a take-off grants after the completion of the three months Programme.\\nJust last week, governor Umo Eno in his commitment to the success of the programme launched a N400million grant for disbursement to 800 beneficiaries of the Ibom-LED, Entrepreneurship Accelerator Programme (EAP).\\nAdvising the 800 beneficiaries, Eno noted, “I would like to say clearly here, whether this Programme will continue or not depends on you because you are the Ambassadors of this Programme. You are not all totally new in business or entrepreneurship.\\n“I am not concerned about the little SEED that will be put in your hands , but the training you have received. Everything you need to succeed is in your hands. For now don’t be politicians, just be entrepreneurs.\\n” This is an opportunity for you to have a primary address. If you have a primary address politics is secondary, people will respect you for what you do. This little money is a SEED and if you plant it well, it will bring a mighty harvest.\\n” I remember that in this state I opened my Hotel with just 5-rooms and few years later it had grown exponentially. The first thing is that you must make up your mind to succeed”\\nIbom-LED has partnered other organizations within and outside the state such as the Partnership Initiative In the Niger Delta (PIND foundation) and Enterprise Development Center (EDC) based in Lagos state to promote and actualize its training programmes.\\nAnd Ibom-LED is partnering the EDC on capacity building for 10,000 young Akwa Ibom who are 18 to 35years old.\\nAccording to reports in December 2023 PIND foundation, a non-profit organization working with partners to build peace and equitable economic development in the Niger Delta partnered with Ibom-LED to implement the Youths Employment Pathway(YEP) project to expand its reach in Akwa Ibom state.\\nThe skills programme on Technical Training and Leatherwork and Behavioural Skills and Entrepreneurship, aimed at transforming the mindset of the young trainees as well as enhance their enterprise acumen.\\nSpeaking in the state during the signing of Memorandum of Understanding (MoU) recently between the the Entreprise Development Center and Ibom-LED, governor had expressed government readiness for more partnership to realize his vision in entrepreneurship development.\\n“This partnership for me is critical. I thank the EDC for this partnership. And I ask for more of this support so as to realize the vision that we have set out and at the end of it Ibom-LED can truly say we have developed our Small and Medium Entreprises (SMEs)”, Eno had said.\\nThe visible progress of Ibom-LED has started attracting commendations from individuals and groups such as the “Connect Initiative”\\nA statement by Connect Initiative sighted online during the events marking governor Eno’s 60th birthday reads in part, ” Governor Eno has been in the forefront of efforts engendering business and economic growth with the creation of different initiative including the establishment of Ibom Leadership and Entrepreneurial Center aimed at cutting down poverty figures and providing opportunities for youths interested in making a career of their talents.\\n“This this idea of not feeding them fish but teaching them how to fish is commendable”'\n",
        "\n"
      ],
      "metadata": {
        "id": "WY15-CNp-qK4"
      },
      "execution_count": null,
      "outputs": []
    }
  ]
}