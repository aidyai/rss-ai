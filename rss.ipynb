{
  "nbformat": 4,
  "nbformat_minor": 0,
  "metadata": {
    "colab": {
      "provenance": [],
      "authorship_tag": "ABX9TyM2yOBoBAcjniqWzo+rgKur",
      "include_colab_link": true
    },
    "kernelspec": {
      "name": "python3",
      "display_name": "Python 3"
    },
    "language_info": {
      "name": "python"
    },
    "widgets": {
      "application/vnd.jupyter.widget-state+json": {
        "b6737234547144e9a1d8c1bc44a87853": {
          "model_module": "@jupyter-widgets/controls",
          "model_name": "VBoxModel",
          "model_module_version": "1.5.0",
          "state": {
            "_dom_classes": [],
            "_model_module": "@jupyter-widgets/controls",
            "_model_module_version": "1.5.0",
            "_model_name": "VBoxModel",
            "_view_count": null,
            "_view_module": "@jupyter-widgets/controls",
            "_view_module_version": "1.5.0",
            "_view_name": "VBoxView",
            "box_style": "",
            "children": [
              "IPY_MODEL_66758de3fed34078b45340506fa17d7f",
              "IPY_MODEL_cd7b9a81c38c4cad807002ded8812ef9",
              "IPY_MODEL_478073e793804a51a971ced58de9c429",
              "IPY_MODEL_8f920c6f92a845509e9303b5a36ffe5f"
            ],
            "layout": "IPY_MODEL_3fd668a4b5c54d10becd85c0054e2619"
          }
        },
        "02ebfccc854845718d739ff8fe3b495b": {
          "model_module": "@jupyter-widgets/controls",
          "model_name": "HTMLModel",
          "model_module_version": "1.5.0",
          "state": {
            "_dom_classes": [],
            "_model_module": "@jupyter-widgets/controls",
            "_model_module_version": "1.5.0",
            "_model_name": "HTMLModel",
            "_view_count": null,
            "_view_module": "@jupyter-widgets/controls",
            "_view_module_version": "1.5.0",
            "_view_name": "HTMLView",
            "description": "",
            "description_tooltip": null,
            "layout": "IPY_MODEL_d8e270c26b234f3a80b86b6d4d5a1b9a",
            "placeholder": "​",
            "style": "IPY_MODEL_ffd38a29e31640efaed85f6bcc110b57",
            "value": "<center> <img\nsrc=https://huggingface.co/front/assets/huggingface_logo-noborder.svg\nalt='Hugging Face'> <br> Copy a token from <a\nhref=\"https://huggingface.co/settings/tokens\" target=\"_blank\">your Hugging Face\ntokens page</a> and paste it below. <br> Immediately click login after copying\nyour token or it might be stored in plain text in this notebook file. </center>"
          }
        },
        "0600fe04859b4ef6a66cfbcb31583086": {
          "model_module": "@jupyter-widgets/controls",
          "model_name": "PasswordModel",
          "model_module_version": "1.5.0",
          "state": {
            "_dom_classes": [],
            "_model_module": "@jupyter-widgets/controls",
            "_model_module_version": "1.5.0",
            "_model_name": "PasswordModel",
            "_view_count": null,
            "_view_module": "@jupyter-widgets/controls",
            "_view_module_version": "1.5.0",
            "_view_name": "PasswordView",
            "continuous_update": true,
            "description": "Token:",
            "description_tooltip": null,
            "disabled": false,
            "layout": "IPY_MODEL_2d76f08ce9fc4e8a955f494038ff647e",
            "placeholder": "​",
            "style": "IPY_MODEL_c9f37d82d8684cf69f388f14849a3b36",
            "value": ""
          }
        },
        "3e8eed3d5319486a93a6a94697d20bca": {
          "model_module": "@jupyter-widgets/controls",
          "model_name": "CheckboxModel",
          "model_module_version": "1.5.0",
          "state": {
            "_dom_classes": [],
            "_model_module": "@jupyter-widgets/controls",
            "_model_module_version": "1.5.0",
            "_model_name": "CheckboxModel",
            "_view_count": null,
            "_view_module": "@jupyter-widgets/controls",
            "_view_module_version": "1.5.0",
            "_view_name": "CheckboxView",
            "description": "Add token as git credential?",
            "description_tooltip": null,
            "disabled": false,
            "indent": true,
            "layout": "IPY_MODEL_d03227fb86f242a1b1cff44a2a75fc01",
            "style": "IPY_MODEL_5a2714495941452b9d49ac235796905b",
            "value": true
          }
        },
        "4334b930c0d14309897e964f12f564e7": {
          "model_module": "@jupyter-widgets/controls",
          "model_name": "ButtonModel",
          "model_module_version": "1.5.0",
          "state": {
            "_dom_classes": [],
            "_model_module": "@jupyter-widgets/controls",
            "_model_module_version": "1.5.0",
            "_model_name": "ButtonModel",
            "_view_count": null,
            "_view_module": "@jupyter-widgets/controls",
            "_view_module_version": "1.5.0",
            "_view_name": "ButtonView",
            "button_style": "",
            "description": "Login",
            "disabled": false,
            "icon": "",
            "layout": "IPY_MODEL_c67ac31c3780436192714441dfec6ba0",
            "style": "IPY_MODEL_c202be5243b84db7a98e1910c831af58",
            "tooltip": ""
          }
        },
        "6a8ca06364104022a344b28fe6009f92": {
          "model_module": "@jupyter-widgets/controls",
          "model_name": "HTMLModel",
          "model_module_version": "1.5.0",
          "state": {
            "_dom_classes": [],
            "_model_module": "@jupyter-widgets/controls",
            "_model_module_version": "1.5.0",
            "_model_name": "HTMLModel",
            "_view_count": null,
            "_view_module": "@jupyter-widgets/controls",
            "_view_module_version": "1.5.0",
            "_view_name": "HTMLView",
            "description": "",
            "description_tooltip": null,
            "layout": "IPY_MODEL_c526edba0f9c431cb8f9fca814c6d606",
            "placeholder": "​",
            "style": "IPY_MODEL_37bc580736a94cfc9156a9165c9c5e63",
            "value": "\n<b>Pro Tip:</b> If you don't already have one, you can create a dedicated\n'notebooks' token with 'write' access, that you can then easily reuse for all\nnotebooks. </center>"
          }
        },
        "3fd668a4b5c54d10becd85c0054e2619": {
          "model_module": "@jupyter-widgets/base",
          "model_name": "LayoutModel",
          "model_module_version": "1.2.0",
          "state": {
            "_model_module": "@jupyter-widgets/base",
            "_model_module_version": "1.2.0",
            "_model_name": "LayoutModel",
            "_view_count": null,
            "_view_module": "@jupyter-widgets/base",
            "_view_module_version": "1.2.0",
            "_view_name": "LayoutView",
            "align_content": null,
            "align_items": "center",
            "align_self": null,
            "border": null,
            "bottom": null,
            "display": "flex",
            "flex": null,
            "flex_flow": "column",
            "grid_area": null,
            "grid_auto_columns": null,
            "grid_auto_flow": null,
            "grid_auto_rows": null,
            "grid_column": null,
            "grid_gap": null,
            "grid_row": null,
            "grid_template_areas": null,
            "grid_template_columns": null,
            "grid_template_rows": null,
            "height": null,
            "justify_content": null,
            "justify_items": null,
            "left": null,
            "margin": null,
            "max_height": null,
            "max_width": null,
            "min_height": null,
            "min_width": null,
            "object_fit": null,
            "object_position": null,
            "order": null,
            "overflow": null,
            "overflow_x": null,
            "overflow_y": null,
            "padding": null,
            "right": null,
            "top": null,
            "visibility": null,
            "width": "50%"
          }
        },
        "d8e270c26b234f3a80b86b6d4d5a1b9a": {
          "model_module": "@jupyter-widgets/base",
          "model_name": "LayoutModel",
          "model_module_version": "1.2.0",
          "state": {
            "_model_module": "@jupyter-widgets/base",
            "_model_module_version": "1.2.0",
            "_model_name": "LayoutModel",
            "_view_count": null,
            "_view_module": "@jupyter-widgets/base",
            "_view_module_version": "1.2.0",
            "_view_name": "LayoutView",
            "align_content": null,
            "align_items": null,
            "align_self": null,
            "border": null,
            "bottom": null,
            "display": null,
            "flex": null,
            "flex_flow": null,
            "grid_area": null,
            "grid_auto_columns": null,
            "grid_auto_flow": null,
            "grid_auto_rows": null,
            "grid_column": null,
            "grid_gap": null,
            "grid_row": null,
            "grid_template_areas": null,
            "grid_template_columns": null,
            "grid_template_rows": null,
            "height": null,
            "justify_content": null,
            "justify_items": null,
            "left": null,
            "margin": null,
            "max_height": null,
            "max_width": null,
            "min_height": null,
            "min_width": null,
            "object_fit": null,
            "object_position": null,
            "order": null,
            "overflow": null,
            "overflow_x": null,
            "overflow_y": null,
            "padding": null,
            "right": null,
            "top": null,
            "visibility": null,
            "width": null
          }
        },
        "ffd38a29e31640efaed85f6bcc110b57": {
          "model_module": "@jupyter-widgets/controls",
          "model_name": "DescriptionStyleModel",
          "model_module_version": "1.5.0",
          "state": {
            "_model_module": "@jupyter-widgets/controls",
            "_model_module_version": "1.5.0",
            "_model_name": "DescriptionStyleModel",
            "_view_count": null,
            "_view_module": "@jupyter-widgets/base",
            "_view_module_version": "1.2.0",
            "_view_name": "StyleView",
            "description_width": ""
          }
        },
        "2d76f08ce9fc4e8a955f494038ff647e": {
          "model_module": "@jupyter-widgets/base",
          "model_name": "LayoutModel",
          "model_module_version": "1.2.0",
          "state": {
            "_model_module": "@jupyter-widgets/base",
            "_model_module_version": "1.2.0",
            "_model_name": "LayoutModel",
            "_view_count": null,
            "_view_module": "@jupyter-widgets/base",
            "_view_module_version": "1.2.0",
            "_view_name": "LayoutView",
            "align_content": null,
            "align_items": null,
            "align_self": null,
            "border": null,
            "bottom": null,
            "display": null,
            "flex": null,
            "flex_flow": null,
            "grid_area": null,
            "grid_auto_columns": null,
            "grid_auto_flow": null,
            "grid_auto_rows": null,
            "grid_column": null,
            "grid_gap": null,
            "grid_row": null,
            "grid_template_areas": null,
            "grid_template_columns": null,
            "grid_template_rows": null,
            "height": null,
            "justify_content": null,
            "justify_items": null,
            "left": null,
            "margin": null,
            "max_height": null,
            "max_width": null,
            "min_height": null,
            "min_width": null,
            "object_fit": null,
            "object_position": null,
            "order": null,
            "overflow": null,
            "overflow_x": null,
            "overflow_y": null,
            "padding": null,
            "right": null,
            "top": null,
            "visibility": null,
            "width": null
          }
        },
        "c9f37d82d8684cf69f388f14849a3b36": {
          "model_module": "@jupyter-widgets/controls",
          "model_name": "DescriptionStyleModel",
          "model_module_version": "1.5.0",
          "state": {
            "_model_module": "@jupyter-widgets/controls",
            "_model_module_version": "1.5.0",
            "_model_name": "DescriptionStyleModel",
            "_view_count": null,
            "_view_module": "@jupyter-widgets/base",
            "_view_module_version": "1.2.0",
            "_view_name": "StyleView",
            "description_width": ""
          }
        },
        "d03227fb86f242a1b1cff44a2a75fc01": {
          "model_module": "@jupyter-widgets/base",
          "model_name": "LayoutModel",
          "model_module_version": "1.2.0",
          "state": {
            "_model_module": "@jupyter-widgets/base",
            "_model_module_version": "1.2.0",
            "_model_name": "LayoutModel",
            "_view_count": null,
            "_view_module": "@jupyter-widgets/base",
            "_view_module_version": "1.2.0",
            "_view_name": "LayoutView",
            "align_content": null,
            "align_items": null,
            "align_self": null,
            "border": null,
            "bottom": null,
            "display": null,
            "flex": null,
            "flex_flow": null,
            "grid_area": null,
            "grid_auto_columns": null,
            "grid_auto_flow": null,
            "grid_auto_rows": null,
            "grid_column": null,
            "grid_gap": null,
            "grid_row": null,
            "grid_template_areas": null,
            "grid_template_columns": null,
            "grid_template_rows": null,
            "height": null,
            "justify_content": null,
            "justify_items": null,
            "left": null,
            "margin": null,
            "max_height": null,
            "max_width": null,
            "min_height": null,
            "min_width": null,
            "object_fit": null,
            "object_position": null,
            "order": null,
            "overflow": null,
            "overflow_x": null,
            "overflow_y": null,
            "padding": null,
            "right": null,
            "top": null,
            "visibility": null,
            "width": null
          }
        },
        "5a2714495941452b9d49ac235796905b": {
          "model_module": "@jupyter-widgets/controls",
          "model_name": "DescriptionStyleModel",
          "model_module_version": "1.5.0",
          "state": {
            "_model_module": "@jupyter-widgets/controls",
            "_model_module_version": "1.5.0",
            "_model_name": "DescriptionStyleModel",
            "_view_count": null,
            "_view_module": "@jupyter-widgets/base",
            "_view_module_version": "1.2.0",
            "_view_name": "StyleView",
            "description_width": ""
          }
        },
        "c67ac31c3780436192714441dfec6ba0": {
          "model_module": "@jupyter-widgets/base",
          "model_name": "LayoutModel",
          "model_module_version": "1.2.0",
          "state": {
            "_model_module": "@jupyter-widgets/base",
            "_model_module_version": "1.2.0",
            "_model_name": "LayoutModel",
            "_view_count": null,
            "_view_module": "@jupyter-widgets/base",
            "_view_module_version": "1.2.0",
            "_view_name": "LayoutView",
            "align_content": null,
            "align_items": null,
            "align_self": null,
            "border": null,
            "bottom": null,
            "display": null,
            "flex": null,
            "flex_flow": null,
            "grid_area": null,
            "grid_auto_columns": null,
            "grid_auto_flow": null,
            "grid_auto_rows": null,
            "grid_column": null,
            "grid_gap": null,
            "grid_row": null,
            "grid_template_areas": null,
            "grid_template_columns": null,
            "grid_template_rows": null,
            "height": null,
            "justify_content": null,
            "justify_items": null,
            "left": null,
            "margin": null,
            "max_height": null,
            "max_width": null,
            "min_height": null,
            "min_width": null,
            "object_fit": null,
            "object_position": null,
            "order": null,
            "overflow": null,
            "overflow_x": null,
            "overflow_y": null,
            "padding": null,
            "right": null,
            "top": null,
            "visibility": null,
            "width": null
          }
        },
        "c202be5243b84db7a98e1910c831af58": {
          "model_module": "@jupyter-widgets/controls",
          "model_name": "ButtonStyleModel",
          "model_module_version": "1.5.0",
          "state": {
            "_model_module": "@jupyter-widgets/controls",
            "_model_module_version": "1.5.0",
            "_model_name": "ButtonStyleModel",
            "_view_count": null,
            "_view_module": "@jupyter-widgets/base",
            "_view_module_version": "1.2.0",
            "_view_name": "StyleView",
            "button_color": null,
            "font_weight": ""
          }
        },
        "c526edba0f9c431cb8f9fca814c6d606": {
          "model_module": "@jupyter-widgets/base",
          "model_name": "LayoutModel",
          "model_module_version": "1.2.0",
          "state": {
            "_model_module": "@jupyter-widgets/base",
            "_model_module_version": "1.2.0",
            "_model_name": "LayoutModel",
            "_view_count": null,
            "_view_module": "@jupyter-widgets/base",
            "_view_module_version": "1.2.0",
            "_view_name": "LayoutView",
            "align_content": null,
            "align_items": null,
            "align_self": null,
            "border": null,
            "bottom": null,
            "display": null,
            "flex": null,
            "flex_flow": null,
            "grid_area": null,
            "grid_auto_columns": null,
            "grid_auto_flow": null,
            "grid_auto_rows": null,
            "grid_column": null,
            "grid_gap": null,
            "grid_row": null,
            "grid_template_areas": null,
            "grid_template_columns": null,
            "grid_template_rows": null,
            "height": null,
            "justify_content": null,
            "justify_items": null,
            "left": null,
            "margin": null,
            "max_height": null,
            "max_width": null,
            "min_height": null,
            "min_width": null,
            "object_fit": null,
            "object_position": null,
            "order": null,
            "overflow": null,
            "overflow_x": null,
            "overflow_y": null,
            "padding": null,
            "right": null,
            "top": null,
            "visibility": null,
            "width": null
          }
        },
        "37bc580736a94cfc9156a9165c9c5e63": {
          "model_module": "@jupyter-widgets/controls",
          "model_name": "DescriptionStyleModel",
          "model_module_version": "1.5.0",
          "state": {
            "_model_module": "@jupyter-widgets/controls",
            "_model_module_version": "1.5.0",
            "_model_name": "DescriptionStyleModel",
            "_view_count": null,
            "_view_module": "@jupyter-widgets/base",
            "_view_module_version": "1.2.0",
            "_view_name": "StyleView",
            "description_width": ""
          }
        },
        "5dd693e797074777a44a8622393fd830": {
          "model_module": "@jupyter-widgets/controls",
          "model_name": "LabelModel",
          "model_module_version": "1.5.0",
          "state": {
            "_dom_classes": [],
            "_model_module": "@jupyter-widgets/controls",
            "_model_module_version": "1.5.0",
            "_model_name": "LabelModel",
            "_view_count": null,
            "_view_module": "@jupyter-widgets/controls",
            "_view_module_version": "1.5.0",
            "_view_name": "LabelView",
            "description": "",
            "description_tooltip": null,
            "layout": "IPY_MODEL_6b9dfbeef2f24d32918c222b968b4434",
            "placeholder": "​",
            "style": "IPY_MODEL_ec52aef786294aa79931a3ed11d6d603",
            "value": "Connecting..."
          }
        },
        "6b9dfbeef2f24d32918c222b968b4434": {
          "model_module": "@jupyter-widgets/base",
          "model_name": "LayoutModel",
          "model_module_version": "1.2.0",
          "state": {
            "_model_module": "@jupyter-widgets/base",
            "_model_module_version": "1.2.0",
            "_model_name": "LayoutModel",
            "_view_count": null,
            "_view_module": "@jupyter-widgets/base",
            "_view_module_version": "1.2.0",
            "_view_name": "LayoutView",
            "align_content": null,
            "align_items": null,
            "align_self": null,
            "border": null,
            "bottom": null,
            "display": null,
            "flex": null,
            "flex_flow": null,
            "grid_area": null,
            "grid_auto_columns": null,
            "grid_auto_flow": null,
            "grid_auto_rows": null,
            "grid_column": null,
            "grid_gap": null,
            "grid_row": null,
            "grid_template_areas": null,
            "grid_template_columns": null,
            "grid_template_rows": null,
            "height": null,
            "justify_content": null,
            "justify_items": null,
            "left": null,
            "margin": null,
            "max_height": null,
            "max_width": null,
            "min_height": null,
            "min_width": null,
            "object_fit": null,
            "object_position": null,
            "order": null,
            "overflow": null,
            "overflow_x": null,
            "overflow_y": null,
            "padding": null,
            "right": null,
            "top": null,
            "visibility": null,
            "width": null
          }
        },
        "ec52aef786294aa79931a3ed11d6d603": {
          "model_module": "@jupyter-widgets/controls",
          "model_name": "DescriptionStyleModel",
          "model_module_version": "1.5.0",
          "state": {
            "_model_module": "@jupyter-widgets/controls",
            "_model_module_version": "1.5.0",
            "_model_name": "DescriptionStyleModel",
            "_view_count": null,
            "_view_module": "@jupyter-widgets/base",
            "_view_module_version": "1.2.0",
            "_view_name": "StyleView",
            "description_width": ""
          }
        },
        "66758de3fed34078b45340506fa17d7f": {
          "model_module": "@jupyter-widgets/controls",
          "model_name": "LabelModel",
          "model_module_version": "1.5.0",
          "state": {
            "_dom_classes": [],
            "_model_module": "@jupyter-widgets/controls",
            "_model_module_version": "1.5.0",
            "_model_name": "LabelModel",
            "_view_count": null,
            "_view_module": "@jupyter-widgets/controls",
            "_view_module_version": "1.5.0",
            "_view_name": "LabelView",
            "description": "",
            "description_tooltip": null,
            "layout": "IPY_MODEL_f2982e06658c421288d61a0ef3e61c44",
            "placeholder": "​",
            "style": "IPY_MODEL_0f55867d27d84aaeb799e9114326afe2",
            "value": "Token is valid (permission: write)."
          }
        },
        "cd7b9a81c38c4cad807002ded8812ef9": {
          "model_module": "@jupyter-widgets/controls",
          "model_name": "LabelModel",
          "model_module_version": "1.5.0",
          "state": {
            "_dom_classes": [],
            "_model_module": "@jupyter-widgets/controls",
            "_model_module_version": "1.5.0",
            "_model_name": "LabelModel",
            "_view_count": null,
            "_view_module": "@jupyter-widgets/controls",
            "_view_module_version": "1.5.0",
            "_view_name": "LabelView",
            "description": "",
            "description_tooltip": null,
            "layout": "IPY_MODEL_e75767c9524d439385682ed8df315ece",
            "placeholder": "​",
            "style": "IPY_MODEL_45feb87cf70748789f7ec614d86b23cb",
            "value": "Your token has been saved in your configured git credential helpers (store)."
          }
        },
        "478073e793804a51a971ced58de9c429": {
          "model_module": "@jupyter-widgets/controls",
          "model_name": "LabelModel",
          "model_module_version": "1.5.0",
          "state": {
            "_dom_classes": [],
            "_model_module": "@jupyter-widgets/controls",
            "_model_module_version": "1.5.0",
            "_model_name": "LabelModel",
            "_view_count": null,
            "_view_module": "@jupyter-widgets/controls",
            "_view_module_version": "1.5.0",
            "_view_name": "LabelView",
            "description": "",
            "description_tooltip": null,
            "layout": "IPY_MODEL_8b02f88bb2334bbc924a9ee114b9ed2a",
            "placeholder": "​",
            "style": "IPY_MODEL_fb53ce2c2d644f0b8b74721cd96622d2",
            "value": "Your token has been saved to /root/.cache/huggingface/token"
          }
        },
        "8f920c6f92a845509e9303b5a36ffe5f": {
          "model_module": "@jupyter-widgets/controls",
          "model_name": "LabelModel",
          "model_module_version": "1.5.0",
          "state": {
            "_dom_classes": [],
            "_model_module": "@jupyter-widgets/controls",
            "_model_module_version": "1.5.0",
            "_model_name": "LabelModel",
            "_view_count": null,
            "_view_module": "@jupyter-widgets/controls",
            "_view_module_version": "1.5.0",
            "_view_name": "LabelView",
            "description": "",
            "description_tooltip": null,
            "layout": "IPY_MODEL_39e79cc612e64928bbef7ea89a69fbed",
            "placeholder": "​",
            "style": "IPY_MODEL_acad640e802146a0969ec48149af3a6c",
            "value": "Login successful"
          }
        },
        "f2982e06658c421288d61a0ef3e61c44": {
          "model_module": "@jupyter-widgets/base",
          "model_name": "LayoutModel",
          "model_module_version": "1.2.0",
          "state": {
            "_model_module": "@jupyter-widgets/base",
            "_model_module_version": "1.2.0",
            "_model_name": "LayoutModel",
            "_view_count": null,
            "_view_module": "@jupyter-widgets/base",
            "_view_module_version": "1.2.0",
            "_view_name": "LayoutView",
            "align_content": null,
            "align_items": null,
            "align_self": null,
            "border": null,
            "bottom": null,
            "display": null,
            "flex": null,
            "flex_flow": null,
            "grid_area": null,
            "grid_auto_columns": null,
            "grid_auto_flow": null,
            "grid_auto_rows": null,
            "grid_column": null,
            "grid_gap": null,
            "grid_row": null,
            "grid_template_areas": null,
            "grid_template_columns": null,
            "grid_template_rows": null,
            "height": null,
            "justify_content": null,
            "justify_items": null,
            "left": null,
            "margin": null,
            "max_height": null,
            "max_width": null,
            "min_height": null,
            "min_width": null,
            "object_fit": null,
            "object_position": null,
            "order": null,
            "overflow": null,
            "overflow_x": null,
            "overflow_y": null,
            "padding": null,
            "right": null,
            "top": null,
            "visibility": null,
            "width": null
          }
        },
        "0f55867d27d84aaeb799e9114326afe2": {
          "model_module": "@jupyter-widgets/controls",
          "model_name": "DescriptionStyleModel",
          "model_module_version": "1.5.0",
          "state": {
            "_model_module": "@jupyter-widgets/controls",
            "_model_module_version": "1.5.0",
            "_model_name": "DescriptionStyleModel",
            "_view_count": null,
            "_view_module": "@jupyter-widgets/base",
            "_view_module_version": "1.2.0",
            "_view_name": "StyleView",
            "description_width": ""
          }
        },
        "e75767c9524d439385682ed8df315ece": {
          "model_module": "@jupyter-widgets/base",
          "model_name": "LayoutModel",
          "model_module_version": "1.2.0",
          "state": {
            "_model_module": "@jupyter-widgets/base",
            "_model_module_version": "1.2.0",
            "_model_name": "LayoutModel",
            "_view_count": null,
            "_view_module": "@jupyter-widgets/base",
            "_view_module_version": "1.2.0",
            "_view_name": "LayoutView",
            "align_content": null,
            "align_items": null,
            "align_self": null,
            "border": null,
            "bottom": null,
            "display": null,
            "flex": null,
            "flex_flow": null,
            "grid_area": null,
            "grid_auto_columns": null,
            "grid_auto_flow": null,
            "grid_auto_rows": null,
            "grid_column": null,
            "grid_gap": null,
            "grid_row": null,
            "grid_template_areas": null,
            "grid_template_columns": null,
            "grid_template_rows": null,
            "height": null,
            "justify_content": null,
            "justify_items": null,
            "left": null,
            "margin": null,
            "max_height": null,
            "max_width": null,
            "min_height": null,
            "min_width": null,
            "object_fit": null,
            "object_position": null,
            "order": null,
            "overflow": null,
            "overflow_x": null,
            "overflow_y": null,
            "padding": null,
            "right": null,
            "top": null,
            "visibility": null,
            "width": null
          }
        },
        "45feb87cf70748789f7ec614d86b23cb": {
          "model_module": "@jupyter-widgets/controls",
          "model_name": "DescriptionStyleModel",
          "model_module_version": "1.5.0",
          "state": {
            "_model_module": "@jupyter-widgets/controls",
            "_model_module_version": "1.5.0",
            "_model_name": "DescriptionStyleModel",
            "_view_count": null,
            "_view_module": "@jupyter-widgets/base",
            "_view_module_version": "1.2.0",
            "_view_name": "StyleView",
            "description_width": ""
          }
        },
        "8b02f88bb2334bbc924a9ee114b9ed2a": {
          "model_module": "@jupyter-widgets/base",
          "model_name": "LayoutModel",
          "model_module_version": "1.2.0",
          "state": {
            "_model_module": "@jupyter-widgets/base",
            "_model_module_version": "1.2.0",
            "_model_name": "LayoutModel",
            "_view_count": null,
            "_view_module": "@jupyter-widgets/base",
            "_view_module_version": "1.2.0",
            "_view_name": "LayoutView",
            "align_content": null,
            "align_items": null,
            "align_self": null,
            "border": null,
            "bottom": null,
            "display": null,
            "flex": null,
            "flex_flow": null,
            "grid_area": null,
            "grid_auto_columns": null,
            "grid_auto_flow": null,
            "grid_auto_rows": null,
            "grid_column": null,
            "grid_gap": null,
            "grid_row": null,
            "grid_template_areas": null,
            "grid_template_columns": null,
            "grid_template_rows": null,
            "height": null,
            "justify_content": null,
            "justify_items": null,
            "left": null,
            "margin": null,
            "max_height": null,
            "max_width": null,
            "min_height": null,
            "min_width": null,
            "object_fit": null,
            "object_position": null,
            "order": null,
            "overflow": null,
            "overflow_x": null,
            "overflow_y": null,
            "padding": null,
            "right": null,
            "top": null,
            "visibility": null,
            "width": null
          }
        },
        "fb53ce2c2d644f0b8b74721cd96622d2": {
          "model_module": "@jupyter-widgets/controls",
          "model_name": "DescriptionStyleModel",
          "model_module_version": "1.5.0",
          "state": {
            "_model_module": "@jupyter-widgets/controls",
            "_model_module_version": "1.5.0",
            "_model_name": "DescriptionStyleModel",
            "_view_count": null,
            "_view_module": "@jupyter-widgets/base",
            "_view_module_version": "1.2.0",
            "_view_name": "StyleView",
            "description_width": ""
          }
        },
        "39e79cc612e64928bbef7ea89a69fbed": {
          "model_module": "@jupyter-widgets/base",
          "model_name": "LayoutModel",
          "model_module_version": "1.2.0",
          "state": {
            "_model_module": "@jupyter-widgets/base",
            "_model_module_version": "1.2.0",
            "_model_name": "LayoutModel",
            "_view_count": null,
            "_view_module": "@jupyter-widgets/base",
            "_view_module_version": "1.2.0",
            "_view_name": "LayoutView",
            "align_content": null,
            "align_items": null,
            "align_self": null,
            "border": null,
            "bottom": null,
            "display": null,
            "flex": null,
            "flex_flow": null,
            "grid_area": null,
            "grid_auto_columns": null,
            "grid_auto_flow": null,
            "grid_auto_rows": null,
            "grid_column": null,
            "grid_gap": null,
            "grid_row": null,
            "grid_template_areas": null,
            "grid_template_columns": null,
            "grid_template_rows": null,
            "height": null,
            "justify_content": null,
            "justify_items": null,
            "left": null,
            "margin": null,
            "max_height": null,
            "max_width": null,
            "min_height": null,
            "min_width": null,
            "object_fit": null,
            "object_position": null,
            "order": null,
            "overflow": null,
            "overflow_x": null,
            "overflow_y": null,
            "padding": null,
            "right": null,
            "top": null,
            "visibility": null,
            "width": null
          }
        },
        "acad640e802146a0969ec48149af3a6c": {
          "model_module": "@jupyter-widgets/controls",
          "model_name": "DescriptionStyleModel",
          "model_module_version": "1.5.0",
          "state": {
            "_model_module": "@jupyter-widgets/controls",
            "_model_module_version": "1.5.0",
            "_model_name": "DescriptionStyleModel",
            "_view_count": null,
            "_view_module": "@jupyter-widgets/base",
            "_view_module_version": "1.2.0",
            "_view_name": "StyleView",
            "description_width": ""
          }
        }
      }
    }
  },
  "cells": [
    {
      "cell_type": "markdown",
      "metadata": {
        "id": "view-in-github",
        "colab_type": "text"
      },
      "source": [
        "<a href=\"https://colab.research.google.com/github/aidyai/rss-ai/blob/main/rss.ipynb\" target=\"_parent\"><img src=\"https://colab.research.google.com/assets/colab-badge.svg\" alt=\"Open In Colab\"/></a>"
      ]
    },
    {
      "cell_type": "code",
      "source": [
        "%pip install --upgrade --quiet  apify-client langchain-openai langchain\n",
        "!pip install feedparser newspaper3k openai\n",
        "!pip install openai==0.28\n"
      ],
      "metadata": {
        "id": "y0OflDvi93wl"
      },
      "execution_count": null,
      "outputs": []
    },
    {
      "cell_type": "code",
      "source": [
        "from langchain.indexes import VectorstoreIndexCreator\n",
        "from langchain_community.utilities import ApifyWrapper\n",
        "from langchain_core.documents import Document\n",
        "\n",
        "import feedparser\n",
        "import requests\n",
        "from bs4 import BeautifulSoup\n",
        "import openai\n",
        "from newspaper import Article"
      ],
      "metadata": {
        "id": "4Z5ch9luxTih"
      },
      "execution_count": 3,
      "outputs": []
    },
    {
      "cell_type": "code",
      "source": [
        "import os\n",
        "os.environ[\"APIFY_API_TOKEN\"] = \"apify_api_r2J5EYAZ2qOeCTSBDqN3RJ2IraTke911bWjC\"\n",
        "os.environ[\"OPENAI_API_KEY\"] = \"\"\n"
      ],
      "metadata": {
        "id": "eb4VGy4JyC5h"
      },
      "execution_count": 4,
      "outputs": []
    },
    {
      "cell_type": "code",
      "source": [
        "# RSS feed URL\n",
        "rss_feed_url = 'https://news.google.com/rss/search?q=akwa%20ibom&hl=en-US&gl=US&ceid=US%3Aen'\n",
        "\n",
        "# Parse the RSS feed\n",
        "feed = feedparser.parse(rss_feed_url)\n",
        "\n",
        "# Get the latest 5 articles\n",
        "latest_articles = feed.entries[6:7]"
      ],
      "metadata": {
        "id": "rXW2h3SD3cBf"
      },
      "execution_count": 6,
      "outputs": []
    },
    {
      "cell_type": "code",
      "source": [
        "for article in latest_articles:\n",
        "    # Get the title and article URL\n",
        "    title = article.title\n",
        "    article_url = article.link\n",
        "    print(article_url)"
      ],
      "metadata": {
        "colab": {
          "base_uri": "https://localhost:8080/"
        },
        "id": "wCo6nEgf26zq",
        "outputId": "9c1e2402-a38a-4145-d2fb-170381fe0096"
      },
      "execution_count": 8,
      "outputs": [
        {
          "output_type": "stream",
          "name": "stdout",
          "text": [
            "https://news.google.com/rss/articles/CBMiV2h0dHBzOi8vdGhld2lsbG5ld3MuY29tL29waW5pb24tY3VsdHVyYWwtc2ltaWxhcml0aWVzLWJldHdlZW4tYWt3YS1pYm9taXRlcy1hbmQtbmRpZ2JvL9IBAA?oc=5\n"
          ]
        }
      ]
    },
    {
      "cell_type": "code",
      "source": [
        "apify = ApifyWrapper()"
      ],
      "metadata": {
        "id": "ERFb7-OOxcHz"
      },
      "execution_count": 7,
      "outputs": []
    },
    {
      "cell_type": "code",
      "source": [
        "urls_to_crawl = []\n",
        "# Loop through the latest articles\n",
        "for article in latest_articles:\n",
        "    # Get the title and article URL\n",
        "    title = article.title\n",
        "    article_url = article.link\n",
        "    # Print the article URL\n",
        "    #print(article_url)\n",
        "    # Append the article URL to the list of URLs to crawl\n",
        "    urls_to_crawl.append({\"url\": article_url})\n",
        "\n",
        "# Use the list of URLs to call the Apify actor\n",
        "loader = apify.call_actor(\n",
        "    actor_id=\"apify/website-content-crawler\",\n",
        "    run_input={\"startUrls\": urls_to_crawl},\n",
        "    dataset_mapping_function=lambda item: Document(\n",
        "        page_content=item[\"text\"] or \"\", metadata={\"source\": item[\"url\"]}\n",
        "    ),\n",
        ")"
      ],
      "metadata": {
        "id": "eiRa4Kz34drb"
      },
      "execution_count": 8,
      "outputs": []
    },
    {
      "cell_type": "code",
      "source": [
        "t = loader.load()\n",
        "t"
      ],
      "metadata": {
        "colab": {
          "base_uri": "https://localhost:8080/"
        },
        "id": "HaQ3ZSAk9eEZ",
        "outputId": "d0ccd148-5857-40ff-c4b0-3868c124baa0"
      },
      "execution_count": 9,
      "outputs": [
        {
          "output_type": "execute_result",
          "data": {
            "text/plain": [
              "[Document(page_content='EFCC arrests 44 suspected internet fraudsters in Calabar\\nBy Soni Daniel, Abuja \\nInvestigators at the Uyo Zonal Command of the Economic and Financial Crimes Commission, EFCC, have arrested forty-four(44) suspected internet fraudsters.\\nThe Spokesman for the EFCC Dele Oyewale said the suspected fraudsters were arrested in an early morning sting operation on Thursday at Satellite town, Tinapa junction and parliamentary extension areas of Calabar in Cross River State.\\nREAD ALSO: EFCC arrests 64 suspected internet fraudsters in Osun\\nOyewqle listed the Items recovered from them to include six exotic cars, 16 laptops and 38 mobile phones.\\nThe statment said the suspects would be charged to court as soon as investigations are concluded.', metadata={'source': 'https://news.google.com/rss/articles/CBMiXWh0dHBzOi8vd3d3LnZhbmd1YXJkbmdyLmNvbS8yMDI0LzA1L2VmY2MtYXJyZXN0cy00NC1zdXNwZWN0ZWQtaW50ZXJuZXQtZnJhdWRzdGVycy1pbi1jYWxhYmFyL9IBYWh0dHBzOi8vd3d3LnZhbmd1YXJkbmdyLmNvbS8yMDI0LzA1L2VmY2MtYXJyZXN0cy00NC1zdXNwZWN0ZWQtaW50ZXJuZXQtZnJhdWRzdGVycy1pbi1jYWxhYmFyL2FtcC8?oc=5'})]"
            ]
          },
          "metadata": {},
          "execution_count": 9
        }
      ]
    },
    {
      "cell_type": "code",
      "source": [
        "import json\n",
        "# Extracting content from the list\n",
        "extracted_content = [document.page_content for document in t]\n",
        "\n",
        "# Printing the extracted content\n",
        "print(extracted_content)"
      ],
      "metadata": {
        "colab": {
          "base_uri": "https://localhost:8080/"
        },
        "id": "oC-PHsTlDbT2",
        "outputId": "86de8894-aa0b-46d9-e2ee-d863eeb63fe4"
      },
      "execution_count": 16,
      "outputs": [
        {
          "output_type": "stream",
          "name": "stdout",
          "text": [
            "['EFCC arrests 44 suspected internet fraudsters in Calabar\\nBy Soni Daniel, Abuja \\nInvestigators at the Uyo Zonal Command of the Economic and Financial Crimes Commission, EFCC, have arrested forty-four(44) suspected internet fraudsters.\\nThe Spokesman for the EFCC Dele Oyewale said the suspected fraudsters were arrested in an early morning sting operation on Thursday at Satellite town, Tinapa junction and parliamentary extension areas of Calabar in Cross River State.\\nREAD ALSO: EFCC arrests 64 suspected internet fraudsters in Osun\\nOyewqle listed the Items recovered from them to include six exotic cars, 16 laptops and 38 mobile phones.\\nThe statment said the suspects would be charged to court as soon as investigations are concluded.']\n"
          ]
        }
      ]
    },
    {
      "cell_type": "code",
      "source": [
        "import openai\n"
      ],
      "metadata": {
        "id": "tOpY9oDeAKOU"
      },
      "execution_count": 22,
      "outputs": []
    },
    {
      "cell_type": "code",
      "source": [
        "# Send the content to OpenAI to get topic and category tags\n",
        "response = openai.Completion.create(\n",
        "    model=\"gpt-3.5-turbo-instruct\",\n",
        "    prompt=extracted_content,\n",
        "    max_tokens=50,  # Adjust as needed\n",
        "    n=1,  # Number of completions to generate\n",
        "    stop=[\"\\n\"],  # Stop completion at the end of the text\n",
        "    temperature=0.5,  # Adjust as needed\n",
        "    top_p=1.0,\n",
        "    frequency_penalty=0.0,\n",
        "    presence_penalty=0.0,\n",
        "    logit_bias={},\n",
        "    logprobs=0,\n",
        "    echo=True  # Print the input prompt along with the completion\n",
        ")\n",
        "\n",
        "# Extract the generated tags from the response\n",
        "generated_tags = response.choices[0].text.strip().split(\"\\n\")\n",
        "\n",
        "# Extract 5 topic tags and 5 article category tags\n",
        "topic_tags = generated_tags[:5]\n",
        "article_category_tags = generated_tags[5:10]\n",
        "\n",
        "# Print the extracted tags\n",
        "print(\"Topic Tags:\", topic_tags)\n",
        "print(\"Article Category Tags:\", article_category_tags)"
      ],
      "metadata": {
        "id": "rpDDkWQuADd0"
      },
      "execution_count": null,
      "outputs": []
    },
    {
      "cell_type": "code",
      "source": [
        "def generate_tags(article_text):\n",
        "    # Prompt for generating topic tags\n",
        "    topic_prompt = f\"Generate 5 topic tags for the given article:\\n{article_text}\\n---\\n\"\n",
        "    # Prompt for generating article category tags\n",
        "    category_prompt = f\"Generate 5 article category tags for the given article:\\n{article_text}\\n---\\n\"\n",
        "\n",
        "    # Call OpenAI's classification model to generate tags\n",
        "    topic_response = openai.Completion.create(\n",
        "        model=\"gpt-3.5-turbo-instruct\",\n",
        "        prompt=topic_prompt,\n",
        "        max_tokens=50,\n",
        "        n=5,\n",
        "        stop=[\"\\n\"]\n",
        "    )\n",
        "\n",
        "    # Extract tags from the response\n",
        "    topic_tags = [choice[\"text\"].strip() for choice in topic_response.choices]\n",
        "    #category_tags = [choice[\"text\"].strip() for choice in category_response.choices]\n",
        "\n",
        "    return topic_tags  #, category_tags\n"
      ],
      "metadata": {
        "id": "28Pq7PkcEsUa"
      },
      "execution_count": 24,
      "outputs": []
    },
    {
      "cell_type": "code",
      "source": [
        "# Generate tags for the example article text\n",
        "topic_tags, category_tags = generate_tags(extracted_content)\n",
        "\n",
        "# Print the generated tags\n",
        "print(\"Generated Topic Tags:\")\n",
        "for tag in topic_tags:\n",
        "    print(\"-\", tag)\n",
        "\n",
        "#print(\"\\nGenerated Article Category Tags:\")\n",
        "#for tag in category_tags:\n",
        "#    print(\"-\", tag)\n"
      ],
      "metadata": {
        "colab": {
          "base_uri": "https://localhost:8080/",
          "height": 430
        },
        "id": "YL6c357gE50t",
        "outputId": "82cd1710-eb24-41f4-bb27-1b585b7ec517"
      },
      "execution_count": 25,
      "outputs": [
        {
          "output_type": "error",
          "ename": "AuthenticationError",
          "evalue": "Incorrect API key provided: sk-nUdwN***************************************fnpE. You can find your API key at https://platform.openai.com/account/api-keys.",
          "traceback": [
            "\u001b[0;31m---------------------------------------------------------------------------\u001b[0m",
            "\u001b[0;31mAuthenticationError\u001b[0m                       Traceback (most recent call last)",
            "\u001b[0;32m<ipython-input-25-c5866d5a965d>\u001b[0m in \u001b[0;36m<cell line: 2>\u001b[0;34m()\u001b[0m\n\u001b[1;32m      1\u001b[0m \u001b[0;31m# Generate tags for the example article text\u001b[0m\u001b[0;34m\u001b[0m\u001b[0;34m\u001b[0m\u001b[0m\n\u001b[0;32m----> 2\u001b[0;31m \u001b[0mtopic_tags\u001b[0m\u001b[0;34m,\u001b[0m \u001b[0mcategory_tags\u001b[0m \u001b[0;34m=\u001b[0m \u001b[0mgenerate_tags\u001b[0m\u001b[0;34m(\u001b[0m\u001b[0mextracted_content\u001b[0m\u001b[0;34m)\u001b[0m\u001b[0;34m\u001b[0m\u001b[0;34m\u001b[0m\u001b[0m\n\u001b[0m\u001b[1;32m      3\u001b[0m \u001b[0;34m\u001b[0m\u001b[0m\n\u001b[1;32m      4\u001b[0m \u001b[0;31m# Print the generated tags\u001b[0m\u001b[0;34m\u001b[0m\u001b[0;34m\u001b[0m\u001b[0m\n\u001b[1;32m      5\u001b[0m \u001b[0mprint\u001b[0m\u001b[0;34m(\u001b[0m\u001b[0;34m\"Generated Topic Tags:\"\u001b[0m\u001b[0;34m)\u001b[0m\u001b[0;34m\u001b[0m\u001b[0;34m\u001b[0m\u001b[0m\n",
            "\u001b[0;32m<ipython-input-24-407e132dc1dd>\u001b[0m in \u001b[0;36mgenerate_tags\u001b[0;34m(article_text)\u001b[0m\n\u001b[1;32m      6\u001b[0m \u001b[0;34m\u001b[0m\u001b[0m\n\u001b[1;32m      7\u001b[0m     \u001b[0;31m# Call OpenAI's classification model to generate tags\u001b[0m\u001b[0;34m\u001b[0m\u001b[0;34m\u001b[0m\u001b[0m\n\u001b[0;32m----> 8\u001b[0;31m     topic_response = openai.Completion.create(\n\u001b[0m\u001b[1;32m      9\u001b[0m         \u001b[0mmodel\u001b[0m\u001b[0;34m=\u001b[0m\u001b[0;34m\"gpt-3.5-turbo-instruct\"\u001b[0m\u001b[0;34m,\u001b[0m\u001b[0;34m\u001b[0m\u001b[0;34m\u001b[0m\u001b[0m\n\u001b[1;32m     10\u001b[0m         \u001b[0mprompt\u001b[0m\u001b[0;34m=\u001b[0m\u001b[0mtopic_prompt\u001b[0m\u001b[0;34m,\u001b[0m\u001b[0;34m\u001b[0m\u001b[0;34m\u001b[0m\u001b[0m\n",
            "\u001b[0;32m/usr/local/lib/python3.10/dist-packages/openai/api_resources/completion.py\u001b[0m in \u001b[0;36mcreate\u001b[0;34m(cls, *args, **kwargs)\u001b[0m\n\u001b[1;32m     23\u001b[0m         \u001b[0;32mwhile\u001b[0m \u001b[0;32mTrue\u001b[0m\u001b[0;34m:\u001b[0m\u001b[0;34m\u001b[0m\u001b[0;34m\u001b[0m\u001b[0m\n\u001b[1;32m     24\u001b[0m             \u001b[0;32mtry\u001b[0m\u001b[0;34m:\u001b[0m\u001b[0;34m\u001b[0m\u001b[0;34m\u001b[0m\u001b[0m\n\u001b[0;32m---> 25\u001b[0;31m                 \u001b[0;32mreturn\u001b[0m \u001b[0msuper\u001b[0m\u001b[0;34m(\u001b[0m\u001b[0;34m)\u001b[0m\u001b[0;34m.\u001b[0m\u001b[0mcreate\u001b[0m\u001b[0;34m(\u001b[0m\u001b[0;34m*\u001b[0m\u001b[0margs\u001b[0m\u001b[0;34m,\u001b[0m \u001b[0;34m**\u001b[0m\u001b[0mkwargs\u001b[0m\u001b[0;34m)\u001b[0m\u001b[0;34m\u001b[0m\u001b[0;34m\u001b[0m\u001b[0m\n\u001b[0m\u001b[1;32m     26\u001b[0m             \u001b[0;32mexcept\u001b[0m \u001b[0mTryAgain\u001b[0m \u001b[0;32mas\u001b[0m \u001b[0me\u001b[0m\u001b[0;34m:\u001b[0m\u001b[0;34m\u001b[0m\u001b[0;34m\u001b[0m\u001b[0m\n\u001b[1;32m     27\u001b[0m                 \u001b[0;32mif\u001b[0m \u001b[0mtimeout\u001b[0m \u001b[0;32mis\u001b[0m \u001b[0;32mnot\u001b[0m \u001b[0;32mNone\u001b[0m \u001b[0;32mand\u001b[0m \u001b[0mtime\u001b[0m\u001b[0;34m.\u001b[0m\u001b[0mtime\u001b[0m\u001b[0;34m(\u001b[0m\u001b[0;34m)\u001b[0m \u001b[0;34m>\u001b[0m \u001b[0mstart\u001b[0m \u001b[0;34m+\u001b[0m \u001b[0mtimeout\u001b[0m\u001b[0;34m:\u001b[0m\u001b[0;34m\u001b[0m\u001b[0;34m\u001b[0m\u001b[0m\n",
            "\u001b[0;32m/usr/local/lib/python3.10/dist-packages/openai/api_resources/abstract/engine_api_resource.py\u001b[0m in \u001b[0;36mcreate\u001b[0;34m(cls, api_key, api_base, api_type, request_id, api_version, organization, **params)\u001b[0m\n\u001b[1;32m    151\u001b[0m         )\n\u001b[1;32m    152\u001b[0m \u001b[0;34m\u001b[0m\u001b[0m\n\u001b[0;32m--> 153\u001b[0;31m         response, _, api_key = requestor.request(\n\u001b[0m\u001b[1;32m    154\u001b[0m             \u001b[0;34m\"post\"\u001b[0m\u001b[0;34m,\u001b[0m\u001b[0;34m\u001b[0m\u001b[0;34m\u001b[0m\u001b[0m\n\u001b[1;32m    155\u001b[0m             \u001b[0murl\u001b[0m\u001b[0;34m,\u001b[0m\u001b[0;34m\u001b[0m\u001b[0;34m\u001b[0m\u001b[0m\n",
            "\u001b[0;32m/usr/local/lib/python3.10/dist-packages/openai/api_requestor.py\u001b[0m in \u001b[0;36mrequest\u001b[0;34m(self, method, url, params, headers, files, stream, request_id, request_timeout)\u001b[0m\n\u001b[1;32m    296\u001b[0m             \u001b[0mrequest_timeout\u001b[0m\u001b[0;34m=\u001b[0m\u001b[0mrequest_timeout\u001b[0m\u001b[0;34m,\u001b[0m\u001b[0;34m\u001b[0m\u001b[0;34m\u001b[0m\u001b[0m\n\u001b[1;32m    297\u001b[0m         )\n\u001b[0;32m--> 298\u001b[0;31m         \u001b[0mresp\u001b[0m\u001b[0;34m,\u001b[0m \u001b[0mgot_stream\u001b[0m \u001b[0;34m=\u001b[0m \u001b[0mself\u001b[0m\u001b[0;34m.\u001b[0m\u001b[0m_interpret_response\u001b[0m\u001b[0;34m(\u001b[0m\u001b[0mresult\u001b[0m\u001b[0;34m,\u001b[0m \u001b[0mstream\u001b[0m\u001b[0;34m)\u001b[0m\u001b[0;34m\u001b[0m\u001b[0;34m\u001b[0m\u001b[0m\n\u001b[0m\u001b[1;32m    299\u001b[0m         \u001b[0;32mreturn\u001b[0m \u001b[0mresp\u001b[0m\u001b[0;34m,\u001b[0m \u001b[0mgot_stream\u001b[0m\u001b[0;34m,\u001b[0m \u001b[0mself\u001b[0m\u001b[0;34m.\u001b[0m\u001b[0mapi_key\u001b[0m\u001b[0;34m\u001b[0m\u001b[0;34m\u001b[0m\u001b[0m\n\u001b[1;32m    300\u001b[0m \u001b[0;34m\u001b[0m\u001b[0m\n",
            "\u001b[0;32m/usr/local/lib/python3.10/dist-packages/openai/api_requestor.py\u001b[0m in \u001b[0;36m_interpret_response\u001b[0;34m(self, result, stream)\u001b[0m\n\u001b[1;32m    698\u001b[0m         \u001b[0;32melse\u001b[0m\u001b[0;34m:\u001b[0m\u001b[0;34m\u001b[0m\u001b[0;34m\u001b[0m\u001b[0m\n\u001b[1;32m    699\u001b[0m             return (\n\u001b[0;32m--> 700\u001b[0;31m                 self._interpret_response_line(\n\u001b[0m\u001b[1;32m    701\u001b[0m                     \u001b[0mresult\u001b[0m\u001b[0;34m.\u001b[0m\u001b[0mcontent\u001b[0m\u001b[0;34m.\u001b[0m\u001b[0mdecode\u001b[0m\u001b[0;34m(\u001b[0m\u001b[0;34m\"utf-8\"\u001b[0m\u001b[0;34m)\u001b[0m\u001b[0;34m,\u001b[0m\u001b[0;34m\u001b[0m\u001b[0;34m\u001b[0m\u001b[0m\n\u001b[1;32m    702\u001b[0m                     \u001b[0mresult\u001b[0m\u001b[0;34m.\u001b[0m\u001b[0mstatus_code\u001b[0m\u001b[0;34m,\u001b[0m\u001b[0;34m\u001b[0m\u001b[0;34m\u001b[0m\u001b[0m\n",
            "\u001b[0;32m/usr/local/lib/python3.10/dist-packages/openai/api_requestor.py\u001b[0m in \u001b[0;36m_interpret_response_line\u001b[0;34m(self, rbody, rcode, rheaders, stream)\u001b[0m\n\u001b[1;32m    763\u001b[0m         \u001b[0mstream_error\u001b[0m \u001b[0;34m=\u001b[0m \u001b[0mstream\u001b[0m \u001b[0;32mand\u001b[0m \u001b[0;34m\"error\"\u001b[0m \u001b[0;32min\u001b[0m \u001b[0mresp\u001b[0m\u001b[0;34m.\u001b[0m\u001b[0mdata\u001b[0m\u001b[0;34m\u001b[0m\u001b[0;34m\u001b[0m\u001b[0m\n\u001b[1;32m    764\u001b[0m         \u001b[0;32mif\u001b[0m \u001b[0mstream_error\u001b[0m \u001b[0;32mor\u001b[0m \u001b[0;32mnot\u001b[0m \u001b[0;36m200\u001b[0m \u001b[0;34m<=\u001b[0m \u001b[0mrcode\u001b[0m \u001b[0;34m<\u001b[0m \u001b[0;36m300\u001b[0m\u001b[0;34m:\u001b[0m\u001b[0;34m\u001b[0m\u001b[0;34m\u001b[0m\u001b[0m\n\u001b[0;32m--> 765\u001b[0;31m             raise self.handle_error_response(\n\u001b[0m\u001b[1;32m    766\u001b[0m                 \u001b[0mrbody\u001b[0m\u001b[0;34m,\u001b[0m \u001b[0mrcode\u001b[0m\u001b[0;34m,\u001b[0m \u001b[0mresp\u001b[0m\u001b[0;34m.\u001b[0m\u001b[0mdata\u001b[0m\u001b[0;34m,\u001b[0m \u001b[0mrheaders\u001b[0m\u001b[0;34m,\u001b[0m \u001b[0mstream_error\u001b[0m\u001b[0;34m=\u001b[0m\u001b[0mstream_error\u001b[0m\u001b[0;34m\u001b[0m\u001b[0;34m\u001b[0m\u001b[0m\n\u001b[1;32m    767\u001b[0m             )\n",
            "\u001b[0;31mAuthenticationError\u001b[0m: Incorrect API key provided: sk-nUdwN***************************************fnpE. You can find your API key at https://platform.openai.com/account/api-keys."
          ]
        }
      ]
    },
    {
      "cell_type": "code",
      "source": [
        "t = loader.load()\n",
        "t"
      ],
      "metadata": {
        "colab": {
          "base_uri": "https://localhost:8080/"
        },
        "id": "SUIBok2Y470p",
        "outputId": "a26de7dc-962f-44ed-df4a-2d0ef6be107b"
      },
      "execution_count": 36,
      "outputs": [
        {
          "output_type": "execute_result",
          "data": {
            "text/plain": [
              "[Document(page_content='By Chioma Onuegbu Uyo\\nGOVERNOR Umo Eno has continued to demonstrate his readiness, determination, and commitment to fulfilling his contract with the people of Akwa Ibom State including creating job opportunities and enlarging the path for economic prosperity.\\nAnd the governor at different fora emphasized that for his administration to achieve this contract there was need to revive the entrepreneurial spirit of the people through comprehensive training and support.\\nAccordingly, as an ardent advocate of entrepreneurship development, as soon as he came on board, he hit the ground running, by putting in place variety of initiatives, popular among them is a Business School under the auspices of Ibom-Leadership Entrepreneurial Development (Ibom-LED).\\nThe initiative which has its Headquarters at the E-Library Complex along IBB Avenue Uyo has Pastor ImaAbasi Jacob as the team lead and Mrs Ekaette Umoh as the Director General.\\nAnd according to Ibom-LED team , the initiative was designed to provide skills to make Akwa Ibom economy private sector driven, to move Agriculture from subsistence to commercial, via comprehensive training programmes that covers all aspects of starting managing and scaling a business.\\nAlso the programme was put in place to digitalize the state’s economy and to raise value-based leaders the development of the state.\\nAnd so far the initiative which graduated its first- batch trainees of 400 in December 2023 could be said to be making progress given the number of Akwa Ibo young men and women who have been equipped with the requisite skills and knowledge and also supported with cash grants of N500,000 each to establish themselves and sustain their businesses.\\nIt could be recalled that governor Umo Eno had started off the N500,000 cash grant support to Ibom-LED trainees when he announced the total sum of N250million for the business school in September 2023 at the Made in Akwa Ibom Trade Fair held at the Ibom-Leadership Entrepreneurial Development center.\\nThe governor had explained that N50million was for the registration fee and training of the 400 participants, while five hundred thousand Naira (N500,000) should be disbursed to each trainee as a take-off grants after the completion of the three months Programme.\\nJust last week, governor Umo Eno in his commitment to the success of the programme launched a N400million grant for disbursement to 800 beneficiaries of the Ibom-LED, Entrepreneurship Accelerator Programme (EAP).\\nAdvising the 800 beneficiaries, Eno noted, “I would like to say clearly here, whether this Programme will continue or not depends on you because you are the Ambassadors of this Programme. You are not all totally new in business or entrepreneurship.\\n“I am not concerned about the little SEED that will be put in your hands , but the training you have received. Everything you need to succeed is in your hands. For now don’t be politicians, just be entrepreneurs.\\n” This is an opportunity for you to have a primary address. If you have a primary address politics is secondary, people will respect you for what you do. This little money is a SEED and if you plant it well, it will bring a mighty harvest.\\n” I remember that in this state I opened my Hotel with just 5-rooms and few years later it had grown exponentially. The first thing is that you must make up your mind to succeed”\\nIbom-LED has partnered other organizations within and outside the state such as the Partnership Initiative In the Niger Delta (PIND foundation) and Enterprise Development Center (EDC) based in Lagos state to promote and actualize its training programmes.\\nAnd Ibom-LED is partnering the EDC on capacity building for 10,000 young Akwa Ibom who are 18 to 35years old.\\nAccording to reports in December 2023 PIND foundation, a non-profit organization working with partners to build peace and equitable economic development in the Niger Delta partnered with Ibom-LED to implement the Youths Employment Pathway(YEP) project to expand its reach in Akwa Ibom state.\\nThe skills programme on Technical Training and Leatherwork and Behavioural Skills and Entrepreneurship, aimed at transforming the mindset of the young trainees as well as enhance their enterprise acumen.\\nSpeaking in the state during the signing of Memorandum of Understanding (MoU) recently between the the Entreprise Development Center and Ibom-LED, governor had expressed government readiness for more partnership to realize his vision in entrepreneurship development.\\n“This partnership for me is critical. I thank the EDC for this partnership. And I ask for more of this support so as to realize the vision that we have set out and at the end of it Ibom-LED can truly say we have developed our Small and Medium Entreprises (SMEs)”, Eno had said.\\nThe visible progress of Ibom-LED has started attracting commendations from individuals and groups such as the “Connect Initiative”\\nA statement by Connect Initiative sighted online during the events marking governor Eno’s 60th birthday reads in part, ” Governor Eno has been in the forefront of efforts engendering business and economic growth with the creation of different initiative including the establishment of Ibom Leadership and Entrepreneurial Center aimed at cutting down poverty figures and providing opportunities for youths interested in making a career of their talents.\\n“This this idea of not feeding them fish but teaching them how to fish is commendable”', metadata={'source': 'https://www.vanguardngr.com/2024/05/how-eno-stimulating-akwa-ibom-economy-through-entrepreneurship-development/'})]"
            ]
          },
          "metadata": {},
          "execution_count": 36
        }
      ]
    },
    {
      "cell_type": "code",
      "source": [],
      "metadata": {
        "id": "4eb4b0iQ9b4z"
      },
      "execution_count": null,
      "outputs": []
    },
    {
      "cell_type": "code",
      "source": [
        "t = loader.load()\n",
        "t"
      ],
      "metadata": {
        "id": "dDi149nDyjgP"
      },
      "execution_count": null,
      "outputs": []
    },
    {
      "cell_type": "code",
      "source": [
        "from huggingface_hub import notebook_login\n",
        "notebook_login()"
      ],
      "metadata": {
        "colab": {
          "base_uri": "https://localhost:8080/",
          "height": 164,
          "referenced_widgets": [
            "b6737234547144e9a1d8c1bc44a87853",
            "02ebfccc854845718d739ff8fe3b495b",
            "0600fe04859b4ef6a66cfbcb31583086",
            "3e8eed3d5319486a93a6a94697d20bca",
            "4334b930c0d14309897e964f12f564e7",
            "6a8ca06364104022a344b28fe6009f92",
            "3fd668a4b5c54d10becd85c0054e2619",
            "d8e270c26b234f3a80b86b6d4d5a1b9a",
            "ffd38a29e31640efaed85f6bcc110b57",
            "2d76f08ce9fc4e8a955f494038ff647e",
            "c9f37d82d8684cf69f388f14849a3b36",
            "d03227fb86f242a1b1cff44a2a75fc01",
            "5a2714495941452b9d49ac235796905b",
            "c67ac31c3780436192714441dfec6ba0",
            "c202be5243b84db7a98e1910c831af58",
            "c526edba0f9c431cb8f9fca814c6d606",
            "37bc580736a94cfc9156a9165c9c5e63",
            "5dd693e797074777a44a8622393fd830",
            "6b9dfbeef2f24d32918c222b968b4434",
            "ec52aef786294aa79931a3ed11d6d603",
            "66758de3fed34078b45340506fa17d7f",
            "cd7b9a81c38c4cad807002ded8812ef9",
            "478073e793804a51a971ced58de9c429",
            "8f920c6f92a845509e9303b5a36ffe5f",
            "f2982e06658c421288d61a0ef3e61c44",
            "0f55867d27d84aaeb799e9114326afe2",
            "e75767c9524d439385682ed8df315ece",
            "45feb87cf70748789f7ec614d86b23cb",
            "8b02f88bb2334bbc924a9ee114b9ed2a",
            "fb53ce2c2d644f0b8b74721cd96622d2",
            "39e79cc612e64928bbef7ea89a69fbed",
            "acad640e802146a0969ec48149af3a6c"
          ]
        },
        "id": "3jtBQL89JQrS",
        "outputId": "d2c65e99-7269-4bf3-bd6f-546f72901140"
      },
      "execution_count": 27,
      "outputs": [
        {
          "output_type": "display_data",
          "data": {
            "text/plain": [
              "VBox(children=(HTML(value='<center> <img\\nsrc=https://huggingface.co/front/assets/huggingface_logo-noborder.sv…"
            ],
            "application/vnd.jupyter.widget-view+json": {
              "version_major": 2,
              "version_minor": 0,
              "model_id": "b6737234547144e9a1d8c1bc44a87853"
            }
          },
          "metadata": {}
        }
      ]
    },
    {
      "cell_type": "code",
      "source": [
        "!pip install vllm"
      ],
      "metadata": {
        "colab": {
          "base_uri": "https://localhost:8080/"
        },
        "id": "55po3FbHLFej",
        "outputId": "9018a874-8518-4c4e-a902-0a709bb30de2"
      },
      "execution_count": null,
      "outputs": [
        {
          "output_type": "stream",
          "name": "stdout",
          "text": [
            "\u001b[2K     \u001b[90m━━━━━━━━━━━━━━━━━━━━━━━━━━━━━━━━━━━━━━━━\u001b[0m \u001b[32m779.1/779.1 MB\u001b[0m \u001b[31m1.5 MB/s\u001b[0m eta \u001b[36m0:00:00\u001b[0m\n",
            "\u001b[?25hCollecting xformers==0.0.26.post1 (from vllm)\n",
            "  Downloading xformers-0.0.26.post1-cp310-cp310-manylinux2014_x86_64.whl (222.7 MB)\n",
            "\u001b[2K     \u001b[90m━━━━━━━━━━━━━━━━━━━━━━━━━━━━━━━━━━━━━━━━\u001b[0m \u001b[32m222.7/222.7 MB\u001b[0m \u001b[31m3.1 MB/s\u001b[0m eta \u001b[36m0:00:00\u001b[0m\n",
            "\u001b[?25hCollecting interegular>=0.3.2 (from lm-format-enforcer==0.9.8->vllm)\n",
            "  Downloading interegular-0.3.3-py37-none-any.whl (23 kB)\n",
            "Requirement already satisfied: packaging in /usr/local/lib/python3.10/dist-packages (from lm-format-enforcer==0.9.8->vllm) (23.2)\n",
            "Requirement already satisfied: pyyaml in /usr/local/lib/python3.10/dist-packages (from lm-format-enforcer==0.9.8->vllm) (6.0.1)\n",
            "Requirement already satisfied: jinja2 in /usr/local/lib/python3.10/dist-packages (from outlines==0.0.34->vllm) (3.1.4)\n",
            "Collecting lark (from outlines==0.0.34->vllm)\n",
            "  Downloading lark-1.1.9-py3-none-any.whl (111 kB)\n",
            "\u001b[2K     \u001b[90m━━━━━━━━━━━━━━━━━━━━━━━━━━━━━━━━━━━━━━━━\u001b[0m \u001b[32m111.7/111.7 kB\u001b[0m \u001b[31m12.8 MB/s\u001b[0m eta \u001b[36m0:00:00\u001b[0m\n",
            "\u001b[?25hRequirement already satisfied: nest-asyncio in /usr/local/lib/python3.10/dist-packages (from outlines==0.0.34->vllm) (1.6.0)\n",
            "Requirement already satisfied: cloudpickle in /usr/local/lib/python3.10/dist-packages (from outlines==0.0.34->vllm) (2.2.1)\n",
            "Collecting diskcache (from outlines==0.0.34->vllm)\n",
            "  Downloading diskcache-5.6.3-py3-none-any.whl (45 kB)\n",
            "\u001b[2K     \u001b[90m━━━━━━━━━━━━━━━━━━━━━━━━━━━━━━━━━━━━━━━━\u001b[0m \u001b[32m45.5/45.5 kB\u001b[0m \u001b[31m5.1 MB/s\u001b[0m eta \u001b[36m0:00:00\u001b[0m\n",
            "\u001b[?25hRequirement already satisfied: scipy in /usr/local/lib/python3.10/dist-packages (from outlines==0.0.34->vllm) (1.11.4)\n",
            "Requirement already satisfied: numba in /usr/local/lib/python3.10/dist-packages (from outlines==0.0.34->vllm) (0.58.1)\n",
            "Requirement already satisfied: joblib in /usr/local/lib/python3.10/dist-packages (from outlines==0.0.34->vllm) (1.4.2)\n",
            "Requirement already satisfied: referencing in /usr/local/lib/python3.10/dist-packages (from outlines==0.0.34->vllm) (0.35.1)\n",
            "Requirement already satisfied: jsonschema in /usr/local/lib/python3.10/dist-packages (from outlines==0.0.34->vllm) (4.19.2)\n",
            "Requirement already satisfied: regex>=2022.1.18 in /usr/local/lib/python3.10/dist-packages (from tiktoken==0.6.0->vllm) (2023.12.25)\n",
            "Requirement already satisfied: sympy in /usr/local/lib/python3.10/dist-packages (from torch==2.3.0->vllm) (1.12)\n",
            "Requirement already satisfied: networkx in /usr/local/lib/python3.10/dist-packages (from torch==2.3.0->vllm) (3.3)\n",
            "Requirement already satisfied: fsspec in /usr/local/lib/python3.10/dist-packages (from torch==2.3.0->vllm) (2023.6.0)\n",
            "Collecting nvidia-cuda-nvrtc-cu12==12.1.105 (from torch==2.3.0->vllm)\n",
            "  Using cached nvidia_cuda_nvrtc_cu12-12.1.105-py3-none-manylinux1_x86_64.whl (23.7 MB)\n",
            "Collecting nvidia-cuda-runtime-cu12==12.1.105 (from torch==2.3.0->vllm)\n",
            "  Using cached nvidia_cuda_runtime_cu12-12.1.105-py3-none-manylinux1_x86_64.whl (823 kB)\n",
            "Collecting nvidia-cuda-cupti-cu12==12.1.105 (from torch==2.3.0->vllm)\n",
            "  Using cached nvidia_cuda_cupti_cu12-12.1.105-py3-none-manylinux1_x86_64.whl (14.1 MB)\n",
            "Collecting nvidia-cudnn-cu12==8.9.2.26 (from torch==2.3.0->vllm)\n",
            "  Using cached nvidia_cudnn_cu12-8.9.2.26-py3-none-manylinux1_x86_64.whl (731.7 MB)\n",
            "Collecting nvidia-cublas-cu12==12.1.3.1 (from torch==2.3.0->vllm)\n",
            "  Using cached nvidia_cublas_cu12-12.1.3.1-py3-none-manylinux1_x86_64.whl (410.6 MB)\n",
            "Collecting nvidia-cufft-cu12==11.0.2.54 (from torch==2.3.0->vllm)\n",
            "  Using cached nvidia_cufft_cu12-11.0.2.54-py3-none-manylinux1_x86_64.whl (121.6 MB)\n",
            "Collecting nvidia-curand-cu12==10.3.2.106 (from torch==2.3.0->vllm)\n",
            "  Using cached nvidia_curand_cu12-10.3.2.106-py3-none-manylinux1_x86_64.whl (56.5 MB)\n",
            "Collecting nvidia-cusolver-cu12==11.4.5.107 (from torch==2.3.0->vllm)\n",
            "  Using cached nvidia_cusolver_cu12-11.4.5.107-py3-none-manylinux1_x86_64.whl (124.2 MB)\n",
            "Collecting nvidia-cusparse-cu12==12.1.0.106 (from torch==2.3.0->vllm)\n",
            "  Using cached nvidia_cusparse_cu12-12.1.0.106-py3-none-manylinux1_x86_64.whl (196.0 MB)\n",
            "Collecting nvidia-nccl-cu12==2.20.5 (from torch==2.3.0->vllm)\n",
            "  Downloading nvidia_nccl_cu12-2.20.5-py3-none-manylinux2014_x86_64.whl (176.2 MB)\n",
            "\u001b[2K     \u001b[90m━━━━━━━━━━━━━━━━━━━━━━━━━━━━━━━━━━━━━━━━\u001b[0m \u001b[32m176.2/176.2 MB\u001b[0m \u001b[31m3.2 MB/s\u001b[0m eta \u001b[36m0:00:00\u001b[0m\n",
            "\u001b[?25hCollecting nvidia-nvtx-cu12==12.1.105 (from torch==2.3.0->vllm)\n",
            "  Using cached nvidia_nvtx_cu12-12.1.105-py3-none-manylinux1_x86_64.whl (99 kB)\n",
            "Collecting triton==2.3.0 (from torch==2.3.0->vllm)\n",
            "  Downloading triton-2.3.0-cp310-cp310-manylinux_2_17_x86_64.manylinux2014_x86_64.whl (168.1 MB)\n",
            "\u001b[2K     \u001b[90m━━━━━━━━━━━━━━━━━━━━━━━━━━━━━━━━━━━━━━━━\u001b[0m \u001b[32m168.1/168.1 MB\u001b[0m \u001b[31m5.7 MB/s\u001b[0m eta \u001b[36m0:00:00\u001b[0m\n",
            "\u001b[?25hCollecting nvidia-nvjitlink-cu12 (from nvidia-cusolver-cu12==11.4.5.107->torch==2.3.0->vllm)\n",
            "  Using cached nvidia_nvjitlink_cu12-12.4.127-py3-none-manylinux2014_x86_64.whl (21.1 MB)\n",
            "Collecting starlette<1.0.0,>=0.30.0 (from prometheus-fastapi-instrumentator>=7.0.0->vllm)\n",
            "  Downloading starlette-0.37.2-py3-none-any.whl (71 kB)\n",
            "\u001b[2K     \u001b[90m━━━━━━━━━━━━━━━━━━━━━━━━━━━━━━━━━━━━━━━━\u001b[0m \u001b[32m71.9/71.9 kB\u001b[0m \u001b[31m8.0 MB/s\u001b[0m eta \u001b[36m0:00:00\u001b[0m\n",
            "\u001b[?25hRequirement already satisfied: annotated-types>=0.4.0 in /usr/local/lib/python3.10/dist-packages (from pydantic>=2.0->vllm) (0.6.0)\n",
            "Requirement already satisfied: pydantic-core==2.18.2 in /usr/local/lib/python3.10/dist-packages (from pydantic>=2.0->vllm) (2.18.2)\n",
            "Requirement already satisfied: click>=7.0 in /usr/local/lib/python3.10/dist-packages (from ray>=2.9->vllm) (8.1.7)\n",
            "Requirement already satisfied: msgpack<2.0.0,>=1.0.0 in /usr/local/lib/python3.10/dist-packages (from ray>=2.9->vllm) (1.0.8)\n",
            "Requirement already satisfied: protobuf!=3.19.5,>=3.15.3 in /usr/local/lib/python3.10/dist-packages (from ray>=2.9->vllm) (3.20.3)\n",
            "Requirement already satisfied: aiosignal in /usr/local/lib/python3.10/dist-packages (from ray>=2.9->vllm) (1.3.1)\n",
            "Requirement already satisfied: frozenlist in /usr/local/lib/python3.10/dist-packages (from ray>=2.9->vllm) (1.4.1)\n",
            "Requirement already satisfied: charset-normalizer<4,>=2 in /usr/local/lib/python3.10/dist-packages (from requests->vllm) (3.3.2)\n",
            "Requirement already satisfied: idna<4,>=2.5 in /usr/local/lib/python3.10/dist-packages (from requests->vllm) (3.7)\n",
            "Requirement already satisfied: urllib3<3,>=1.21.1 in /usr/local/lib/python3.10/dist-packages (from requests->vllm) (2.0.7)\n",
            "Requirement already satisfied: certifi>=2017.4.17 in /usr/local/lib/python3.10/dist-packages (from requests->vllm) (2024.2.2)\n",
            "Requirement already satisfied: huggingface-hub<1.0,>=0.16.4 in /usr/local/lib/python3.10/dist-packages (from tokenizers>=0.19.1->vllm) (0.20.3)\n",
            "Requirement already satisfied: safetensors>=0.4.1 in /usr/local/lib/python3.10/dist-packages (from transformers>=4.40.0->vllm) (0.4.3)\n",
            "Requirement already satisfied: tqdm>=4.27 in /usr/local/lib/python3.10/dist-packages (from transformers>=4.40.0->vllm) (4.66.4)\n",
            "Collecting fastapi-cli>=0.0.2 (from fastapi->vllm)\n",
            "  Downloading fastapi_cli-0.0.3-py3-none-any.whl (9.2 kB)\n",
            "Requirement already satisfied: httpx>=0.23.0 in /usr/local/lib/python3.10/dist-packages (from fastapi->vllm) (0.27.0)\n",
            "Collecting python-multipart>=0.0.7 (from fastapi->vllm)\n",
            "  Downloading python_multipart-0.0.9-py3-none-any.whl (22 kB)\n",
            "Collecting ujson!=4.0.2,!=4.1.0,!=4.2.0,!=4.3.0,!=5.0.0,!=5.1.0,>=4.0.1 (from fastapi->vllm)\n",
            "  Downloading ujson-5.9.0-cp310-cp310-manylinux_2_17_x86_64.manylinux2014_x86_64.whl (53 kB)\n",
            "\u001b[2K     \u001b[90m━━━━━━━━━━━━━━━━━━━━━━━━━━━━━━━━━━━━━━━━\u001b[0m \u001b[32m53.2/53.2 kB\u001b[0m \u001b[31m5.5 MB/s\u001b[0m eta \u001b[36m0:00:00\u001b[0m\n",
            "\u001b[?25hRequirement already satisfied: orjson>=3.2.1 in /usr/local/lib/python3.10/dist-packages (from fastapi->vllm) (3.10.3)\n",
            "Collecting email_validator>=2.0.0 (from fastapi->vllm)\n",
            "  Downloading email_validator-2.1.1-py3-none-any.whl (30 kB)\n",
            "Requirement already satisfied: h11>=0.8 in /usr/local/lib/python3.10/dist-packages (from uvicorn[standard]->vllm) (0.14.0)\n",
            "Collecting httptools>=0.5.0 (from uvicorn[standard]->vllm)\n",
            "  Downloading httptools-0.6.1-cp310-cp310-manylinux_2_5_x86_64.manylinux1_x86_64.manylinux_2_17_x86_64.manylinux2014_x86_64.whl (341 kB)\n",
            "\u001b[2K     \u001b[90m━━━━━━━━━━━━━━━━━━━━━━━━━━━━━━━━━━━━━━━━\u001b[0m \u001b[32m341.4/341.4 kB\u001b[0m \u001b[31m22.5 MB/s\u001b[0m eta \u001b[36m0:00:00\u001b[0m\n",
            "\u001b[?25hCollecting python-dotenv>=0.13 (from uvicorn[standard]->vllm)\n",
            "  Downloading python_dotenv-1.0.1-py3-none-any.whl (19 kB)\n",
            "Collecting uvloop!=0.15.0,!=0.15.1,>=0.14.0 (from uvicorn[standard]->vllm)\n",
            "  Downloading uvloop-0.19.0-cp310-cp310-manylinux_2_17_x86_64.manylinux2014_x86_64.whl (3.4 MB)\n",
            "\u001b[2K     \u001b[90m━━━━━━━━━━━━━━━━━━━━━━━━━━━━━━━━━━━━━━━━\u001b[0m \u001b[32m3.4/3.4 MB\u001b[0m \u001b[31m46.2 MB/s\u001b[0m eta \u001b[36m0:00:00\u001b[0m\n",
            "\u001b[?25hCollecting watchfiles>=0.13 (from uvicorn[standard]->vllm)\n",
            "  Downloading watchfiles-0.21.0-cp310-cp310-manylinux_2_17_x86_64.manylinux2014_x86_64.whl (1.3 MB)\n",
            "\u001b[2K     \u001b[90m━━━━━━━━━━━━━━━━━━━━━━━━━━━━━━━━━━━━━━━━\u001b[0m \u001b[32m1.3/1.3 MB\u001b[0m \u001b[31m48.5 MB/s\u001b[0m eta \u001b[36m0:00:00\u001b[0m\n",
            "\u001b[?25hCollecting websockets>=10.4 (from uvicorn[standard]->vllm)\n",
            "  Downloading websockets-12.0-cp310-cp310-manylinux_2_5_x86_64.manylinux1_x86_64.manylinux_2_17_x86_64.manylinux2014_x86_64.whl (130 kB)\n",
            "\u001b[2K     \u001b[90m━━━━━━━━━━━━━━━━━━━━━━━━━━━━━━━━━━━━━━━━\u001b[0m \u001b[32m130.2/130.2 kB\u001b[0m \u001b[31m12.9 MB/s\u001b[0m eta \u001b[36m0:00:00\u001b[0m\n",
            "\u001b[?25hRequirement already satisfied: aiohttp in /usr/local/lib/python3.10/dist-packages (from openai->vllm) (3.9.5)\n",
            "Collecting dnspython>=2.0.0 (from email_validator>=2.0.0->fastapi->vllm)\n",
            "  Downloading dnspython-2.6.1-py3-none-any.whl (307 kB)\n",
            "\u001b[2K     \u001b[90m━━━━━━━━━━━━━━━━━━━━━━━━━━━━━━━━━━━━━━━━\u001b[0m \u001b[32m307.7/307.7 kB\u001b[0m \u001b[31m23.8 MB/s\u001b[0m eta \u001b[36m0:00:00\u001b[0m\n",
            "\u001b[?25hCollecting typer>=0.12.3 (from fastapi-cli>=0.0.2->fastapi->vllm)\n",
            "  Downloading typer-0.12.3-py3-none-any.whl (47 kB)\n",
            "\u001b[2K     \u001b[90m━━━━━━━━━━━━━━━━━━━━━━━━━━━━━━━━━━━━━━━━\u001b[0m \u001b[32m47.2/47.2 kB\u001b[0m \u001b[31m4.3 MB/s\u001b[0m eta \u001b[36m0:00:00\u001b[0m\n",
            "\u001b[?25hRequirement already satisfied: anyio in /usr/local/lib/python3.10/dist-packages (from httpx>=0.23.0->fastapi->vllm) (3.7.1)\n",
            "Requirement already satisfied: httpcore==1.* in /usr/local/lib/python3.10/dist-packages (from httpx>=0.23.0->fastapi->vllm) (1.0.5)\n",
            "Requirement already satisfied: sniffio in /usr/local/lib/python3.10/dist-packages (from httpx>=0.23.0->fastapi->vllm) (1.3.1)\n",
            "Requirement already satisfied: MarkupSafe>=2.0 in /usr/local/lib/python3.10/dist-packages (from jinja2->outlines==0.0.34->vllm) (2.1.5)\n",
            "Requirement already satisfied: attrs>=17.3.0 in /usr/local/lib/python3.10/dist-packages (from aiohttp->openai->vllm) (23.2.0)\n",
            "Requirement already satisfied: multidict<7.0,>=4.5 in /usr/local/lib/python3.10/dist-packages (from aiohttp->openai->vllm) (6.0.5)\n",
            "Requirement already satisfied: yarl<2.0,>=1.0 in /usr/local/lib/python3.10/dist-packages (from aiohttp->openai->vllm) (1.9.4)\n",
            "Requirement already satisfied: async-timeout<5.0,>=4.0 in /usr/local/lib/python3.10/dist-packages (from aiohttp->openai->vllm) (4.0.3)\n",
            "Requirement already satisfied: jsonschema-specifications>=2023.03.6 in /usr/local/lib/python3.10/dist-packages (from jsonschema->outlines==0.0.34->vllm) (2023.12.1)\n",
            "Requirement already satisfied: rpds-py>=0.7.1 in /usr/local/lib/python3.10/dist-packages (from jsonschema->outlines==0.0.34->vllm) (0.18.1)\n",
            "Requirement already satisfied: llvmlite<0.42,>=0.41.0dev0 in /usr/local/lib/python3.10/dist-packages (from numba->outlines==0.0.34->vllm) (0.41.1)\n",
            "Requirement already satisfied: mpmath>=0.19 in /usr/local/lib/python3.10/dist-packages (from sympy->torch==2.3.0->vllm) (1.3.0)\n",
            "Requirement already satisfied: exceptiongroup in /usr/local/lib/python3.10/dist-packages (from anyio->httpx>=0.23.0->fastapi->vllm) (1.2.1)\n",
            "Collecting shellingham>=1.3.0 (from typer>=0.12.3->fastapi-cli>=0.0.2->fastapi->vllm)\n",
            "  Downloading shellingham-1.5.4-py2.py3-none-any.whl (9.8 kB)\n",
            "Requirement already satisfied: rich>=10.11.0 in /usr/local/lib/python3.10/dist-packages (from typer>=0.12.3->fastapi-cli>=0.0.2->fastapi->vllm) (13.7.1)\n",
            "Requirement already satisfied: markdown-it-py>=2.2.0 in /usr/local/lib/python3.10/dist-packages (from rich>=10.11.0->typer>=0.12.3->fastapi-cli>=0.0.2->fastapi->vllm) (3.0.0)\n",
            "Requirement already satisfied: pygments<3.0.0,>=2.13.0 in /usr/local/lib/python3.10/dist-packages (from rich>=10.11.0->typer>=0.12.3->fastapi-cli>=0.0.2->fastapi->vllm) (2.16.1)\n",
            "Requirement already satisfied: mdurl~=0.1 in /usr/local/lib/python3.10/dist-packages (from markdown-it-py>=2.2.0->rich>=10.11.0->typer>=0.12.3->fastapi-cli>=0.0.2->fastapi->vllm) (0.1.2)\n",
            "Building wheels for collected packages: vllm-nccl-cu12\n",
            "  Building wheel for vllm-nccl-cu12 (setup.py) ... \u001b[?25l\u001b[?25hdone\n",
            "  Created wheel for vllm-nccl-cu12: filename=vllm_nccl_cu12-2.18.1.0.4.0-py3-none-any.whl size=5418 sha256=27bac9d3488e8c8ca2a478c2631ca47b157bab16f5bd8b7600790afc88a96ab8\n",
            "  Stored in directory: /root/.cache/pip/wheels/d1/28/b5/e99e6ea84b08c0bf19a218d408316e55e02ff725d3616fb79d\n",
            "Successfully built vllm-nccl-cu12\n",
            "Installing collected packages: vllm-nccl-cu12, nvidia-ml-py, ninja, websockets, uvloop, uvicorn, ujson, triton, shellingham, python-multipart, python-dotenv, nvidia-nvtx-cu12, nvidia-nvjitlink-cu12, nvidia-nccl-cu12, nvidia-curand-cu12, nvidia-cufft-cu12, nvidia-cuda-runtime-cu12, nvidia-cuda-nvrtc-cu12, nvidia-cuda-cupti-cu12, nvidia-cublas-cu12, lark, interegular, httptools, dnspython, diskcache, watchfiles, starlette, nvidia-cusparse-cu12, nvidia-cudnn-cu12, email_validator, typer, prometheus-fastapi-instrumentator, nvidia-cusolver-cu12, lm-format-enforcer, torch, ray, xformers, outlines, fastapi-cli, fastapi, vllm\n",
            "  Attempting uninstall: triton\n",
            "    Found existing installation: triton 2.2.0\n",
            "    Uninstalling triton-2.2.0:\n",
            "      Successfully uninstalled triton-2.2.0\n",
            "  Attempting uninstall: typer\n",
            "    Found existing installation: typer 0.9.4\n",
            "    Uninstalling typer-0.9.4:\n",
            "      Successfully uninstalled typer-0.9.4\n",
            "  Attempting uninstall: torch\n",
            "    Found existing installation: torch 2.2.1+cu121\n",
            "    Uninstalling torch-2.2.1+cu121:\n",
            "      Successfully uninstalled torch-2.2.1+cu121\n"
          ]
        }
      ]
    },
    {
      "cell_type": "code",
      "source": [
        "!TORCH_CUDA_ARCH_LIST=\"7.5+PTX\" pip install git+https://github.com/casper-hansen/AutoAWQ_kernels.git@main"
      ],
      "metadata": {
        "id": "ijcb2nCyLH2X"
      },
      "execution_count": null,
      "outputs": []
    },
    {
      "cell_type": "code",
      "source": [
        "!pip install git+https://github.com/casper-hansen/AutoAWQ.git@main"
      ],
      "metadata": {
        "id": "XJj1YoiaLQKo"
      },
      "execution_count": null,
      "outputs": []
    },
    {
      "cell_type": "code",
      "source": [
        "import torch\n",
        "from tqdm import tqdm\n",
        "from transformers import AutoModelForCausalLM, AutoTokenizer, AwqConfig"
      ],
      "metadata": {
        "id": "B0f-NKgkLW7t"
      },
      "execution_count": null,
      "outputs": []
    },
    {
      "cell_type": "code",
      "source": [
        "import torch\n",
        "import awq_ext"
      ],
      "metadata": {
        "id": "fCl7eGewLWxi"
      },
      "execution_count": null,
      "outputs": []
    },
    {
      "cell_type": "code",
      "source": [
        "device = \"cuda\"\n",
        "\n",
        "# To fit the memory of a standard T4 GPU of a google colab, we'll use the quantized version of mistal 7b instruct\n",
        "# For faster inference, we can also use module fusing\n",
        "# quantization_config = AwqConfig(\n",
        "#     bits=4,\n",
        "#     fuse_max_seq_len=4096,\n",
        "#     do_fuse=True,\n",
        "# )\n",
        "model = AutoModelForCausalLM.from_pretrained(\n",
        "    \"TheBloke/Mistral-7B-Instruct-v0.2-AWQ\",\n",
        "#     quantization_config=quantization_config,\n",
        ").to(device)\n",
        "tokenizer = AutoTokenizer.from_pretrained(\"TheBloke/Mistral-7B-Instruct-v0.2-AWQ\")\n",
        "tokenizer.padding_side = \"left\""
      ],
      "metadata": {
        "id": "gwPIM7CsLaAQ"
      },
      "execution_count": null,
      "outputs": []
    },
    {
      "cell_type": "code",
      "source": [
        "# Prompt for generating topic tags\n",
        "topic_prompt = f\"Generate 5 topic tags for the given article:\\n{article_text}\\n---\\n\"\n",
        "# Prompt for generating article category tags\n",
        "category_prompt = f\"Generate 5 article category tags for the given article:\\n{article_text}\\n---\\n\"\n"
      ],
      "metadata": {
        "id": "lxCBfXP9LZ0n"
      },
      "execution_count": null,
      "outputs": []
    },
    {
      "cell_type": "code",
      "source": [
        "BATCH_SIZE = 1\n",
        "NUM_ITER = 2\n",
        "\n",
        "ALL_IDEAS = []\n",
        "\n",
        "messages = [{\"role\": \"user\", \"content\": PROMPT},]\n",
        "\n",
        "encodeds = tokenizer.apply_chat_template(messages, return_tensors=\"pt\")\n",
        "encodeds = encodeds.repeat(BATCH_SIZE, 1)\n",
        "len_prompt = encodeds.shape[1]\n",
        "model_inputs = encodeds.to(device)\n",
        "\n",
        "\n",
        "for _ in tqdm(range(NUM_ITER)):\n",
        "    generated_ids = model.generate(model_inputs, max_new_tokens=1024, do_sample=True)\n",
        "    generated_ids = generated_ids[:, len_prompt:]\n",
        "    decoded = tokenizer.batch_decode(generated_ids)\n",
        "\n",
        "    for dec_ in decoded:\n",
        "        try:\n",
        "            dec = dec_\n",
        "            dec = dec.replace(\"\", \"\").replace(\"\\n\\n\", \"\\n\")\n",
        "            dec = dec.split(\"\\n\")\n",
        "            dec = [el for el in dec if el[0].isdigit()]\n",
        "            if len(dec) != 10:\n",
        "                continue\n",
        "            dec = [\n",
        "                el[2:].strip() if el[:2] == f\"{idx + 1}.\" else el[3:].strip() if el[:3] == f\"{idx + 1}.\" else \"\"\n",
        "                for idx, el in enumerate(dec)\n",
        "            ]\n",
        "            dec = [el for el in dec if el]\n",
        "            if len(dec) != 10:\n",
        "                continue\n",
        "            ALL_IDEAS.extend(dec)\n",
        "        except Exception:\n",
        "            print(\"Skipped\")\n",
        "            pass\n",
        ""
      ],
      "metadata": {
        "id": "A1CmXe2EKKt1"
      },
      "execution_count": null,
      "outputs": []
    },
    {
      "cell_type": "code",
      "source": [
        "prompt = \"Hey, are you conscious? Can you talk to me?\"\n",
        "inputs = tokenizer(prompt, return_tensors=\"pt\")\n",
        "\n",
        "# Generate\n",
        "generate_ids = model.generate(inputs.input_ids, max_length=30)\n",
        "tokenizer.batch_decode(generate_ids, skip_special_tokens=True, clean_up_tokenization_spaces=False)[0]"
      ],
      "metadata": {
        "id": "qKdymQ1MJG8v"
      },
      "execution_count": null,
      "outputs": []
    },
    {
      "cell_type": "code",
      "source": [
        "rss_feed_url = 'https://news.google.com/rss/search?q=akwa%20ibom&hl=en-US&gl=US&ceid=US%3Aen'\n",
        "\n",
        "# Parse the RSS feed\n",
        "feed = feedparser.parse(rss_feed_url)\n",
        "\n",
        "# Get the latest 5 articles\n",
        "latest_articles = feed.entries[1:5]"
      ],
      "metadata": {
        "id": "3qL5iGJFsbYC"
      },
      "execution_count": 9,
      "outputs": []
    },
    {
      "cell_type": "code",
      "source": [
        "for article in latest_articles:\n",
        "    # Get the title and article URL\n",
        "    title = article.title\n",
        "    article_url = article.link\n",
        "\n",
        "    # Use newspaper3k to extract article text\n",
        "    article_text = \"\"\n",
        "    try:\n",
        "        news_article = Article(article_url)\n",
        "        news_article.download()\n",
        "        news_article.parse()\n",
        "        article_text = news_article.text\n",
        "    except Exception as e:\n",
        "        print(\"Error fetching article text:\", e)\n",
        "\n",
        "    print(\"Title:\", title)\n",
        "    print(\"Article URL:\", article_url)\n",
        "    print(\"Article Text:\", article_text[:600])  # Displaying the first 150 characters of the article text\n",
        "    print(\"-\" * 250)"
      ],
      "metadata": {
        "colab": {
          "base_uri": "https://localhost:8080/"
        },
        "id": "mYkXqzibsmJA",
        "outputId": "b747ef2d-fcca-4814-f5fc-6f58ada0f478"
      },
      "execution_count": 16,
      "outputs": [
        {
          "output_type": "stream",
          "name": "stdout",
          "text": [
            "Error fetching article text: Article `download()` failed with 403 Client Error: Forbidden for url: https://www.vanguardngr.com/2024/05/how-eno-stimulating-akwa-ibom-economy-through-entrepreneurship-development/ on URL https://news.google.com/rss/articles/CBMib2h0dHBzOi8vd3d3LnZhbmd1YXJkbmdyLmNvbS8yMDI0LzA1L2hvdy1lbm8tc3RpbXVsYXRpbmctYWt3YS1pYm9tLWVjb25vbXktdGhyb3VnaC1lbnRyZXByZW5ldXJzaGlwLWRldmVsb3BtZW50L9IBc2h0dHBzOi8vd3d3LnZhbmd1YXJkbmdyLmNvbS8yMDI0LzA1L2hvdy1lbm8tc3RpbXVsYXRpbmctYWt3YS1pYm9tLWVjb25vbXktdGhyb3VnaC1lbnRyZXByZW5ldXJzaGlwLWRldmVsb3BtZW50L2FtcC8?oc=5\n",
            "Title: How Eno stimulating Akwa Ibom economy through entrepreneurship development - Vanguard\n",
            "Article URL: https://news.google.com/rss/articles/CBMib2h0dHBzOi8vd3d3LnZhbmd1YXJkbmdyLmNvbS8yMDI0LzA1L2hvdy1lbm8tc3RpbXVsYXRpbmctYWt3YS1pYm9tLWVjb25vbXktdGhyb3VnaC1lbnRyZXByZW5ldXJzaGlwLWRldmVsb3BtZW50L9IBc2h0dHBzOi8vd3d3LnZhbmd1YXJkbmdyLmNvbS8yMDI0LzA1L2hvdy1lbm8tc3RpbXVsYXRpbmctYWt3YS1pYm9tLWVjb25vbXktdGhyb3VnaC1lbnRyZXByZW5ldXJzaGlwLWRldmVsb3BtZW50L2FtcC8?oc=5\n",
            "Article Text: \n",
            "--------------------------------------------------\n",
            "Title: EFCC Arrests Eight Suspected Internet Fraudsters In Akwa Ibom - Channels Television\n",
            "Article URL: https://news.google.com/rss/articles/CBMiZGh0dHBzOi8vd3d3LmNoYW5uZWxzdHYuY29tLzIwMjQvMDUvMDgvZWZjYy1hcnJlc3RzLWVpZ2h0LXN1c3BlY3RlZC1pbnRlcm5ldC1mcmF1ZHN0ZXJzLWluLWFrd2EtaWJvbS_SAWhodHRwczovL3d3dy5jaGFubmVsc3R2LmNvbS8yMDI0LzA1LzA4L2VmY2MtYXJyZXN0cy1laWdodC1zdXNwZWN0ZWQtaW50ZXJuZXQtZnJhdWRzdGVycy1pbi1ha3dhLWlib20vYW1wLw?oc=5\n",
            "Article Text: The Uyo Zonal Command of the Economic and Financial Crimes Commission (EFCC) says it has apprehended eight persons suspected to be involved in internet fraud in Akwa Ibom State.\n",
            "\n",
            "In a statement by the EFCC spokesperson, Dele Oyewale, on Wednesday, the Commission said the suspects were arrested on Thursday, May 2, 2024 at Osongama Extension area of the state following an actionable intelligence.\n",
            "\n",
            "Oyewale listed the items recovered from the suspects to include seven laptops, 13 smart phones, two wrist watches and one router.\n",
            "\n",
            "He added that the suspects would be charged to court as soon as invest\n",
            "--------------------------------------------------\n",
            "Title: As farming gets the driver’s seat in Akwa Ibom - Nigerian Observer\n",
            "Article URL: https://news.google.com/rss/articles/CBMiV2h0dHBzOi8vbmlnZXJpYW5vYnNlcnZlcm5ld3MuY29tLzIwMjQvMDUvYXMtZmFybWluZy1nZXRzLXRoZS1kcml2ZXJzLXNlYXQtaW4tYWt3YS1pYm9tL9IBW2h0dHBzOi8vbmlnZXJpYW5vYnNlcnZlcm5ld3MuY29tLzIwMjQvMDUvYXMtZmFybWluZy1nZXRzLXRoZS1kcml2ZXJzLXNlYXQtaW4tYWt3YS1pYm9tLz9hbXA?oc=5\n",
            "Article Text: As part of efforts to actualize the food security and sufficiency aspirations of the ARISE Agenda, Akwa Ibom State Governor, Pastor Umo Eno, has declared every first and third Friday of the month as work free days to enable workers to effectively engage in farming activities.\n",
            "\n",
            "This was part of Governor Eno’s declaration at the last 2024 May Day celebration with the theme, “People first.”\n",
            "\n",
            "The governor noted that since assumption of office, the government has made efforts to prioritize the welfare of workers, adding that his administration will continue to take care of workers’ welfare.\n",
            "\n",
            "Govern\n",
            "--------------------------------------------------\n",
            "Title: How entrepreneurship development is fast gaining traction in A/Ibom - Businessday\n",
            "Article URL: https://news.google.com/rss/articles/CBMiaGh0dHBzOi8vYnVzaW5lc3NkYXkubmcvbmV3cy9hcnRpY2xlL2hvdy1lbnRyZXByZW5ldXJzaGlwLWRldmVsb3BtZW50LWlzLWZhc3QtZ2FpbmluZy10cmFjdGlvbi1pbi1hLWlib20v0gEA?oc=5\n",
            "Article Text: …As 800 trainees get N400million grant\n",
            "\n",
            "Entrepreneurship development is fast gaining ground and the move to change the status of Akwa Ibom State from its erstwhile civil service toga to that of an emerging industrial hub appears to be in full swing.\n",
            "\n",
            "It all began with the launch of the ARISE Agenda by Governor Umo Eno as soon as he assumed office late last year, an economic blueprint designed to provide the roadmap towards the economic development of the state. As contained in the blueprint, the ARISE Agenda which is an acronym for Agriculture Revolution, Rural Development, Infrastructure Main\n",
            "--------------------------------------------------\n",
            "Title: OPINION: Cultural Similarities Between Akwa-Ibomites And Ndigbo - THEWILL NEWS MEDIA\n",
            "Article URL: https://news.google.com/rss/articles/CBMiV2h0dHBzOi8vdGhld2lsbG5ld3MuY29tL29waW5pb24tY3VsdHVyYWwtc2ltaWxhcml0aWVzLWJldHdlZW4tYWt3YS1pYm9taXRlcy1hbmQtbmRpZ2JvL9IBAA?oc=5\n",
            "Article Text: May 11, (THEWILL) – I lived in Uyo, Akwa-Ibom state, for four years. This was during my undergraduate days at the University of Uyo, where I studied Communication Arts. We had the best of times. We did not only go through the university, the university also went through us. We were very young and fully explored what Akwa-Ibom had to offer. We immersed ourselves in the culture and sampled local delicacies such as ‘404’ (dog meat) and palm wine etc. We, the Aba boys, dated mainly Akwa-Ibom students. They appeared to be more loving and caring. This was unlike our own sisters, who approached campu\n",
            "--------------------------------------------------\n"
          ]
        }
      ]
    },
    {
      "cell_type": "code",
      "source": [
        "from langchain_community.document_loaders import AsyncChromiumLoader\n",
        "from langchain_community.document_transformers import BeautifulSoupTransformer\n",
        "\n",
        "# Load HTML\n",
        "#rss_feed_url = 'https://news.google.com/rss/search?q=akwa%20ibom&hl=en-US&gl=US&ceid=US%3Aen'\n",
        "#loader = AsyncChromiumLoader([\"https://www.wsj.com\"])\n",
        "loader = AsyncChromiumLoader([\"https://news.google.com/rss/search?q=akwa%20ibom&hl=en-US&gl=US&ceid=US%3Aen\"])\n",
        "html = loader.load()"
      ],
      "metadata": {
        "id": "D0e2CPsKrdgH"
      },
      "execution_count": null,
      "outputs": []
    },
    {
      "cell_type": "code",
      "source": [],
      "metadata": {
        "id": "20YlM8eVrrKB"
      },
      "execution_count": null,
      "outputs": []
    },
    {
      "cell_type": "code",
      "execution_count": null,
      "metadata": {
        "id": "j_gg8Yg2nt7m"
      },
      "outputs": [],
      "source": [
        "!pip install feedparser newspaper3k openai"
      ]
    },
    {
      "cell_type": "code",
      "source": [
        "import feedparser\n",
        "import requests\n",
        "from bs4 import BeautifulSoup\n",
        "import openai\n",
        "from newspaper import Article"
      ],
      "metadata": {
        "id": "Edq8LpTDn5f0"
      },
      "execution_count": 2,
      "outputs": []
    },
    {
      "cell_type": "code",
      "source": [
        "# RSS feed URL\n",
        "rss_feed_url = 'https://news.google.com/rss/search?q=akwa%20ibom&hl=en-US&gl=US&ceid=US%3Aen'\n",
        "\n",
        "# Parse the RSS feed\n",
        "feed = feedparser.parse(rss_feed_url)\n",
        "\n",
        "# Get the latest 5 articles\n",
        "latest_articles = feed.entries[:1]"
      ],
      "metadata": {
        "id": "lTmzk-i6oKNK"
      },
      "execution_count": 3,
      "outputs": []
    },
    {
      "cell_type": "code",
      "source": [
        "feed"
      ],
      "metadata": {
        "id": "2eg47lEksE69"
      },
      "execution_count": null,
      "outputs": []
    },
    {
      "cell_type": "code",
      "source": [
        "latest_articles"
      ],
      "metadata": {
        "colab": {
          "base_uri": "https://localhost:8080/"
        },
        "id": "Q2H05LnZoSxi",
        "outputId": "4cb3a4eb-a1e3-43a7-fa77-90fd94dcb0c2"
      },
      "execution_count": 4,
      "outputs": [
        {
          "output_type": "execute_result",
          "data": {
            "text/plain": [
              "[{'title': 'How Eno stimulating Akwa Ibom economy through entrepreneurship development - Vanguard',\n",
              "  'title_detail': {'type': 'text/plain',\n",
              "   'language': None,\n",
              "   'base': 'https://news.google.com/rss/search?q=akwa%20ibom&hl=en-US&gl=US&ceid=US%3Aen',\n",
              "   'value': 'How Eno stimulating Akwa Ibom economy through entrepreneurship development - Vanguard'},\n",
              "  'links': [{'rel': 'alternate',\n",
              "    'type': 'text/html',\n",
              "    'href': 'https://news.google.com/rss/articles/CBMib2h0dHBzOi8vd3d3LnZhbmd1YXJkbmdyLmNvbS8yMDI0LzA1L2hvdy1lbm8tc3RpbXVsYXRpbmctYWt3YS1pYm9tLWVjb25vbXktdGhyb3VnaC1lbnRyZXByZW5ldXJzaGlwLWRldmVsb3BtZW50L9IBc2h0dHBzOi8vd3d3LnZhbmd1YXJkbmdyLmNvbS8yMDI0LzA1L2hvdy1lbm8tc3RpbXVsYXRpbmctYWt3YS1pYm9tLWVjb25vbXktdGhyb3VnaC1lbnRyZXByZW5ldXJzaGlwLWRldmVsb3BtZW50L2FtcC8?oc=5'}],\n",
              "  'link': 'https://news.google.com/rss/articles/CBMib2h0dHBzOi8vd3d3LnZhbmd1YXJkbmdyLmNvbS8yMDI0LzA1L2hvdy1lbm8tc3RpbXVsYXRpbmctYWt3YS1pYm9tLWVjb25vbXktdGhyb3VnaC1lbnRyZXByZW5ldXJzaGlwLWRldmVsb3BtZW50L9IBc2h0dHBzOi8vd3d3LnZhbmd1YXJkbmdyLmNvbS8yMDI0LzA1L2hvdy1lbm8tc3RpbXVsYXRpbmctYWt3YS1pYm9tLWVjb25vbXktdGhyb3VnaC1lbnRyZXByZW5ldXJzaGlwLWRldmVsb3BtZW50L2FtcC8?oc=5',\n",
              "  'id': 'CBMib2h0dHBzOi8vd3d3LnZhbmd1YXJkbmdyLmNvbS8yMDI0LzA1L2hvdy1lbm8tc3RpbXVsYXRpbmctYWt3YS1pYm9tLWVjb25vbXktdGhyb3VnaC1lbnRyZXByZW5ldXJzaGlwLWRldmVsb3BtZW50L9IBc2h0dHBzOi8vd3d3LnZhbmd1YXJkbmdyLmNvbS8yMDI0LzA1L2hvdy1lbm8tc3RpbXVsYXRpbmctYWt3YS1pYm9tLWVjb25vbXktdGhyb3VnaC1lbnRyZXByZW5ldXJzaGlwLWRldmVsb3BtZW50L2FtcC8',\n",
              "  'guidislink': False,\n",
              "  'published': 'Sun, 12 May 2024 16:32:45 GMT',\n",
              "  'published_parsed': time.struct_time(tm_year=2024, tm_mon=5, tm_mday=12, tm_hour=16, tm_min=32, tm_sec=45, tm_wday=6, tm_yday=133, tm_isdst=0),\n",
              "  'summary': '<a href=\"https://news.google.com/rss/articles/CBMib2h0dHBzOi8vd3d3LnZhbmd1YXJkbmdyLmNvbS8yMDI0LzA1L2hvdy1lbm8tc3RpbXVsYXRpbmctYWt3YS1pYm9tLWVjb25vbXktdGhyb3VnaC1lbnRyZXByZW5ldXJzaGlwLWRldmVsb3BtZW50L9IBc2h0dHBzOi8vd3d3LnZhbmd1YXJkbmdyLmNvbS8yMDI0LzA1L2hvdy1lbm8tc3RpbXVsYXRpbmctYWt3YS1pYm9tLWVjb25vbXktdGhyb3VnaC1lbnRyZXByZW5ldXJzaGlwLWRldmVsb3BtZW50L2FtcC8?oc=5\" target=\"_blank\">How Eno stimulating Akwa Ibom economy through entrepreneurship development</a>&nbsp;&nbsp;<font color=\"#6f6f6f\">Vanguard</font>',\n",
              "  'summary_detail': {'type': 'text/html',\n",
              "   'language': None,\n",
              "   'base': 'https://news.google.com/rss/search?q=akwa%20ibom&hl=en-US&gl=US&ceid=US%3Aen',\n",
              "   'value': '<a href=\"https://news.google.com/rss/articles/CBMib2h0dHBzOi8vd3d3LnZhbmd1YXJkbmdyLmNvbS8yMDI0LzA1L2hvdy1lbm8tc3RpbXVsYXRpbmctYWt3YS1pYm9tLWVjb25vbXktdGhyb3VnaC1lbnRyZXByZW5ldXJzaGlwLWRldmVsb3BtZW50L9IBc2h0dHBzOi8vd3d3LnZhbmd1YXJkbmdyLmNvbS8yMDI0LzA1L2hvdy1lbm8tc3RpbXVsYXRpbmctYWt3YS1pYm9tLWVjb25vbXktdGhyb3VnaC1lbnRyZXByZW5ldXJzaGlwLWRldmVsb3BtZW50L2FtcC8?oc=5\" target=\"_blank\">How Eno stimulating Akwa Ibom economy through entrepreneurship development</a>&nbsp;&nbsp;<font color=\"#6f6f6f\">Vanguard</font>'},\n",
              "  'source': {'href': 'https://www.vanguardngr.com', 'title': 'Vanguard'}}]"
            ]
          },
          "metadata": {},
          "execution_count": 4
        }
      ]
    },
    {
      "cell_type": "code",
      "source": [],
      "metadata": {
        "id": "6I6vIFbqohNP"
      },
      "execution_count": null,
      "outputs": []
    }
  ]
}