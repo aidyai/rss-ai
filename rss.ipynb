{
  "nbformat": 4,
  "nbformat_minor": 0,
  "metadata": {
    "colab": {
      "provenance": [],
      "authorship_tag": "ABX9TyM+jhG15lrsJ+Se9rUxi/mc",
      "include_colab_link": true
    },
    "kernelspec": {
      "name": "python3",
      "display_name": "Python 3"
    },
    "language_info": {
      "name": "python"
    }
  },
  "cells": [
    {
      "cell_type": "markdown",
      "metadata": {
        "id": "view-in-github",
        "colab_type": "text"
      },
      "source": [
        "<a href=\"https://colab.research.google.com/github/aidyai/rss-ai/blob/main/rss.ipynb\" target=\"_parent\"><img src=\"https://colab.research.google.com/assets/colab-badge.svg\" alt=\"Open In Colab\"/></a>"
      ]
    },
    {
      "cell_type": "code",
      "source": [
        "%pip install --upgrade --quiet  apify-client langchain-openai langchain\n",
        "!pip install feedparser newspaper3k openai\n",
        "!pip install openai==0.28\n",
        "!pip install replicate"
      ],
      "metadata": {
        "id": "y0OflDvi93wl",
        "colab": {
          "base_uri": "https://localhost:8080/"
        },
        "outputId": "c36481db-e6d8-40c0-f534-515264e15011"
      },
      "execution_count": 16,
      "outputs": [
        {
          "output_type": "stream",
          "name": "stdout",
          "text": [
            "Installing collected packages: replicate\n",
            "Successfully installed replicate-0.25.2\n"
          ]
        }
      ]
    },
    {
      "cell_type": "code",
      "source": [
        "from langchain.indexes import VectorstoreIndexCreator\n",
        "from langchain_community.utilities import ApifyWrapper\n",
        "from langchain_core.documents import Document\n",
        "\n",
        "import feedparser\n",
        "import requests\n",
        "from bs4 import BeautifulSoup\n",
        "import openai\n",
        "from newspaper import Article"
      ],
      "metadata": {
        "id": "4Z5ch9luxTih"
      },
      "execution_count": 2,
      "outputs": []
    },
    {
      "cell_type": "code",
      "source": [
        "import os\n",
        "os.environ[\"APIFY_API_TOKEN\"] = \"\"\n",
        "os.environ[\"OPENAI_API_KEY\"] = \"\"\n"
      ],
      "metadata": {
        "id": "eb4VGy4JyC5h"
      },
      "execution_count": 34,
      "outputs": []
    },
    {
      "cell_type": "markdown",
      "source": [
        "## ARTICLE EXTRACTION: This code only extracts onearticle but can be modified to work for the latest 10, 50 or 20 articles"
      ],
      "metadata": {
        "id": "NQ8cXLmVKMCw"
      }
    },
    {
      "cell_type": "code",
      "source": [
        "# RSS feed URL\n",
        "rss_feed_url = 'https://news.google.com/rss/search?q=akwa%20ibom&hl=en-US&gl=US&ceid=US%3Aen'\n",
        "\n",
        "# Parse the RSS feed\n",
        "feed = feedparser.parse(rss_feed_url)\n",
        "\n",
        "# Get the latest just one articles\n",
        "latest_articles = feed.entries[8:9]   # we just yse one for speed"
      ],
      "metadata": {
        "id": "rXW2h3SD3cBf"
      },
      "execution_count": 45,
      "outputs": []
    },
    {
      "cell_type": "code",
      "source": [
        "print(latest_articles)"
      ],
      "metadata": {
        "colab": {
          "base_uri": "https://localhost:8080/"
        },
        "id": "PL8pWJmsMJrL",
        "outputId": "b827e63f-d51e-460e-a5a9-ba2e1daa94c6"
      },
      "execution_count": 49,
      "outputs": [
        {
          "output_type": "stream",
          "name": "stdout",
          "text": [
            "[{'title': 'EFCC arrests 21 suspected internet fraudsters in Uyo - News Diary', 'title_detail': {'type': 'text/plain', 'language': None, 'base': 'https://news.google.com/rss/search?q=akwa%20ibom&hl=en-US&gl=US&ceid=US%3Aen', 'value': 'EFCC arrests 21 suspected internet fraudsters in Uyo - News Diary'}, 'links': [{'rel': 'alternate', 'type': 'text/html', 'href': 'https://news.google.com/rss/articles/CBMiUWh0dHBzOi8vbmV3c2RpYXJ5b25saW5lLmNvbS9lZmNjLWFycmVzdHMtMjEtc3VzcGVjdGVkLWludGVybmV0LWZyYXVkc3RlcnMtaW4tdXlvL9IBAA?oc=5'}], 'link': 'https://news.google.com/rss/articles/CBMiUWh0dHBzOi8vbmV3c2RpYXJ5b25saW5lLmNvbS9lZmNjLWFycmVzdHMtMjEtc3VzcGVjdGVkLWludGVybmV0LWZyYXVkc3RlcnMtaW4tdXlvL9IBAA?oc=5', 'id': 'CBMiUWh0dHBzOi8vbmV3c2RpYXJ5b25saW5lLmNvbS9lZmNjLWFycmVzdHMtMjEtc3VzcGVjdGVkLWludGVybmV0LWZyYXVkc3RlcnMtaW4tdXlvL9IBAA', 'guidislink': False, 'published': 'Fri, 10 May 2024 09:14:50 GMT', 'published_parsed': time.struct_time(tm_year=2024, tm_mon=5, tm_mday=10, tm_hour=9, tm_min=14, tm_sec=50, tm_wday=4, tm_yday=131, tm_isdst=0), 'summary': '<a href=\"https://news.google.com/rss/articles/CBMiUWh0dHBzOi8vbmV3c2RpYXJ5b25saW5lLmNvbS9lZmNjLWFycmVzdHMtMjEtc3VzcGVjdGVkLWludGVybmV0LWZyYXVkc3RlcnMtaW4tdXlvL9IBAA?oc=5\" target=\"_blank\">EFCC arrests 21 suspected internet fraudsters in Uyo</a>&nbsp;&nbsp;<font color=\"#6f6f6f\">News Diary</font>', 'summary_detail': {'type': 'text/html', 'language': None, 'base': 'https://news.google.com/rss/search?q=akwa%20ibom&hl=en-US&gl=US&ceid=US%3Aen', 'value': '<a href=\"https://news.google.com/rss/articles/CBMiUWh0dHBzOi8vbmV3c2RpYXJ5b25saW5lLmNvbS9lZmNjLWFycmVzdHMtMjEtc3VzcGVjdGVkLWludGVybmV0LWZyYXVkc3RlcnMtaW4tdXlvL9IBAA?oc=5\" target=\"_blank\">EFCC arrests 21 suspected internet fraudsters in Uyo</a>&nbsp;&nbsp;<font color=\"#6f6f6f\">News Diary</font>'}, 'source': {'href': 'https://newsdiaryonline.com', 'title': 'News Diary'}}]\n"
          ]
        }
      ]
    },
    {
      "cell_type": "code",
      "source": [
        "apify = ApifyWrapper()"
      ],
      "metadata": {
        "id": "ERFb7-OOxcHz"
      },
      "execution_count": 46,
      "outputs": []
    },
    {
      "cell_type": "code",
      "source": [
        "title = []\n",
        "urls_to_crawl = []\n",
        "\n",
        "for article in latest_articles:\n",
        "\n",
        "    # extracting the title and article URL\n",
        "    title = article.title\n",
        "    article_url = article.link\n",
        "\n",
        "\n",
        "\n",
        "    # Appending the article title and URL\n",
        "    #title.append({\"title\": title})\n",
        "    urls_to_crawl.append({\"url\": article_url})"
      ],
      "metadata": {
        "id": "eiRa4Kz34drb"
      },
      "execution_count": 47,
      "outputs": []
    },
    {
      "cell_type": "code",
      "source": [
        "print(urls_to_crawl)"
      ],
      "metadata": {
        "colab": {
          "base_uri": "https://localhost:8080/"
        },
        "id": "4mdeP7pTMUaZ",
        "outputId": "c33aa825-4236-4a3c-fc7c-703f852eab92"
      },
      "execution_count": 50,
      "outputs": [
        {
          "output_type": "stream",
          "name": "stdout",
          "text": [
            "[{'url': 'https://news.google.com/rss/articles/CBMiUWh0dHBzOi8vbmV3c2RpYXJ5b25saW5lLmNvbS9lZmNjLWFycmVzdHMtMjEtc3VzcGVjdGVkLWludGVybmV0LWZyYXVkc3RlcnMtaW4tdXlvL9IBAA?oc=5'}]\n"
          ]
        }
      ]
    },
    {
      "cell_type": "code",
      "source": [
        "#this functions looks into the urls_to_crawl and extracts its text\n",
        "loader = apify.call_actor(\n",
        "    actor_id=\"apify/website-content-crawler\",\n",
        "    run_input={\"startUrls\": urls_to_crawl},\n",
        "    dataset_mapping_function=lambda item: Document(\n",
        "        page_content=item[\"text\"] or \"\", metadata={\"source\": item[\"url\"]}\n",
        "    ),\n",
        ")"
      ],
      "metadata": {
        "id": "5HUb_oiQMBAP"
      },
      "execution_count": null,
      "outputs": []
    },
    {
      "cell_type": "markdown",
      "source": [
        "# Extracting the title, article_url and article_text for the latest 10 articles"
      ],
      "metadata": {
        "id": "50cIC3aBIHpu"
      }
    },
    {
      "cell_type": "code",
      "source": [
        "print(title)                      #EXTRACTED TITLE\n",
        "print(urls_to_crawl)              #EXTRACTED URL\n",
        "\n",
        "article_text = loader.load()\n",
        "article_text                      #EXTRACTED ARTICLE TEXY"
      ],
      "metadata": {
        "colab": {
          "base_uri": "https://localhost:8080/"
        },
        "id": "W5gfC4ajI7wB",
        "outputId": "6d77c541-adcd-479b-dbb2-3a9e395180d1"
      },
      "execution_count": 48,
      "outputs": [
        {
          "output_type": "stream",
          "name": "stdout",
          "text": [
            "EFCC arrests 21 suspected internet fraudsters in Uyo - News Diary\n",
            "[{'url': 'https://news.google.com/rss/articles/CBMiUWh0dHBzOi8vbmV3c2RpYXJ5b25saW5lLmNvbS9lZmNjLWFycmVzdHMtMjEtc3VzcGVjdGVkLWludGVybmV0LWZyYXVkc3RlcnMtaW4tdXlvL9IBAA?oc=5'}]\n"
          ]
        },
        {
          "output_type": "execute_result",
          "data": {
            "text/plain": [
              "[Document(page_content='Opening https://newsdiaryonline.com/efcc-arrests-21-suspected-internet-fraudsters-in-uyo/', metadata={'source': 'https://news.google.com/rss/articles/CBMiUWh0dHBzOi8vbmV3c2RpYXJ5b25saW5lLmNvbS9lZmNjLWFycmVzdHMtMjEtc3VzcGVjdGVkLWludGVybmV0LWZyYXVkc3RlcnMtaW4tdXlvL9IBAA?oc=5'})]"
            ]
          },
          "metadata": {},
          "execution_count": 48
        }
      ]
    },
    {
      "cell_type": "code",
      "source": [
        "import json\n",
        "# Extracting content from the list\n",
        "extracted_content = [document.page_content for document in article_text]"
      ],
      "metadata": {
        "id": "oC-PHsTlDbT2"
      },
      "execution_count": 43,
      "outputs": []
    },
    {
      "cell_type": "code",
      "source": [
        "extracted_content"
      ],
      "metadata": {
        "colab": {
          "base_uri": "https://localhost:8080/"
        },
        "id": "PIYFLATzLR5D",
        "outputId": "5a0f562a-6dd8-473b-f7cb-71555e9e9652"
      },
      "execution_count": 44,
      "outputs": [
        {
          "output_type": "execute_result",
          "data": {
            "text/plain": [
              "['']"
            ]
          },
          "metadata": {},
          "execution_count": 44
        }
      ]
    },
    {
      "cell_type": "code",
      "source": [
        "import openai\n",
        "# Send the content to OpenAI to get topic and category tags\n",
        "response = openai.Completion.create(\n",
        "    model=\"gpt-3.5-turbo-instruct\",\n",
        "    prompt=extracted_content,\n",
        "    max_tokens=50,  # Adjust as needed\n",
        "    n=1,  # Number of completions to generate\n",
        "    stop=[\"\\n\"],  # Stop completion at the end of the text\n",
        "    temperature=0.5,  # Adjust as needed\n",
        "    top_p=1.0,\n",
        "    frequency_penalty=0.0,\n",
        "    presence_penalty=0.0,\n",
        "    logit_bias={},\n",
        "    logprobs=0,\n",
        "    echo=True  # Print the input prompt along with the completion\n",
        ")\n"
      ],
      "metadata": {
        "id": "tOpY9oDeAKOU"
      },
      "execution_count": 13,
      "outputs": []
    },
    {
      "cell_type": "markdown",
      "source": [
        "# USING REPLICATE API TO CALL POWERFUL LARGE LANGUAGE MODELS"
      ],
      "metadata": {
        "id": "UKfMIX5F_xc-"
      }
    },
    {
      "cell_type": "code",
      "source": [
        "import replicate"
      ],
      "metadata": {
        "id": "u-D_wSK1_-vp"
      },
      "execution_count": 17,
      "outputs": []
    },
    {
      "cell_type": "code",
      "source": [
        "import os\n",
        "import replicate\n",
        "from replicate.client import Client\n",
        "\n",
        "replicate = Client(api_token=\"\")"
      ],
      "metadata": {
        "id": "2yPWvXVw_XHp"
      },
      "execution_count": 26,
      "outputs": []
    },
    {
      "cell_type": "markdown",
      "source": [
        "## USING MISTRAL 8x7B via Replicate Api"
      ],
      "metadata": {
        "id": "LaCLrs3rFpUx"
      }
    },
    {
      "cell_type": "code",
      "source": [
        "for event in replicate.stream(\n",
        "    \"mistralai/mixtral-8x7b-instruct-v0.1\",\n",
        "    input={\n",
        "        \"top_k\": 50,\n",
        "        \"top_p\": 0.9,\n",
        "        \"prompt\": f\"Generate 5 'TOPIC TAGS' AND 'CATEGPRY TAGS' for the given article\\ {extracted_content}\",\n",
        "        \"temperature\": 0.6,\n",
        "        \"system_prompt\": \"YOU ARE AN AI ASSIATAT THAT CAN GENERATE topic tags AND  article category tags\",\n",
        "        \"length_penalty\": 1,\n",
        "        \"max_new_tokens\": 1024,\n",
        "        \"prompt_template\": \"<s>[INST] {prompt} [/INST] \",\n",
        "        \"presence_penalty\": 0\n",
        "    },\n",
        "):\n",
        "    print(str(event), end=\"\")"
      ],
      "metadata": {
        "colab": {
          "base_uri": "https://localhost:8080/"
        },
        "id": "xEPAbW0mBrTg",
        "outputId": "40840300-8841-4046-d950-ae7cc7093e09"
      },
      "execution_count": 31,
      "outputs": [
        {
          "output_type": "stream",
          "name": "stdout",
          "text": [
            "1. Topic Tags: Oil Production, NNPC, Natural Oilfield Services Ltd, OML 1"
          ]
        }
      ]
    },
    {
      "cell_type": "markdown",
      "source": [
        "## USING METAS LLAMA 3 Via Replicate Api"
      ],
      "metadata": {
        "id": "hLiOwxjvF1Ok"
      }
    },
    {
      "cell_type": "code",
      "source": [
        "for event in replicate.stream(\n",
        "    \"meta/meta-llama-3-70b-instruct\",\n",
        "    input={\n",
        "        \"top_k\": 0,\n",
        "        \"top_p\": 0.9,\n",
        "        \"prompt\": f\"Generate 5 'TOPIC TAGS' AND 'CATEGPRY TAGS' for the given article\\ {extracted_content}\",\n",
        "        \"max_tokens\": 650,\n",
        "        \"min_tokens\": 0,\n",
        "        \"temperature\": 0.6,\n",
        "        \"system_prompt\": \"YOU ARE AN AI ASSITANT THAT CAN GENERATE topic tags AND article category tags\",\n",
        "        \"length_penalty\": 1,\n",
        "        \"stop_sequences\": \"<|end_of_text|>,<|eot_id|>\",\n",
        "        \"prompt_template\": \"<|begin_of_text|><|start_header_id|>system<|end_header_id|>\\n\\nYou are a helpful assistant<|eot_id|><|start_header_id|>user<|end_header_id|>\\n\\n{prompt}<|eot_id|><|start_header_id|>assistant<|end_header_id|>\\n\\n\",\n",
        "        \"presence_penalty\": 1.15,\n",
        "        \"log_performance_metrics\": False\n",
        "    },\n",
        "):\n",
        "    print(str(event), end=\"\")"
      ],
      "metadata": {
        "colab": {
          "base_uri": "https://localhost:8080/"
        },
        "id": "TLK6pWJVF54H",
        "outputId": "00fa6a5b-22e4-43c1-8000-be460b6d00f0"
      },
      "execution_count": 33,
      "outputs": [
        {
          "output_type": "stream",
          "name": "stdout",
          "text": [
            "Here are five topic tags and five category tags for the given article:\n",
            "\n",
            "**Topic Tags:**\n",
            "\n",
            "1. Oil Production\n",
            "2. Nigeria Energy Sector\n",
            "3. NNPC E&P Ltd\n",
            "4. Natural Oilfield Services Ltd\n",
            "5. Oil Mining Lease (OML) 13\n",
            "\n",
            "**Category Tags:**\n",
            "\n",
            "1. Business\n",
            "2. Energy\n",
            "3. Nigeria News\n",
            "4. Oil and Gas\n",
            "5. Economy"
          ]
        }
      ]
    },
    {
      "cell_type": "markdown",
      "source": [],
      "metadata": {
        "id": "cvQpwx0ZFwnv"
      }
    }
  ]
}